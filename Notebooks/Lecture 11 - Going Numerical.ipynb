{
 "cells": [
  {
   "cell_type": "markdown",
   "id": "4f89cbfd-f7ce-4b81-bc54-a3229213ae46",
   "metadata": {},
   "source": [
    "# Going Numerical"
   ]
  },
  {
   "cell_type": "code",
   "execution_count": 3,
   "id": "1dfa9c2b-a0ac-4a4e-a9bf-953ec7fce446",
   "metadata": {},
   "outputs": [],
   "source": [
    "import sympy as sp"
   ]
  },
  {
   "cell_type": "code",
   "execution_count": 4,
   "id": "9902ef09-7aa1-4966-a6c9-52393e26bba7",
   "metadata": {},
   "outputs": [],
   "source": [
    "x = sp.Symbol('x')"
   ]
  },
  {
   "cell_type": "markdown",
   "id": "19bdbdbb-7592-4654-828f-cfed0215d9f2",
   "metadata": {},
   "source": [
    "## Floating Point Numbers with ```evalf()```"
   ]
  },
  {
   "cell_type": "markdown",
   "id": "3c3ab22e-af49-4747-a310-b57e032e0c50",
   "metadata": {},
   "source": [
    "We have previously seen the ```subs()``` function for substituting values into an expression. However, to be able to get floating-point numbers, we will need the function ```evalf()```:"
   ]
  },
  {
   "cell_type": "code",
   "execution_count": 7,
   "id": "8687d3e5-6636-4794-b907-071b397160de",
   "metadata": {},
   "outputs": [
    {
     "data": {
      "text/latex": [
       "$\\displaystyle \\pi x^{2} + 5 x + e$"
      ],
      "text/plain": [
       "pi*x**2 + 5*x + E"
      ]
     },
     "execution_count": 7,
     "metadata": {},
     "output_type": "execute_result"
    }
   ],
   "source": [
    "expr = sp.pi * x**2 + 5 * x + sp.E\n",
    "expr"
   ]
  },
  {
   "cell_type": "code",
   "execution_count": 8,
   "id": "acbd0daf-6499-42b2-a08c-acb637787fe8",
   "metadata": {},
   "outputs": [
    {
     "data": {
      "text/latex": [
       "$\\displaystyle e + \\pi + 5$"
      ],
      "text/plain": [
       "E + pi + 5"
      ]
     },
     "execution_count": 8,
     "metadata": {},
     "output_type": "execute_result"
    }
   ],
   "source": [
    "value = expr.subs(x, 1)\n",
    "value"
   ]
  },
  {
   "cell_type": "markdown",
   "id": "ad0e69b7-866f-498c-8a4b-2ab064b5f5eb",
   "metadata": {},
   "source": [
    "#### Getting the floating-point number (evalf for \"evaluta function\")"
   ]
  },
  {
   "cell_type": "code",
   "execution_count": 9,
   "id": "e2ae7e4d-34fa-4e28-b038-625c4e3ca088",
   "metadata": {},
   "outputs": [
    {
     "data": {
      "text/latex": [
       "$\\displaystyle 10.8598744820488$"
      ],
      "text/plain": [
       "10.8598744820488"
      ]
     },
     "execution_count": 9,
     "metadata": {},
     "output_type": "execute_result"
    }
   ],
   "source": [
    "value.evalf()"
   ]
  },
  {
   "cell_type": "code",
   "execution_count": 10,
   "id": "e1d454c9-1f5f-42a8-a1a6-f40d8f946fc6",
   "metadata": {},
   "outputs": [
    {
     "data": {
      "text/plain": [
       "sympy.core.numbers.Float"
      ]
     },
     "execution_count": 10,
     "metadata": {},
     "output_type": "execute_result"
    }
   ],
   "source": [
    "type(value.evalf())"
   ]
  },
  {
   "cell_type": "code",
   "execution_count": 12,
   "id": "47e134df-4b92-4df3-b794-99be46c2ca64",
   "metadata": {},
   "outputs": [
    {
     "data": {
      "text/plain": [
       "10.859874482048838"
      ]
     },
     "execution_count": 12,
     "metadata": {},
     "output_type": "execute_result"
    }
   ],
   "source": [
    "float(value.evalf())"
   ]
  },
  {
   "cell_type": "markdown",
   "id": "9b24ba8c-54a7-48ef-b024-6942cb3216f5",
   "metadata": {},
   "source": [
    "#### Can specify precision"
   ]
  },
  {
   "cell_type": "code",
   "execution_count": 15,
   "id": "12f6a044-8f19-4562-8b82-20249ce89ebc",
   "metadata": {},
   "outputs": [
    {
     "data": {
      "text/latex": [
       "$\\displaystyle 10.859874$"
      ],
      "text/plain": [
       "10.859874"
      ]
     },
     "execution_count": 15,
     "metadata": {},
     "output_type": "execute_result"
    }
   ],
   "source": [
    "value.evalf(8)"
   ]
  },
  {
   "cell_type": "markdown",
   "id": "64f59e4d-b887-49c8-b76c-b1d0d21feba2",
   "metadata": {},
   "source": [
    "#### Alternative syntax (N for numerical)"
   ]
  },
  {
   "cell_type": "code",
   "execution_count": 17,
   "id": "fe9017b2-086b-4b8c-b357-50acc6f87b60",
   "metadata": {},
   "outputs": [
    {
     "data": {
      "text/latex": [
       "$\\displaystyle 10.8598744820488$"
      ],
      "text/plain": [
       "10.8598744820488"
      ]
     },
     "execution_count": 17,
     "metadata": {},
     "output_type": "execute_result"
    }
   ],
   "source": [
    "sp.N(value)"
   ]
  },
  {
   "cell_type": "code",
   "execution_count": 18,
   "id": "3c36d18e-381d-4bbe-9da3-34654bdcb397",
   "metadata": {},
   "outputs": [
    {
     "data": {
      "text/latex": [
       "$\\displaystyle 10.859874$"
      ],
      "text/plain": [
       "10.859874"
      ]
     },
     "execution_count": 18,
     "metadata": {},
     "output_type": "execute_result"
    }
   ],
   "source": [
    "sp.N(value, 8)"
   ]
  },
  {
   "cell_type": "markdown",
   "id": "65f8fea5-85a7-4131-ba97-327c0795216f",
   "metadata": {},
   "source": [
    "## Going Numerical with Lambdify"
   ]
  },
  {
   "cell_type": "markdown",
   "id": "099c1954-2ce7-4b4d-b2c6-6cc1400bad4d",
   "metadata": {},
   "source": [
    "Unfortunately, using ```evalf()``` is very slow. So if you have many points that you want to evaluate an expression at (which we do when we plot something), then you should use ```lambdify()``` instead."
   ]
  },
  {
   "cell_type": "markdown",
   "id": "e72e92bb-18ef-4df4-9465-736353eab1b7",
   "metadata": {},
   "source": [
    "### Lambdifying the expression"
   ]
  },
  {
   "cell_type": "code",
   "execution_count": 21,
   "id": "ff116559-5f72-4f5b-aeff-71698dcba0b8",
   "metadata": {},
   "outputs": [
    {
     "data": {
      "text/latex": [
       "$\\displaystyle \\pi x^{2} + 5 x + e$"
      ],
      "text/plain": [
       "pi*x**2 + 5*x + E"
      ]
     },
     "execution_count": 21,
     "metadata": {},
     "output_type": "execute_result"
    }
   ],
   "source": [
    "expr = sp.pi * x ** 2 + 5 * x + sp.E\n",
    "expr"
   ]
  },
  {
   "cell_type": "code",
   "execution_count": 22,
   "id": "a505e8ad-2300-4ce0-b431-c6af3140a2cd",
   "metadata": {},
   "outputs": [
    {
     "data": {
      "text/plain": [
       "<function _lambdifygenerated(x)>"
      ]
     },
     "execution_count": 22,
     "metadata": {},
     "output_type": "execute_result"
    }
   ],
   "source": [
    "lambdified_expression = sp.lambdify(x, expr)\n",
    "lambdified_expression"
   ]
  },
  {
   "cell_type": "markdown",
   "id": "871f6824-fdb7-493f-8f44-535191b0a8c2",
   "metadata": {},
   "source": [
    "#### Now, it can easily evaluate points"
   ]
  },
  {
   "cell_type": "code",
   "execution_count": 24,
   "id": "d5712c15-77cb-4db2-bd5c-ddf076718f42",
   "metadata": {},
   "outputs": [
    {
     "data": {
      "text/plain": [
       "45.99261571076719"
      ]
     },
     "execution_count": 24,
     "metadata": {},
     "output_type": "execute_result"
    }
   ],
   "source": [
    "lambdified_expression(3)"
   ]
  },
  {
   "cell_type": "code",
   "execution_count": 25,
   "id": "f040842e-11c9-4615-8a4f-ab7798366b0b",
   "metadata": {},
   "outputs": [
    {
     "data": {
      "text/plain": [
       "float"
      ]
     },
     "execution_count": 25,
     "metadata": {},
     "output_type": "execute_result"
    }
   ],
   "source": [
    "type(lambdified_expression(3))"
   ]
  },
  {
   "cell_type": "markdown",
   "id": "2e8f36de-2f58-4d6c-bdd9-3e1e86e39760",
   "metadata": {},
   "source": [
    "### Can use Numpy to create points at once"
   ]
  },
  {
   "cell_type": "code",
   "execution_count": 29,
   "id": "5c77ec16-23a1-468b-b51c-3fa2c922005e",
   "metadata": {},
   "outputs": [],
   "source": [
    "import numpy as np"
   ]
  },
  {
   "cell_type": "code",
   "execution_count": 32,
   "id": "c8b3c5fc-5d4e-4e34-99c3-23adcbc7d3ac",
   "metadata": {
    "tags": []
   },
   "outputs": [
    {
     "data": {
      "text/plain": [
       "1000"
      ]
     },
     "execution_count": 32,
     "metadata": {},
     "output_type": "execute_result"
    }
   ],
   "source": [
    "points = np.linspace(-20, 20, 1000)\n",
    "len(points)"
   ]
  },
  {
   "cell_type": "code",
   "execution_count": 37,
   "id": "27dd0468-6e66-4574-a2ed-2c62bf7fa5b1",
   "metadata": {
    "tags": []
   },
   "outputs": [],
   "source": [
    "output = lambdified_expression(points)"
   ]
  },
  {
   "cell_type": "code",
   "execution_count": 38,
   "id": "23dc7215-cc23-4bdc-acad-dcb216b5c6ef",
   "metadata": {},
   "outputs": [
    {
     "data": {
      "text/plain": [
       "numpy.ndarray"
      ]
     },
     "execution_count": 38,
     "metadata": {},
     "output_type": "execute_result"
    }
   ],
   "source": [
    "type(output)"
   ]
  },
  {
   "cell_type": "markdown",
   "id": "5eb49354-0a96-4c16-bf40-f72bba253f21",
   "metadata": {},
   "source": [
    "### Can use Matplotlib to plot the values"
   ]
  },
  {
   "cell_type": "code",
   "execution_count": 39,
   "id": "4c637a17-b26c-49d2-a651-35b4978175c0",
   "metadata": {},
   "outputs": [],
   "source": [
    "import matplotlib.pyplot as plt"
   ]
  },
  {
   "cell_type": "code",
   "execution_count": 40,
   "id": "36e7c1d4-af62-47b0-bfb6-898552f91880",
   "metadata": {},
   "outputs": [
    {
     "data": {
      "image/png": "[encoded data removed]",
      "text/plain": [
       "<Figure size 432x288 with 1 Axes>"
      ]
     },
     "metadata": {
      "needs_background": "light"
     },
     "output_type": "display_data"
    }
   ],
   "source": [
    "plt.plot(points, output)\n",
    "plt.title(\"Parabola\")\n",
    "plt.show()"
   ]
  },
  {
   "cell_type": "code",
   "execution_count": null,
   "id": "8006b4e2-3f91-467d-aad0-a39ceecc508e",
   "metadata": {},
   "outputs": [],
   "source": []
  }
 ],
 "metadata": {
  "kernelspec": {
   "display_name": "Math",
   "language": "python",
   "name": "math"
  },
  "language_info": {
   "codemirror_mode": {
    "name": "ipython",
    "version": 3
   },
   "file_extension": ".py",
   "mimetype": "text/x-python",
   "name": "python",
   "nbconvert_exporter": "python",
   "pygments_lexer": "ipython3",
   "version": "3.8.12"
  }
 },
 "nbformat": 4,
 "nbformat_minor": 5
}
