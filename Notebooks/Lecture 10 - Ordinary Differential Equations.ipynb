{
 "cells": [
  {
   "cell_type": "markdown",
   "id": "b72034ee-4d0b-4174-9ffb-09fc23185bfe",
   "metadata": {},
   "source": [
    "# Ordinary Differential Equations"
   ]
  },
  {
   "cell_type": "code",
   "execution_count": 4,
   "id": "e27bf384-0afe-480a-bfed-7bee1b99c32e",
   "metadata": {},
   "outputs": [],
   "source": [
    "import sympy as sp"
   ]
  },
  {
   "cell_type": "code",
   "execution_count": 5,
   "id": "01b14843-5f3e-409c-ae3a-89e236d3629c",
   "metadata": {},
   "outputs": [],
   "source": [
    "x = sp.Symbol('x')"
   ]
  },
  {
   "cell_type": "markdown",
   "id": "7a472db6-c758-4b8e-8f62-8e6401efc20e",
   "metadata": {},
   "source": [
    "## Goal of the Lecture"
   ]
  },
  {
   "cell_type": "markdown",
   "id": "b86d50d6-6ecf-4ebc-918f-3b051796dec7",
   "metadata": {},
   "source": [
    "The goal of the lecture is to solve the ODE:"
   ]
  },
  {
   "cell_type": "markdown",
   "id": "1507a9a4-f065-427e-b20c-99a514049a47",
   "metadata": {},
   "source": [
    "#### xf\"(x) + f'(x) = x<sup>3</sup>"
   ]
  },
  {
   "cell_type": "markdown",
   "id": "eb0b2789-f895-4038-806d-d69f53f33257",
   "metadata": {},
   "source": [
    "with the initial conditions f(1) = 0 and f'(2) = 1."
   ]
  },
  {
   "cell_type": "markdown",
   "id": "0e930be5-5193-4b65-9253-c5e1011db3e1",
   "metadata": {},
   "source": [
    "## Creating an ODE"
   ]
  },
  {
   "cell_type": "markdown",
   "id": "3dd72840-0379-4084-98a1-7c2b42ad54cb",
   "metadata": {},
   "source": [
    "Before solving ODE's, we first need to learn how to write ODE's in SymPy."
   ]
  },
  {
   "cell_type": "markdown",
   "id": "6f9a19dd-6df1-4a72-9f47-12defb4ebe43",
   "metadata": {},
   "source": [
    "#### Creating a function object"
   ]
  },
  {
   "cell_type": "code",
   "execution_count": 18,
   "id": "0e934831-35fe-4b3d-aa18-120d8af93ce3",
   "metadata": {},
   "outputs": [
    {
     "data": {
      "text/latex": [
       "$\\displaystyle f{\\left(x \\right)}$"
      ],
      "text/plain": [
       "f(x)"
      ]
     },
     "execution_count": 18,
     "metadata": {},
     "output_type": "execute_result"
    }
   ],
   "source": [
    "f = sp.Function('f')(x)\n",
    "f"
   ]
  },
  {
   "cell_type": "markdown",
   "id": "32351d2a-5bf0-4344-9bae-7cb6507d3f6b",
   "metadata": {},
   "source": [
    "#### Taking the derivative of the funtion"
   ]
  },
  {
   "cell_type": "code",
   "execution_count": 20,
   "id": "85e8646a-7dea-49af-a0e2-a55a00bc0834",
   "metadata": {},
   "outputs": [
    {
     "data": {
      "text/latex": [
       "$\\displaystyle \\frac{d}{d x} f{\\left(x \\right)}$"
      ],
      "text/plain": [
       "Derivative(f(x), x)"
      ]
     },
     "execution_count": 20,
     "metadata": {},
     "output_type": "execute_result"
    }
   ],
   "source": [
    "f.diff()"
   ]
  },
  {
   "cell_type": "markdown",
   "id": "54fa3907-278b-4a60-a2bf-b56d963c3c0d",
   "metadata": {},
   "source": [
    "#### Creating a differential equation"
   ]
  },
  {
   "cell_type": "code",
   "execution_count": 25,
   "id": "a7022444-38d1-47af-8c17-93fab7ff292c",
   "metadata": {},
   "outputs": [
    {
     "data": {
      "text/latex": [
       "$\\displaystyle x \\frac{d^{2}}{d x^{2}} f{\\left(x \\right)} + \\frac{d}{d x} f{\\left(x \\right)} = x^{3}$"
      ],
      "text/plain": [
       "Eq(x*Derivative(f(x), (x, 2)) + Derivative(f(x), x), x**3)"
      ]
     },
     "execution_count": 25,
     "metadata": {},
     "output_type": "execute_result"
    }
   ],
   "source": [
    "diff_eq = sp.Eq(x*f.diff(x, 2) + f.diff(x), x**3)\n",
    "diff_eq"
   ]
  },
  {
   "cell_type": "markdown",
   "id": "ba15647e-f11d-48a9-aa7f-8e0b43192e5e",
   "metadata": {},
   "source": [
    "#### Getting the RHS"
   ]
  },
  {
   "cell_type": "code",
   "execution_count": 28,
   "id": "6a7f3e3b-0be2-4744-acd5-e07779158848",
   "metadata": {},
   "outputs": [
    {
     "data": {
      "text/latex": [
       "$\\displaystyle x^{3}$"
      ],
      "text/plain": [
       "x**3"
      ]
     },
     "execution_count": 28,
     "metadata": {},
     "output_type": "execute_result"
    }
   ],
   "source": [
    "diff_eq.rhs"
   ]
  },
  {
   "cell_type": "markdown",
   "id": "3d2991fc-a565-47b4-9846-70ee01ab5a45",
   "metadata": {},
   "source": [
    "#### Getting the LHS"
   ]
  },
  {
   "cell_type": "code",
   "execution_count": 30,
   "id": "7dbb67b0-4372-4434-9988-c7f7af7563aa",
   "metadata": {},
   "outputs": [
    {
     "data": {
      "text/latex": [
       "$\\displaystyle x \\frac{d^{2}}{d x^{2}} f{\\left(x \\right)} + \\frac{d}{d x} f{\\left(x \\right)}$"
      ],
      "text/plain": [
       "x*Derivative(f(x), (x, 2)) + Derivative(f(x), x)"
      ]
     },
     "execution_count": 30,
     "metadata": {},
     "output_type": "execute_result"
    }
   ],
   "source": [
    "diff_eq.lhs"
   ]
  },
  {
   "cell_type": "markdown",
   "id": "328d4b85-23df-4ad4-b5b7-20633c6ffadb",
   "metadata": {},
   "source": [
    "## Solving the ODE"
   ]
  },
  {
   "cell_type": "markdown",
   "id": "fa066dcd-758c-4efa-bdd6-1b19e0bd6cad",
   "metadata": {},
   "source": [
    "We can now use SymPy to solve ODE's. We do this with ```dsolve()``` function:"
   ]
  },
  {
   "cell_type": "code",
   "execution_count": 34,
   "id": "a35522ac-a80c-4932-a557-c3374d469454",
   "metadata": {},
   "outputs": [
    {
     "data": {
      "text/latex": [
       "$\\displaystyle f{\\left(x \\right)} = C_{1} + C_{2} \\log{\\left(x \\right)} + \\frac{x^{4}}{16}$"
      ],
      "text/plain": [
       "Eq(f(x), C1 + C2*log(x) + x**4/16)"
      ]
     },
     "execution_count": 34,
     "metadata": {},
     "output_type": "execute_result"
    }
   ],
   "source": [
    "sol = sp.dsolve(diff_eq, f)\n",
    "sol"
   ]
  },
  {
   "cell_type": "code",
   "execution_count": 35,
   "id": "7103fc64-db30-44e1-94b5-84a66a95577b",
   "metadata": {},
   "outputs": [
    {
     "data": {
      "text/plain": [
       "sympy.core.relational.Equality"
      ]
     },
     "execution_count": 35,
     "metadata": {},
     "output_type": "execute_result"
    }
   ],
   "source": [
    "type(sol)"
   ]
  },
  {
   "cell_type": "markdown",
   "id": "a2fd085c-a947-4496-a4a5-901b7860ab27",
   "metadata": {},
   "source": [
    "#### Getting the solution"
   ]
  },
  {
   "cell_type": "code",
   "execution_count": 46,
   "id": "30f11f30-18dc-4652-aa46-fedc451eb8ab",
   "metadata": {},
   "outputs": [
    {
     "data": {
      "text/latex": [
       "$\\displaystyle C_{1} + C_{2} \\log{\\left(x \\right)} + \\frac{x^{4}}{16}$"
      ],
      "text/plain": [
       "C1 + C2*log(x) + x**4/16"
      ]
     },
     "execution_count": 46,
     "metadata": {},
     "output_type": "execute_result"
    }
   ],
   "source": [
    "exp = sol.rhs\n",
    "exp"
   ]
  },
  {
   "cell_type": "code",
   "execution_count": 47,
   "id": "3c8924b4-88dd-4a7d-8912-dd787d95adf9",
   "metadata": {},
   "outputs": [
    {
     "data": {
      "text/plain": [
       "{C1, C2, x}"
      ]
     },
     "execution_count": 47,
     "metadata": {},
     "output_type": "execute_result"
    }
   ],
   "source": [
    "exp.free_symbols"
   ]
  },
  {
   "cell_type": "markdown",
   "id": "405de290-d4c6-4054-a5a9-ab8e60abfbf3",
   "metadata": {},
   "source": [
    "#### If we try to get the constant directly, we'll meet an error"
   ]
  },
  {
   "cell_type": "code",
   "execution_count": 48,
   "id": "8746aa9f-004c-4673-86a7-d7a6d76d3394",
   "metadata": {},
   "outputs": [
    {
     "ename": "TypeError",
     "evalue": "'set' object is not subscriptable",
     "output_type": "error",
     "traceback": [
      "\u001b[1;31m---------------------------------------------------------------------------\u001b[0m",
      "\u001b[1;31mTypeError\u001b[0m                                 Traceback (most recent call last)",
      "Input \u001b[1;32mIn [48]\u001b[0m, in \u001b[0;36m<cell line: 1>\u001b[1;34m()\u001b[0m\n\u001b[1;32m----> 1\u001b[0m \u001b[43mexp\u001b[49m\u001b[38;5;241;43m.\u001b[39;49m\u001b[43mfree_symbols\u001b[49m\u001b[43m[\u001b[49m\u001b[38;5;241;43m0\u001b[39;49m\u001b[43m]\u001b[49m\n",
      "\u001b[1;31mTypeError\u001b[0m: 'set' object is not subscriptable"
     ]
    }
   ],
   "source": [
    "exp.free_symbols[0]"
   ]
  },
  {
   "cell_type": "markdown",
   "id": "f05cd1c4-3273-4fb5-ab2b-fc743613caa1",
   "metadata": {},
   "source": [
    "#### Here's the right way:"
   ]
  },
  {
   "cell_type": "code",
   "execution_count": 49,
   "id": "20a783d5-6eba-4fdc-acd7-8fae36d6bb17",
   "metadata": {},
   "outputs": [
    {
     "data": {
      "text/plain": [
       "[x, C1, C2]"
      ]
     },
     "execution_count": 49,
     "metadata": {},
     "output_type": "execute_result"
    }
   ],
   "source": [
    "list(exp.free_symbols)"
   ]
  },
  {
   "cell_type": "code",
   "execution_count": 50,
   "id": "67cf3ccd-3e5e-4468-9727-33ef2dfc9b79",
   "metadata": {},
   "outputs": [
    {
     "data": {
      "text/plain": [
       "(x, C1, C2)"
      ]
     },
     "execution_count": 50,
     "metadata": {},
     "output_type": "execute_result"
    }
   ],
   "source": [
    "tuple(exp.free_symbols)"
   ]
  },
  {
   "cell_type": "code",
   "execution_count": 51,
   "id": "fb08d1c0-def4-4d70-89d0-ce852f1d1451",
   "metadata": {},
   "outputs": [],
   "source": [
    "_, C1, C2 = tuple(exp.free_symbols)"
   ]
  },
  {
   "cell_type": "code",
   "execution_count": 52,
   "id": "a25133cd-cc9e-4536-92f1-424195af824d",
   "metadata": {},
   "outputs": [
    {
     "data": {
      "text/plain": [
       "(C1, C2)"
      ]
     },
     "execution_count": 52,
     "metadata": {},
     "output_type": "execute_result"
    }
   ],
   "source": [
    "C1, C2"
   ]
  },
  {
   "cell_type": "markdown",
   "id": "4d387bd7-0e9d-4071-b962-8ac210c0df5c",
   "metadata": {},
   "source": [
    "### Setting the values C1 = 0 and C2 = 1"
   ]
  },
  {
   "cell_type": "code",
   "execution_count": 56,
   "id": "4d1731e8-fa90-4794-af4a-4665e2a6354b",
   "metadata": {},
   "outputs": [
    {
     "data": {
      "text/latex": [
       "$\\displaystyle \\frac{x^{4}}{16} + \\log{\\left(x \\right)}$"
      ],
      "text/plain": [
       "x**4/16 + log(x)"
      ]
     },
     "execution_count": 56,
     "metadata": {},
     "output_type": "execute_result"
    }
   ],
   "source": [
    "# Naive Way\n",
    "exp.subs(C1, 0).subs(C2, 1)"
   ]
  },
  {
   "cell_type": "code",
   "execution_count": 57,
   "id": "ab6f8d19-2a43-4832-bb74-9d5a9c0d539c",
   "metadata": {},
   "outputs": [
    {
     "data": {
      "text/latex": [
       "$\\displaystyle \\frac{x^{4}}{16} + \\log{\\left(x \\right)}$"
      ],
      "text/plain": [
       "x**4/16 + log(x)"
      ]
     },
     "execution_count": 57,
     "metadata": {},
     "output_type": "execute_result"
    }
   ],
   "source": [
    "exp.subs({C1:0, C2:1})"
   ]
  },
  {
   "cell_type": "markdown",
   "id": "fde5ee08-6d5a-47d9-b3c3-a67321f63f6e",
   "metadata": {},
   "source": [
    "## Giving Initial Conditions"
   ]
  },
  {
   "cell_type": "markdown",
   "id": "8d4969da-2372-4f9c-86b2-85164623ec35",
   "metadata": {},
   "source": [
    "Now, we are tring to solve the problem"
   ]
  },
  {
   "cell_type": "markdown",
   "id": "32f7c2dc-c820-43bb-9914-313d5f735626",
   "metadata": {},
   "source": [
    "#### xf\"(x) + f'(x) = x<sup>3</sup>"
   ]
  },
  {
   "cell_type": "markdown",
   "id": "46f9a034-f227-46c3-83c6-5a3f834064c1",
   "metadata": {},
   "source": [
    "<ins>*with the initial conditions f(1) = 0 and f'(2) = 1.*</ins>"
   ]
  },
  {
   "cell_type": "code",
   "execution_count": 59,
   "id": "bd8c8e39-45b8-493b-a05f-13da101cf02c",
   "metadata": {},
   "outputs": [
    {
     "data": {
      "text/latex": [
       "$\\displaystyle f{\\left(x \\right)}$"
      ],
      "text/plain": [
       "f(x)"
      ]
     },
     "execution_count": 59,
     "metadata": {},
     "output_type": "execute_result"
    }
   ],
   "source": [
    "f"
   ]
  },
  {
   "cell_type": "markdown",
   "id": "6abeaee5-c231-4835-a5dd-accea0287bfb",
   "metadata": {},
   "source": [
    "#### Create Initial Conditions"
   ]
  },
  {
   "cell_type": "code",
   "execution_count": 63,
   "id": "802c93dc-1179-4ede-a334-faf2b7905668",
   "metadata": {},
   "outputs": [
    {
     "data": {
      "text/plain": [
       "{f(1): 0, Subs(Derivative(f(x), x), x, 2): 1}"
      ]
     },
     "execution_count": 63,
     "metadata": {},
     "output_type": "execute_result"
    }
   ],
   "source": [
    "ics = {f.subs(x, 1) : 0, f.diff().subs(x, 2): 1}\n",
    "ics"
   ]
  },
  {
   "cell_type": "code",
   "execution_count": 64,
   "id": "e8825617-4208-4bfe-a500-9746c965fb97",
   "metadata": {},
   "outputs": [
    {
     "data": {
      "text/latex": [
       "$\\displaystyle x \\frac{d^{2}}{d x^{2}} f{\\left(x \\right)} + \\frac{d}{d x} f{\\left(x \\right)} = x^{3}$"
      ],
      "text/plain": [
       "Eq(x*Derivative(f(x), (x, 2)) + Derivative(f(x), x), x**3)"
      ]
     },
     "execution_count": 64,
     "metadata": {},
     "output_type": "execute_result"
    }
   ],
   "source": [
    "diff_eq"
   ]
  },
  {
   "cell_type": "code",
   "execution_count": 65,
   "id": "0580c4c7-8805-4e62-bb0c-2d9c41f3eae7",
   "metadata": {},
   "outputs": [
    {
     "data": {
      "text/latex": [
       "$\\displaystyle f{\\left(x \\right)} = \\frac{x^{4}}{16} - 2 \\log{\\left(x \\right)} - \\frac{1}{16}$"
      ],
      "text/plain": [
       "Eq(f(x), x**4/16 - 2*log(x) - 1/16)"
      ]
     },
     "execution_count": 65,
     "metadata": {},
     "output_type": "execute_result"
    }
   ],
   "source": [
    "ivp = sp.dsolve(diff_eq, ics=ics)\n",
    "ivp"
   ]
  },
  {
   "cell_type": "code",
   "execution_count": 66,
   "id": "ba5dba3f-b701-4d6c-a7f2-fee191498be6",
   "metadata": {},
   "outputs": [
    {
     "data": {
      "text/latex": [
       "$\\displaystyle \\frac{x^{4}}{16} - 2 \\log{\\left(x \\right)} - \\frac{1}{16}$"
      ],
      "text/plain": [
       "x**4/16 - 2*log(x) - 1/16"
      ]
     },
     "execution_count": 66,
     "metadata": {},
     "output_type": "execute_result"
    }
   ],
   "source": [
    "ivp = sp.dsolve(diff_eq, ics=ics).rhs\n",
    "ivp"
   ]
  },
  {
   "cell_type": "markdown",
   "id": "eea0cff2-cdef-451c-aa26-087f7825bc2e",
   "metadata": {},
   "source": [
    "#### Checking the first initial condition"
   ]
  },
  {
   "cell_type": "code",
   "execution_count": 68,
   "id": "17fd91da-65c8-4283-83a9-a6d956f809d2",
   "metadata": {},
   "outputs": [
    {
     "data": {
      "text/latex": [
       "$\\displaystyle 0$"
      ],
      "text/plain": [
       "0"
      ]
     },
     "execution_count": 68,
     "metadata": {},
     "output_type": "execute_result"
    }
   ],
   "source": [
    "ivp.subs(x, 1)"
   ]
  },
  {
   "cell_type": "markdown",
   "id": "4612c284-d1f0-48e9-b5fb-ec1bc3f1a514",
   "metadata": {},
   "source": [
    "#### Checking the second initial condition"
   ]
  },
  {
   "cell_type": "code",
   "execution_count": 73,
   "id": "351a72b9-a3d7-4391-8ede-5dd6e55faf95",
   "metadata": {},
   "outputs": [
    {
     "data": {
      "text/latex": [
       "$\\displaystyle 1$"
      ],
      "text/plain": [
       "1"
      ]
     },
     "execution_count": 73,
     "metadata": {},
     "output_type": "execute_result"
    }
   ],
   "source": [
    "ivp.diff().subs(x, 2)"
   ]
  },
  {
   "cell_type": "markdown",
   "id": "17779a08-8fb1-4ced-a958-9386b77af1bf",
   "metadata": {},
   "source": [
    "#### Checking that the solution satisfies the ODE"
   ]
  },
  {
   "cell_type": "code",
   "execution_count": 77,
   "id": "0e6ee727-4309-490f-a79c-5622b3bc38a1",
   "metadata": {},
   "outputs": [
    {
     "data": {
      "text/latex": [
       "$\\displaystyle \\frac{x^{3}}{4} + x \\left(\\frac{3 x^{2}}{4} + \\frac{2}{x^{2}}\\right) - \\frac{2}{x}$"
      ],
      "text/plain": [
       "x**3/4 + x*(3*x**2/4 + 2/x**2) - 2/x"
      ]
     },
     "execution_count": 77,
     "metadata": {},
     "output_type": "execute_result"
    }
   ],
   "source": [
    "x * ivp.diff(x, 2) + ivp.diff()"
   ]
  },
  {
   "cell_type": "code",
   "execution_count": 80,
   "id": "8501e80b-e8aa-41f7-9d55-b064a4c23848",
   "metadata": {},
   "outputs": [
    {
     "data": {
      "text/latex": [
       "$\\displaystyle x^{3}$"
      ],
      "text/plain": [
       "x**3"
      ]
     },
     "execution_count": 80,
     "metadata": {},
     "output_type": "execute_result"
    }
   ],
   "source": [
    "(x * ivp.diff(x, 2) + ivp.diff()).simplify()"
   ]
  },
  {
   "cell_type": "code",
   "execution_count": 81,
   "id": "e47db263-bcf0-4ce5-8291-bf9845911d5a",
   "metadata": {},
   "outputs": [
    {
     "data": {
      "text/plain": [
       "True"
      ]
     },
     "execution_count": 81,
     "metadata": {},
     "output_type": "execute_result"
    }
   ],
   "source": [
    "(x * ivp.diff(x, 2) + ivp.diff()).simplify() == x**3"
   ]
  },
  {
   "cell_type": "code",
   "execution_count": 83,
   "id": "499b1636-773d-42d9-8691-9bbec8233c6b",
   "metadata": {},
   "outputs": [
    {
     "data": {
      "text/plain": [
       "False"
      ]
     },
     "execution_count": 83,
     "metadata": {},
     "output_type": "execute_result"
    }
   ],
   "source": [
    "x * ivp.diff(x, 2) + ivp.diff() == x**3"
   ]
  },
  {
   "cell_type": "code",
   "execution_count": null,
   "id": "d3b0640b-a1ca-4464-b88e-366e1805dc46",
   "metadata": {},
   "outputs": [],
   "source": []
  }
 ],
 "metadata": {
  "kernelspec": {
   "display_name": "Math",
   "language": "python",
   "name": "math"
  },
  "language_info": {
   "codemirror_mode": {
    "name": "ipython",
    "version": 3
   },
   "file_extension": ".py",
   "mimetype": "text/x-python",
   "name": "python",
   "nbconvert_exporter": "python",
   "pygments_lexer": "ipython3",
   "version": "3.8.12"
  }
 },
 "nbformat": 4,
 "nbformat_minor": 5
}
