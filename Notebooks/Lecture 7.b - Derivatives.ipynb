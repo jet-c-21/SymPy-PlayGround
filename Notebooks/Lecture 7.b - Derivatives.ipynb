{
 "cells": [
  {
   "cell_type": "markdown",
   "id": "9a4617de-a12f-40c8-9ba1-a9e5ad7a8af3",
   "metadata": {},
   "source": [
    "# Derivatives"
   ]
  },
  {
   "cell_type": "code",
   "execution_count": 2,
   "id": "715c3f60-6ab1-4f96-8df0-e748bb7a2ea3",
   "metadata": {},
   "outputs": [],
   "source": [
    "import sympy as sp"
   ]
  },
  {
   "cell_type": "code",
   "execution_count": 3,
   "id": "3e7a25f3-7f8e-4183-aa23-72bf6b111e4b",
   "metadata": {},
   "outputs": [],
   "source": [
    "x, y = sp.symbols('x y')"
   ]
  },
  {
   "cell_type": "markdown",
   "id": "a4f8bb60-5e64-4bba-b684-e232030ea36a",
   "metadata": {},
   "source": [
    "## Basic Differentiation"
   ]
  },
  {
   "cell_type": "code",
   "execution_count": 5,
   "id": "e1ca53fe-afa5-490a-9af5-26a969f3677b",
   "metadata": {},
   "outputs": [
    {
     "data": {
      "text/latex": [
       "$\\displaystyle e^{2 x} + \\sin{\\left(x \\right)}$"
      ],
      "text/plain": [
       "exp(2*x) + sin(x)"
      ]
     },
     "execution_count": 5,
     "metadata": {},
     "output_type": "execute_result"
    }
   ],
   "source": [
    "expr = sp.exp(2*x) + sp.sin(x)\n",
    "expr"
   ]
  },
  {
   "cell_type": "code",
   "execution_count": 6,
   "id": "347e6e87-7cb9-4be3-bf35-ebe4fbc1bf70",
   "metadata": {},
   "outputs": [
    {
     "data": {
      "text/latex": [
       "$\\displaystyle 2 e^{2 x} + \\cos{\\left(x \\right)}$"
      ],
      "text/plain": [
       "2*exp(2*x) + cos(x)"
      ]
     },
     "execution_count": 6,
     "metadata": {},
     "output_type": "execute_result"
    }
   ],
   "source": [
    "sp.diff(expr)"
   ]
  },
  {
   "cell_type": "markdown",
   "id": "4ac691aa-5354-4e64-87b2-59ff3523c15f",
   "metadata": {},
   "source": [
    "### Specify the variable of differentiation"
   ]
  },
  {
   "cell_type": "code",
   "execution_count": 7,
   "id": "aae5a158-46b6-4f69-80e5-dd2d7538c465",
   "metadata": {},
   "outputs": [
    {
     "data": {
      "text/latex": [
       "$\\displaystyle 2 e^{2 x} + \\cos{\\left(x \\right)}$"
      ],
      "text/plain": [
       "2*exp(2*x) + cos(x)"
      ]
     },
     "execution_count": 7,
     "metadata": {},
     "output_type": "execute_result"
    }
   ],
   "source": [
    "sp.diff(expr, x)"
   ]
  },
  {
   "cell_type": "markdown",
   "id": "716ef088-fe0c-4f86-851d-2fc10a816c47",
   "metadata": {},
   "source": [
    "### Differentiate multiple times"
   ]
  },
  {
   "cell_type": "code",
   "execution_count": 11,
   "id": "406c8c1f-1ace-4612-9f75-8d8ccda50e10",
   "metadata": {},
   "outputs": [
    {
     "data": {
      "text/latex": [
       "$\\displaystyle 16 e^{2 x} + \\sin{\\left(x \\right)}$"
      ],
      "text/plain": [
       "16*exp(2*x) + sin(x)"
      ]
     },
     "execution_count": 11,
     "metadata": {},
     "output_type": "execute_result"
    }
   ],
   "source": [
    "sp.diff(sp.diff(expr), x, x, x)"
   ]
  },
  {
   "cell_type": "code",
   "execution_count": 12,
   "id": "58ad24f2-88a7-4830-9efc-a16d826ff4ca",
   "metadata": {},
   "outputs": [
    {
     "data": {
      "text/latex": [
       "$\\displaystyle 16 e^{2 x} + \\sin{\\left(x \\right)}$"
      ],
      "text/plain": [
       "16*exp(2*x) + sin(x)"
      ]
     },
     "execution_count": 12,
     "metadata": {},
     "output_type": "execute_result"
    }
   ],
   "source": [
    "sp.diff(sp.diff(expr), x, 3)"
   ]
  },
  {
   "cell_type": "code",
   "execution_count": 13,
   "id": "697329d9-eebf-437c-8b36-7a3a45190785",
   "metadata": {},
   "outputs": [
    {
     "data": {
      "text/latex": [
       "$\\displaystyle 256 e^{2 x} + \\sin{\\left(x \\right)}$"
      ],
      "text/plain": [
       "256*exp(2*x) + sin(x)"
      ]
     },
     "execution_count": 13,
     "metadata": {},
     "output_type": "execute_result"
    }
   ],
   "source": [
    "sp.diff(sp.diff(expr), x, 7)"
   ]
  },
  {
   "cell_type": "markdown",
   "id": "35840856-de41-4152-a46b-7d167939c85d",
   "metadata": {},
   "source": [
    "## Rewritting Functions"
   ]
  },
  {
   "cell_type": "markdown",
   "id": "bcb54a81-3d39-4a16-87b4-d50d52504e37",
   "metadata": {},
   "source": [
    "In SymPy we cans use the ```.rewrite()``` method to rewrite a function in terms of another function."
   ]
  },
  {
   "cell_type": "code",
   "execution_count": 16,
   "id": "daaddbaf-b7ec-4803-b927-3d99832700b3",
   "metadata": {},
   "outputs": [
    {
     "data": {
      "text/latex": [
       "$\\displaystyle e^{- \\frac{e^{x}}{2}} e^{\\sinh{\\left(x \\right)}}$"
      ],
      "text/plain": [
       "exp(-exp(x)/2)*exp(sinh(x))"
      ]
     },
     "execution_count": 16,
     "metadata": {},
     "output_type": "execute_result"
    }
   ],
   "source": [
    "expr = sp.exp(sp.sinh(x)) / sp.exp(sp.exp(x) / 2)\n",
    "expr"
   ]
  },
  {
   "cell_type": "markdown",
   "id": "88bf7c9e-1202-4da1-8aac-909fa60322e4",
   "metadata": {},
   "source": [
    "#### Rewrites the expression in terms of exponential functions"
   ]
  },
  {
   "cell_type": "code",
   "execution_count": 19,
   "id": "fb27b9b5-1623-422c-8f46-9aae51e398a9",
   "metadata": {},
   "outputs": [
    {
     "data": {
      "text/latex": [
       "$\\displaystyle e^{\\frac{e^{x}}{2} - \\frac{e^{- x}}{2}} e^{- \\frac{e^{x}}{2}}$"
      ],
      "text/plain": [
       "exp(exp(x)/2 - exp(-x)/2)*exp(-exp(x)/2)"
      ]
     },
     "execution_count": 19,
     "metadata": {},
     "output_type": "execute_result"
    }
   ],
   "source": [
    "expo = expr.rewrite(sp.exp)\n",
    "expo"
   ]
  },
  {
   "cell_type": "markdown",
   "id": "7bb7f74e-103c-488b-9baf-097bf1c5788d",
   "metadata": {},
   "source": [
    "we can now simplify"
   ]
  },
  {
   "cell_type": "code",
   "execution_count": 20,
   "id": "82256c04-8d13-4ae8-aa24-ffff98a78853",
   "metadata": {},
   "outputs": [
    {
     "data": {
      "text/latex": [
       "$\\displaystyle e^{- \\frac{e^{- x}}{2}}$"
      ],
      "text/plain": [
       "exp(-exp(-x)/2)"
      ]
     },
     "execution_count": 20,
     "metadata": {},
     "output_type": "execute_result"
    }
   ],
   "source": [
    "expo.simplify()"
   ]
  },
  {
   "cell_type": "markdown",
   "id": "641990b6-26b3-44ec-b6dc-fff9281bad44",
   "metadata": {},
   "source": [
    "#### Sometimes, we counld not simplify it right away!"
   ]
  },
  {
   "cell_type": "code",
   "execution_count": 23,
   "id": "6a46f4b9-91d7-4ed3-8367-ce23eafe8112",
   "metadata": {},
   "outputs": [
    {
     "data": {
      "text/latex": [
       "$\\displaystyle e^{- \\frac{e^{x}}{2} + \\sinh{\\left(x \\right)}}$"
      ],
      "text/plain": [
       "exp(-exp(x)/2 + sinh(x))"
      ]
     },
     "execution_count": 23,
     "metadata": {},
     "output_type": "execute_result"
    }
   ],
   "source": [
    "expr.simplify()"
   ]
  },
  {
   "cell_type": "markdown",
   "id": "77a8ca3a-e047-4388-ac74-1aa4ffbe67b2",
   "metadata": {},
   "source": [
    "## Rewriting and Partial Derivatives"
   ]
  },
  {
   "cell_type": "markdown",
   "id": "a03041e7-72e2-4534-a19c-93bc37cf6a67",
   "metadata": {},
   "source": [
    "We can use the function ```sp.diff()``` to take partial derivatives. When doing this, the rewrite function is often helpful to get the partial derivative in a specified form."
   ]
  },
  {
   "cell_type": "code",
   "execution_count": 26,
   "id": "4f43db60-97d7-4190-b757-49ebfe3ae720",
   "metadata": {},
   "outputs": [
    {
     "data": {
      "text/latex": [
       "$\\displaystyle \\cos{\\left(x \\right)} \\cot^{2}{\\left(2 y \\right)}$"
      ],
      "text/plain": [
       "cos(x)*cot(2*y)**2"
      ]
     },
     "execution_count": 26,
     "metadata": {},
     "output_type": "execute_result"
    }
   ],
   "source": [
    "two_variables = sp.cos(x) * sp.cot(2*y)**2\n",
    "two_variables"
   ]
  },
  {
   "cell_type": "code",
   "execution_count": 27,
   "id": "490cc6c8-176a-4dbf-b594-d7698d8b40c3",
   "metadata": {},
   "outputs": [
    {
     "data": {
      "text/latex": [
       "$\\displaystyle \\left(- 4 \\cot^{2}{\\left(2 y \\right)} - 4\\right) \\cos{\\left(x \\right)} \\cot{\\left(2 y \\right)}$"
      ],
      "text/plain": [
       "(-4*cot(2*y)**2 - 4)*cos(x)*cot(2*y)"
      ]
     },
     "execution_count": 27,
     "metadata": {},
     "output_type": "execute_result"
    }
   ],
   "source": [
    "partial_y = two_variables.diff(y)\n",
    "partial_y"
   ]
  },
  {
   "cell_type": "markdown",
   "id": "6fd17910-e2f3-423e-b447-fa78e40492c0",
   "metadata": {},
   "source": [
    "#### Trying to get it on a simpler form"
   ]
  },
  {
   "cell_type": "code",
   "execution_count": 29,
   "id": "3fc23a38-a21d-4557-8484-c24dd0b5984e",
   "metadata": {},
   "outputs": [
    {
     "data": {
      "text/latex": [
       "$\\displaystyle \\frac{\\left(-4 - \\frac{\\sin^{2}{\\left(4 y \\right)}}{\\sin^{4}{\\left(2 y \\right)}}\\right) \\sin{\\left(4 y \\right)} \\sin{\\left(x + \\frac{\\pi}{2} \\right)}}{2 \\sin^{2}{\\left(2 y \\right)}}$"
      ],
      "text/plain": [
       "(-4 - sin(4*y)**2/sin(2*y)**4)*sin(4*y)*sin(x + pi/2)/(2*sin(2*y)**2)"
      ]
     },
     "execution_count": 29,
     "metadata": {},
     "output_type": "execute_result"
    }
   ],
   "source": [
    "partial_y.rewrite(sp.sin)"
   ]
  },
  {
   "cell_type": "code",
   "execution_count": 30,
   "id": "104b8b08-5d48-4239-9f38-fbdf1b545972",
   "metadata": {},
   "outputs": [
    {
     "data": {
      "text/latex": [
       "$\\displaystyle \\left(- 4 \\cot^{2}{\\left(2 y \\right)} - 4\\right) \\cos{\\left(x \\right)} \\cot{\\left(2 y \\right)}$"
      ],
      "text/plain": [
       "(-4*cot(2*y)**2 - 4)*cos(x)*cot(2*y)"
      ]
     },
     "execution_count": 30,
     "metadata": {},
     "output_type": "execute_result"
    }
   ],
   "source": [
    "partial_y"
   ]
  },
  {
   "cell_type": "code",
   "execution_count": 32,
   "id": "4bfe6486-4b09-411d-82b4-bd8521a8663d",
   "metadata": {},
   "outputs": [
    {
     "data": {
      "text/latex": [
       "$\\displaystyle - \\frac{4 \\cos{\\left(x \\right)} \\cot{\\left(2 y \\right)}}{\\sin^{2}{\\left(2 y \\right)}}$"
      ],
      "text/plain": [
       "-4*cos(x)*cot(2*y)/sin(2*y)**2"
      ]
     },
     "execution_count": 32,
     "metadata": {},
     "output_type": "execute_result"
    }
   ],
   "source": [
    "simp_y = partial_y.simplify()\n",
    "simp_y"
   ]
  },
  {
   "cell_type": "code",
   "execution_count": 33,
   "id": "a9b06b8d-e99f-4a96-95d4-990b10551593",
   "metadata": {},
   "outputs": [
    {
     "data": {
      "text/latex": [
       "$\\displaystyle - \\frac{2 \\sin{\\left(4 y \\right)} \\sin{\\left(x + \\frac{\\pi}{2} \\right)}}{\\sin^{4}{\\left(2 y \\right)}}$"
      ],
      "text/plain": [
       "-2*sin(4*y)*sin(x + pi/2)/sin(2*y)**4"
      ]
     },
     "execution_count": 33,
     "metadata": {},
     "output_type": "execute_result"
    }
   ],
   "source": [
    "simp_y.rewrite(sp.sin)"
   ]
  },
  {
   "cell_type": "markdown",
   "id": "1f343886-cfc1-4140-a4a4-9721a2e5c304",
   "metadata": {},
   "source": [
    "#### Or this way, but it's not too good"
   ]
  },
  {
   "cell_type": "code",
   "execution_count": 36,
   "id": "182c1817-b63d-493b-9c4d-482b936227e5",
   "metadata": {},
   "outputs": [
    {
     "data": {
      "text/latex": [
       "$\\displaystyle - \\frac{\\left(2 - \\frac{1}{\\cos^{2}{\\left(y \\right)}}\\right) \\cos{\\left(x \\right)}}{2 \\sin^{3}{\\left(y \\right)} \\cos{\\left(y \\right)}}$"
      ],
      "text/plain": [
       "-(2 - 1/cos(y)**2)*cos(x)/(2*sin(y)**3*cos(y))"
      ]
     },
     "execution_count": 36,
     "metadata": {},
     "output_type": "execute_result"
    }
   ],
   "source": [
    "partial_y.rewrite(sp.sin).simplify()"
   ]
  },
  {
   "cell_type": "markdown",
   "id": "d30a33d6-e83b-41de-85a2-bbcba86c8c73",
   "metadata": {},
   "source": [
    "#### So in this case, it's better tho"
   ]
  },
  {
   "cell_type": "code",
   "execution_count": 38,
   "id": "677163f0-aeb5-4a8c-a0ff-251f3748106f",
   "metadata": {},
   "outputs": [
    {
     "data": {
      "text/latex": [
       "$\\displaystyle - \\frac{2 \\sin{\\left(4 y \\right)} \\sin{\\left(x + \\frac{\\pi}{2} \\right)}}{\\sin^{4}{\\left(2 y \\right)}}$"
      ],
      "text/plain": [
       "-2*sin(4*y)*sin(x + pi/2)/sin(2*y)**4"
      ]
     },
     "execution_count": 38,
     "metadata": {},
     "output_type": "execute_result"
    }
   ],
   "source": [
    "partial_y.simplify().rewrite(sp.sin)"
   ]
  },
  {
   "cell_type": "code",
   "execution_count": 40,
   "id": "230cbd04-a021-4395-9eaa-3f89d601021a",
   "metadata": {},
   "outputs": [
    {
     "data": {
      "text/latex": [
       "$\\displaystyle 8 \\left(\\cot^{2}{\\left(2 y \\right)} + 1\\right) \\left(3 \\cot^{2}{\\left(2 y \\right)} + 1\\right) \\sin{\\left(x \\right)}$"
      ],
      "text/plain": [
       "8*(cot(2*y)**2 + 1)*(3*cot(2*y)**2 + 1)*sin(x)"
      ]
     },
     "execution_count": 40,
     "metadata": {},
     "output_type": "execute_result"
    }
   ],
   "source": [
    "two_variables.diff(x, 3, y, 2)"
   ]
  },
  {
   "cell_type": "code",
   "execution_count": 41,
   "id": "9c8f7f3d-4daf-4ab8-a271-74add45e8d26",
   "metadata": {},
   "outputs": [
    {
     "data": {
      "text/latex": [
       "$\\displaystyle 8 \\left(\\cot^{2}{\\left(2 y \\right)} + 1\\right) \\left(3 \\cot^{2}{\\left(2 y \\right)} + 1\\right) \\sin{\\left(x \\right)}$"
      ],
      "text/plain": [
       "8*(cot(2*y)**2 + 1)*(3*cot(2*y)**2 + 1)*sin(x)"
      ]
     },
     "execution_count": 41,
     "metadata": {},
     "output_type": "execute_result"
    }
   ],
   "source": [
    "two_variables.diff(y, 2, x, 3)"
   ]
  },
  {
   "cell_type": "code",
   "execution_count": null,
   "id": "e836cbc7-2a77-4c3f-b3de-3d071026793f",
   "metadata": {},
   "outputs": [],
   "source": []
  }
 ],
 "metadata": {
  "kernelspec": {
   "display_name": "Math",
   "language": "python",
   "name": "math"
  },
  "language_info": {
   "codemirror_mode": {
    "name": "ipython",
    "version": 3
   },
   "file_extension": ".py",
   "mimetype": "text/x-python",
   "name": "python",
   "nbconvert_exporter": "python",
   "pygments_lexer": "ipython3",
   "version": "3.8.12"
  }
 },
 "nbformat": 4,
 "nbformat_minor": 5
}
