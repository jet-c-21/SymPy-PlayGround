{
 "cells": [
  {
   "cell_type": "markdown",
   "id": "d344ac19-f751-4a47-ac30-ce5843d855b4",
   "metadata": {},
   "source": [
    "# Limits and Series"
   ]
  },
  {
   "cell_type": "code",
   "execution_count": 2,
   "id": "2ed0bf5c-3f39-4dc4-b110-2ae69fa6712c",
   "metadata": {},
   "outputs": [],
   "source": [
    "import sympy as sp"
   ]
  },
  {
   "cell_type": "markdown",
   "id": "2adc18b3-43bf-4b2c-ba1d-665fd4528632",
   "metadata": {},
   "source": [
    "## Limits"
   ]
  },
  {
   "cell_type": "markdown",
   "id": "c24ab004-f679-4082-bb9f-d230c69091f2",
   "metadata": {},
   "source": [
    "### A Simple Example"
   ]
  },
  {
   "cell_type": "code",
   "execution_count": 5,
   "id": "c0cedc65-15db-4126-a8a1-54fe6af47a7a",
   "metadata": {},
   "outputs": [],
   "source": [
    "x = sp.Symbol('x')"
   ]
  },
  {
   "cell_type": "code",
   "execution_count": 6,
   "id": "a144fc1e-9358-40aa-b960-e1e80fd71ede",
   "metadata": {},
   "outputs": [
    {
     "data": {
      "text/latex": [
       "$\\displaystyle x^{2}$"
      ],
      "text/plain": [
       "x**2"
      ]
     },
     "execution_count": 6,
     "metadata": {},
     "output_type": "execute_result"
    }
   ],
   "source": [
    "expr = x ** 2\n",
    "expr"
   ]
  },
  {
   "cell_type": "code",
   "execution_count": 7,
   "id": "70ca22f1-4740-4d10-8fe4-da3a63eb906f",
   "metadata": {},
   "outputs": [
    {
     "data": {
      "text/latex": [
       "$\\displaystyle 1$"
      ],
      "text/plain": [
       "1"
      ]
     },
     "execution_count": 7,
     "metadata": {},
     "output_type": "execute_result"
    }
   ],
   "source": [
    "sp.limit(expr, x, 1)"
   ]
  },
  {
   "cell_type": "code",
   "execution_count": 8,
   "id": "3f4209e3-65f2-4164-a953-c2d044db6309",
   "metadata": {},
   "outputs": [
    {
     "data": {
      "text/latex": [
       "$\\displaystyle 1$"
      ],
      "text/plain": [
       "1"
      ]
     },
     "execution_count": 8,
     "metadata": {},
     "output_type": "execute_result"
    }
   ],
   "source": [
    "expr.subs(x, 1)"
   ]
  },
  {
   "cell_type": "markdown",
   "id": "d7ef75ae-15f2-4db1-91ec-9462c84b0fa6",
   "metadata": {},
   "source": [
    "## A Limit at Infinity"
   ]
  },
  {
   "cell_type": "code",
   "execution_count": 10,
   "id": "8060447b-7be7-4417-87cd-6c8d2fb79058",
   "metadata": {},
   "outputs": [
    {
     "data": {
      "text/latex": [
       "$\\displaystyle x e^{- x}$"
      ],
      "text/plain": [
       "x*exp(-x)"
      ]
     },
     "execution_count": 10,
     "metadata": {},
     "output_type": "execute_result"
    }
   ],
   "source": [
    "expo = x / sp.exp(x)\n",
    "expo"
   ]
  },
  {
   "cell_type": "code",
   "execution_count": 11,
   "id": "636c43dc-19ad-4029-b3a9-b98d5101eb7f",
   "metadata": {},
   "outputs": [
    {
     "data": {
      "text/latex": [
       "$\\displaystyle 0$"
      ],
      "text/plain": [
       "0"
      ]
     },
     "execution_count": 11,
     "metadata": {},
     "output_type": "execute_result"
    }
   ],
   "source": [
    "sp.limit(expo, x, sp.oo)"
   ]
  },
  {
   "cell_type": "code",
   "execution_count": 16,
   "id": "0ecd28d4-c022-40d9-9dc3-02948231b7d1",
   "metadata": {},
   "outputs": [
    {
     "data": {
      "text/latex": [
       "$\\displaystyle \\text{NaN}$"
      ],
      "text/plain": [
       "nan"
      ]
     },
     "execution_count": 16,
     "metadata": {},
     "output_type": "execute_result"
    }
   ],
   "source": [
    "# Substitution does not work here!\n",
    "expo.subs(x, sp.oo)"
   ]
  },
  {
   "cell_type": "markdown",
   "id": "bec240b7-4593-4473-873b-3cb316a3a5ac",
   "metadata": {},
   "source": [
    "### Watch Out! Limits are Taken Frome the Right"
   ]
  },
  {
   "cell_type": "code",
   "execution_count": 18,
   "id": "0667343a-d673-4246-ad28-44bdbd385bf4",
   "metadata": {},
   "outputs": [
    {
     "data": {
      "text/latex": [
       "$\\displaystyle \\frac{1}{x}$"
      ],
      "text/plain": [
       "1/x"
      ]
     },
     "execution_count": 18,
     "metadata": {},
     "output_type": "execute_result"
    }
   ],
   "source": [
    "expr = 1 / x\n",
    "expr"
   ]
  },
  {
   "cell_type": "markdown",
   "id": "68e68f95-fed9-4c08-a46d-8ac7a153af86",
   "metadata": {},
   "source": [
    "#### Limit is by default the right limits in SymPy"
   ]
  },
  {
   "cell_type": "code",
   "execution_count": 20,
   "id": "4064a0d0-4e01-4894-b68b-9b693935e683",
   "metadata": {},
   "outputs": [
    {
     "data": {
      "text/latex": [
       "$\\displaystyle \\infty$"
      ],
      "text/plain": [
       "oo"
      ]
     },
     "execution_count": 20,
     "metadata": {},
     "output_type": "execute_result"
    }
   ],
   "source": [
    "sp.limit(expr, x, 0)"
   ]
  },
  {
   "cell_type": "markdown",
   "id": "b301e21f-a51e-4d2b-b40c-d7a2f0971fc1",
   "metadata": {},
   "source": [
    "#### Getting the left limit"
   ]
  },
  {
   "cell_type": "code",
   "execution_count": 22,
   "id": "5da44f35-39db-437b-985b-ffd1fb1bfe2a",
   "metadata": {},
   "outputs": [
    {
     "data": {
      "text/latex": [
       "$\\displaystyle -\\infty$"
      ],
      "text/plain": [
       "-oo"
      ]
     },
     "execution_count": 22,
     "metadata": {},
     "output_type": "execute_result"
    }
   ],
   "source": [
    "sp.limit(expr, x, 0, '-')"
   ]
  },
  {
   "cell_type": "markdown",
   "id": "bf29ad49-44bc-427e-998d-0cdcd0dd9048",
   "metadata": {},
   "source": [
    "#### Getting both right and left limit"
   ]
  },
  {
   "cell_type": "code",
   "execution_count": 24,
   "id": "7cb0afe1-793d-48c4-a59b-ef4c82198c4c",
   "metadata": {},
   "outputs": [
    {
     "data": {
      "text/latex": [
       "$\\displaystyle \\tilde{\\infty}$"
      ],
      "text/plain": [
       "zoo"
      ]
     },
     "execution_count": 24,
     "metadata": {},
     "output_type": "execute_result"
    }
   ],
   "source": [
    "sp.limit(expr, x, 0, '+-')"
   ]
  },
  {
   "cell_type": "code",
   "execution_count": 26,
   "id": "232ff965-6d86-44fe-9860-d354cfa332bb",
   "metadata": {},
   "outputs": [
    {
     "data": {
      "text/latex": [
       "$\\displaystyle \\lim_{x \\to 0} \\frac{1}{x}$"
      ],
      "text/plain": [
       "Limit(1/x, x, 0, dir='+-')"
      ]
     },
     "execution_count": 26,
     "metadata": {},
     "output_type": "execute_result"
    }
   ],
   "source": [
    "sp.Limit(expr, x, 0, '+')"
   ]
  },
  {
   "cell_type": "code",
   "execution_count": 27,
   "id": "25bdc1a0-f6cb-4623-9c38-12de1b226946",
   "metadata": {},
   "outputs": [
    {
     "data": {
      "text/latex": [
       "$\\displaystyle \\lim_{x \\to 0^-} \\frac{1}{x}$"
      ],
      "text/plain": [
       "Limit(1/x, x, 0, dir='-')"
      ]
     },
     "execution_count": 27,
     "metadata": {},
     "output_type": "execute_result"
    }
   ],
   "source": [
    "sp.Limit(expr, x, 0, '-')"
   ]
  },
  {
   "cell_type": "code",
   "execution_count": 28,
   "id": "8becf119-8e81-4258-898d-d58a6fb74816",
   "metadata": {},
   "outputs": [
    {
     "data": {
      "text/latex": [
       "$\\displaystyle \\lim_{x \\to 0} \\frac{1}{x}$"
      ],
      "text/plain": [
       "Limit(1/x, x, 0, dir='+-')"
      ]
     },
     "execution_count": 28,
     "metadata": {},
     "output_type": "execute_result"
    }
   ],
   "source": [
    "sp.Limit(expr, x, 0, '+-')"
   ]
  },
  {
   "cell_type": "code",
   "execution_count": 29,
   "id": "b654d8a1-1f7f-49ff-83ec-22781dbac1aa",
   "metadata": {},
   "outputs": [
    {
     "data": {
      "text/latex": [
       "$\\displaystyle \\tilde{\\infty}$"
      ],
      "text/plain": [
       "zoo"
      ]
     },
     "execution_count": 29,
     "metadata": {},
     "output_type": "execute_result"
    }
   ],
   "source": [
    "sp.Limit(expr, x, 0, '+-').doit()"
   ]
  },
  {
   "cell_type": "markdown",
   "id": "587e7786-d139-4f02-8cb4-f82c21bcc750",
   "metadata": {},
   "source": [
    "## Series"
   ]
  },
  {
   "cell_type": "markdown",
   "id": "0fbfb1bc-4168-43a7-ab6e-eb7dff7f01c8",
   "metadata": {},
   "source": [
    "Polynomials are usually a lot easier to deal with than arbitray functions. Luckily, we can expand any (nice) function locally into an infinite sum of polynomials. This is called **Taylor Series**."
   ]
  },
  {
   "cell_type": "code",
   "execution_count": 31,
   "id": "f87b0d5f-5ae8-49c1-8252-945a57f793ce",
   "metadata": {},
   "outputs": [
    {
     "data": {
      "text/latex": [
       "$\\displaystyle \\sin{\\left(x \\right)}$"
      ],
      "text/plain": [
       "sin(x)"
      ]
     },
     "execution_count": 31,
     "metadata": {},
     "output_type": "execute_result"
    }
   ],
   "source": [
    "expr = sp.sin(x)\n",
    "expr"
   ]
  },
  {
   "cell_type": "code",
   "execution_count": 32,
   "id": "417b57ec-7197-4c88-aff1-c603ba819a66",
   "metadata": {},
   "outputs": [
    {
     "data": {
      "text/latex": [
       "$\\displaystyle 1 - \\frac{\\left(x - \\frac{\\pi}{2}\\right)^{2}}{2} + \\frac{\\left(x - \\frac{\\pi}{2}\\right)^{4}}{24} + O\\left(\\left(x - \\frac{\\pi}{2}\\right)^{6}; x\\rightarrow \\frac{\\pi}{2}\\right)$"
      ],
      "text/plain": [
       "1 - (x - pi/2)**2/2 + (x - pi/2)**4/24 + O((x - pi/2)**6, (x, pi/2))"
      ]
     },
     "execution_count": 32,
     "metadata": {},
     "output_type": "execute_result"
    }
   ],
   "source": [
    "sp.series(expr, x, sp.pi/2)"
   ]
  },
  {
   "cell_type": "markdown",
   "id": "62e10237-7d4c-4af2-b101-c740f75a0a71",
   "metadata": {},
   "source": [
    "### What can we do with Taylor Series"
   ]
  },
  {
   "cell_type": "code",
   "execution_count": 34,
   "id": "61d9e32d-ac2f-47a7-9efc-483866554654",
   "metadata": {},
   "outputs": [
    {
     "data": {
      "text/latex": [
       "$\\displaystyle e^{\\sin{\\left(x \\right)}}$"
      ],
      "text/plain": [
       "exp(sin(x))"
      ]
     },
     "execution_count": 34,
     "metadata": {},
     "output_type": "execute_result"
    }
   ],
   "source": [
    "expr = sp.exp(sp.sin(x))\n",
    "expr"
   ]
  },
  {
   "cell_type": "markdown",
   "id": "4d22c197-0e19-4dee-83a7-d65505cf819b",
   "metadata": {},
   "source": [
    "#### Get more terms"
   ]
  },
  {
   "cell_type": "code",
   "execution_count": 37,
   "id": "a7131695-f28d-4131-a7b4-d780eae36326",
   "metadata": {},
   "outputs": [
    {
     "data": {
      "text/latex": [
       "$\\displaystyle 1 + x + \\frac{x^{2}}{2} - \\frac{x^{4}}{8} - \\frac{x^{5}}{15} - \\frac{x^{6}}{240} + \\frac{x^{7}}{90} + O\\left(x^{8}\\right)$"
      ],
      "text/plain": [
       "1 + x + x**2/2 - x**4/8 - x**5/15 - x**6/240 + x**7/90 + O(x**8)"
      ]
     },
     "execution_count": 37,
     "metadata": {},
     "output_type": "execute_result"
    }
   ],
   "source": [
    "sp.series(expr, x, 0, n=8)"
   ]
  },
  {
   "cell_type": "markdown",
   "id": "30bf9bcf-722a-41a3-872c-ace2e02cc6a7",
   "metadata": {},
   "source": [
    "#### We can do arithmetic with Taylor expressions"
   ]
  },
  {
   "cell_type": "code",
   "execution_count": 39,
   "id": "cbb1e7da-dd99-4c46-9f49-ff6e970277b2",
   "metadata": {},
   "outputs": [
    {
     "data": {
      "text/latex": [
       "$\\displaystyle \\left(x - \\frac{x^{3}}{6} + \\frac{x^{5}}{120} + O\\left(x^{6}\\right)\\right) \\left(1 + x + \\frac{x^{2}}{2} - \\frac{x^{4}}{8} - \\frac{x^{5}}{15} - \\frac{x^{6}}{240} + \\frac{x^{7}}{90} + O\\left(x^{8}\\right)\\right)$"
      ],
      "text/plain": [
       "(x - x**3/6 + x**5/120 + O(x**6))*(1 + x + x**2/2 - x**4/8 - x**5/15 - x**6/240 + x**7/90 + O(x**8))"
      ]
     },
     "execution_count": 39,
     "metadata": {},
     "output_type": "execute_result"
    }
   ],
   "source": [
    "sp.series(expr, x, 0, n=8) * sp.series(sp.sin(x), x, 0, n=6)"
   ]
  },
  {
   "cell_type": "code",
   "execution_count": 40,
   "id": "8b06c6fa-a797-437b-b2c6-d25fda2b2060",
   "metadata": {},
   "outputs": [
    {
     "data": {
      "text/latex": [
       "$\\displaystyle x + x^{2} + \\frac{x^{3}}{3} - \\frac{x^{4}}{6} - \\frac{x^{5}}{5} + O\\left(x^{6}\\right)$"
      ],
      "text/plain": [
       "x + x**2 + x**3/3 - x**4/6 - x**5/5 + O(x**6)"
      ]
     },
     "execution_count": 40,
     "metadata": {},
     "output_type": "execute_result"
    }
   ],
   "source": [
    "(sp.series(expr, x, 0, n=8) * sp.series(sp.sin(x), x, 0, n=6)).expand()"
   ]
  },
  {
   "cell_type": "markdown",
   "id": "a731e47b-654b-4cc4-9c0c-18d61e0ffde0",
   "metadata": {},
   "source": [
    "#### We can differentiate or integrate Taylor Series"
   ]
  },
  {
   "cell_type": "code",
   "execution_count": 42,
   "id": "27f2714b-7727-46d2-a53b-6891a0c2d97b",
   "metadata": {},
   "outputs": [
    {
     "data": {
      "text/latex": [
       "$\\displaystyle 1 + x - \\frac{x^{3}}{2} - \\frac{x^{4}}{3} - \\frac{x^{5}}{40} + \\frac{7 x^{6}}{90} + O\\left(x^{7}\\right)$"
      ],
      "text/plain": [
       "1 + x - x**3/2 - x**4/3 - x**5/40 + 7*x**6/90 + O(x**7)"
      ]
     },
     "execution_count": 42,
     "metadata": {},
     "output_type": "execute_result"
    }
   ],
   "source": [
    "sp.diff(sp.series(expr, x, 0, n=8))"
   ]
  },
  {
   "cell_type": "code",
   "execution_count": 44,
   "id": "130a43d8-392c-47f3-89ae-635e0f4aa837",
   "metadata": {},
   "outputs": [
    {
     "data": {
      "text/latex": [
       "$\\displaystyle x + \\frac{x^{2}}{2} + \\frac{x^{3}}{6} - \\frac{x^{5}}{40} - \\frac{x^{6}}{90} - \\frac{x^{7}}{1680} + \\frac{x^{8}}{720} + O\\left(x^{9}\\right)$"
      ],
      "text/plain": [
       "x + x**2/2 + x**3/6 - x**5/40 - x**6/90 - x**7/1680 + x**8/720 + O(x**9)"
      ]
     },
     "execution_count": 44,
     "metadata": {},
     "output_type": "execute_result"
    }
   ],
   "source": [
    "sp.integrate(sp.series(expr, x, 0, n=8))"
   ]
  },
  {
   "cell_type": "markdown",
   "id": "8363c4c3-911e-4766-b5bd-83f41d53a5ca",
   "metadata": {},
   "source": [
    "#### We can remove the \"Big O\" from the expression"
   ]
  },
  {
   "cell_type": "code",
   "execution_count": 46,
   "id": "4776897b-eccb-42ae-911d-f78c3a3cec5c",
   "metadata": {},
   "outputs": [
    {
     "data": {
      "text/latex": [
       "$\\displaystyle \\frac{x^{7}}{90} - \\frac{x^{6}}{240} - \\frac{x^{5}}{15} - \\frac{x^{4}}{8} + \\frac{x^{2}}{2} + x + 1$"
      ],
      "text/plain": [
       "x**7/90 - x**6/240 - x**5/15 - x**4/8 + x**2/2 + x + 1"
      ]
     },
     "execution_count": 46,
     "metadata": {},
     "output_type": "execute_result"
    }
   ],
   "source": [
    "sp.series(expr, x, 0, n=8).removeO()"
   ]
  },
  {
   "cell_type": "code",
   "execution_count": null,
   "id": "889f3a08-b26a-4eb9-abfd-d699a2348f33",
   "metadata": {},
   "outputs": [],
   "source": []
  }
 ],
 "metadata": {
  "kernelspec": {
   "display_name": "Math",
   "language": "python",
   "name": "math"
  },
  "language_info": {
   "codemirror_mode": {
    "name": "ipython",
    "version": 3
   },
   "file_extension": ".py",
   "mimetype": "text/x-python",
   "name": "python",
   "nbconvert_exporter": "python",
   "pygments_lexer": "ipython3",
   "version": "3.8.12"
  }
 },
 "nbformat": 4,
 "nbformat_minor": 5
}
