{
 "cells": [
  {
   "cell_type": "markdown",
   "id": "01bf589d-7705-4886-8f83-90398a4a0e8c",
   "metadata": {},
   "source": [
    "# Simplifying Expressions"
   ]
  },
  {
   "cell_type": "code",
   "execution_count": 3,
   "id": "4b03600f-22f1-4a78-aac4-31b29c30d4f2",
   "metadata": {},
   "outputs": [],
   "source": [
    "import sympy as sp"
   ]
  },
  {
   "cell_type": "code",
   "execution_count": 4,
   "id": "1c2298f5-e536-4c97-9282-82d019aca280",
   "metadata": {},
   "outputs": [],
   "source": [
    "x, y = sp.symbols('x y')"
   ]
  },
  {
   "cell_type": "markdown",
   "id": "8e542825-f63c-430f-9e52-99aafef11a50",
   "metadata": {},
   "source": [
    "## Factor and Expand"
   ]
  },
  {
   "cell_type": "markdown",
   "id": "100577a4-ba2b-48d9-aed8-ef9c12a58a01",
   "metadata": {},
   "source": [
    "### Repetition"
   ]
  },
  {
   "cell_type": "code",
   "execution_count": 13,
   "id": "ef3352fa-1da7-460e-a7aa-d06228ab2682",
   "metadata": {},
   "outputs": [
    {
     "data": {
      "text/latex": [
       "$\\displaystyle x^{2} + 5 x + 6$"
      ],
      "text/plain": [
       "x**2 + 5*x + 6"
      ]
     },
     "execution_count": 13,
     "metadata": {},
     "output_type": "execute_result"
    }
   ],
   "source": [
    "poly = x**2 + 5*x + 6\n",
    "poly"
   ]
  },
  {
   "cell_type": "code",
   "execution_count": 14,
   "id": "06e7f494-e09c-4a21-81e8-71eb4c8ad8d4",
   "metadata": {},
   "outputs": [
    {
     "data": {
      "text/plain": [
       "sympy.core.add.Add"
      ]
     },
     "execution_count": 14,
     "metadata": {},
     "output_type": "execute_result"
    }
   ],
   "source": [
    "type(poly)"
   ]
  },
  {
   "cell_type": "code",
   "execution_count": 15,
   "id": "f90f976a-4a6f-458c-88d6-d00dc1b49265",
   "metadata": {},
   "outputs": [
    {
     "data": {
      "text/latex": [
       "$\\displaystyle \\left(x + 2\\right) \\left(x + 3\\right)$"
      ],
      "text/plain": [
       "(x + 2)*(x + 3)"
      ]
     },
     "execution_count": 15,
     "metadata": {},
     "output_type": "execute_result"
    }
   ],
   "source": [
    "poly = poly.factor()\n",
    "poly"
   ]
  },
  {
   "cell_type": "code",
   "execution_count": 16,
   "id": "8aee9020-f801-4ed5-b1f4-1479da8e6632",
   "metadata": {},
   "outputs": [
    {
     "data": {
      "text/plain": [
       "sympy.core.mul.Mul"
      ]
     },
     "execution_count": 16,
     "metadata": {},
     "output_type": "execute_result"
    }
   ],
   "source": [
    "type(poly)"
   ]
  },
  {
   "cell_type": "code",
   "execution_count": 17,
   "id": "9c452cf8-98e1-403c-a21f-c001e479498d",
   "metadata": {},
   "outputs": [
    {
     "data": {
      "text/latex": [
       "$\\displaystyle x^{2} + 5 x + 6$"
      ],
      "text/plain": [
       "x**2 + 5*x + 6"
      ]
     },
     "execution_count": 17,
     "metadata": {},
     "output_type": "execute_result"
    }
   ],
   "source": [
    "poly.expand()"
   ]
  },
  {
   "cell_type": "markdown",
   "id": "19176e47-fd2c-438a-a72a-506018059051",
   "metadata": {},
   "source": [
    "## Expanding Other Expressions"
   ]
  },
  {
   "cell_type": "code",
   "execution_count": 22,
   "id": "135c42cc-fb80-4c94-9076-e99fb6e2d5fd",
   "metadata": {},
   "outputs": [
    {
     "data": {
      "text/latex": [
       "$\\displaystyle e^{x + y}$"
      ],
      "text/plain": [
       "exp(x + y)"
      ]
     },
     "execution_count": 22,
     "metadata": {},
     "output_type": "execute_result"
    }
   ],
   "source": [
    "sp.exp(x + y)"
   ]
  },
  {
   "cell_type": "code",
   "execution_count": 23,
   "id": "79759786-f21f-4ea9-b9e6-16450af71cf3",
   "metadata": {},
   "outputs": [
    {
     "data": {
      "text/latex": [
       "$\\displaystyle e^{x} e^{y}$"
      ],
      "text/plain": [
       "exp(x)*exp(y)"
      ]
     },
     "execution_count": 23,
     "metadata": {},
     "output_type": "execute_result"
    }
   ],
   "source": [
    "sp.exp(x + y).expand()"
   ]
  },
  {
   "cell_type": "code",
   "execution_count": 26,
   "id": "bc561825-d5b1-4bf9-8a7f-a3f417bf0b20",
   "metadata": {},
   "outputs": [
    {
     "data": {
      "text/latex": [
       "$\\displaystyle \\left(\\sin{\\left(y \\right)} + \\cos{\\left(x \\right)}\\right)^{2} - \\cos^{2}{\\left(x \\right)}$"
      ],
      "text/plain": [
       "(sin(y) + cos(x))**2 - cos(x)**2"
      ]
     },
     "execution_count": 26,
     "metadata": {},
     "output_type": "execute_result"
    }
   ],
   "source": [
    "trig = (sp.cos(x) + sp.sin(y))**2 - sp.cos(x)**2\n",
    "trig"
   ]
  },
  {
   "cell_type": "code",
   "execution_count": 27,
   "id": "6a001172-2579-4bba-8954-197bb6d901b0",
   "metadata": {},
   "outputs": [
    {
     "data": {
      "text/plain": [
       "sympy.core.add.Add"
      ]
     },
     "execution_count": 27,
     "metadata": {},
     "output_type": "execute_result"
    }
   ],
   "source": [
    "type(trig)"
   ]
  },
  {
   "cell_type": "code",
   "execution_count": 28,
   "id": "b321e736-b746-415a-8e8f-7d1941a817d1",
   "metadata": {},
   "outputs": [
    {
     "data": {
      "text/latex": [
       "$\\displaystyle \\sin^{2}{\\left(y \\right)} + 2 \\sin{\\left(y \\right)} \\cos{\\left(x \\right)}$"
      ],
      "text/plain": [
       "sin(y)**2 + 2*sin(y)*cos(x)"
      ]
     },
     "execution_count": 28,
     "metadata": {},
     "output_type": "execute_result"
    }
   ],
   "source": [
    "trig.expand()"
   ]
  },
  {
   "cell_type": "markdown",
   "id": "dce17b6c-0b9d-408d-a0b3-ef18af0f255f",
   "metadata": {},
   "source": [
    "## Avoiding certain simplifications"
   ]
  },
  {
   "cell_type": "markdown",
   "id": "30eafeb0-d01a-4c66-8675-7bfd7c5c7a04",
   "metadata": {},
   "source": [
    "Sometimes, we only wish to simplify certain parts of an expression. This can be done with optional arguments in the ```expand()``` method."
   ]
  },
  {
   "cell_type": "code",
   "execution_count": 33,
   "id": "fe485b45-501e-4a59-b29b-426ed1fe4131",
   "metadata": {},
   "outputs": [
    {
     "data": {
      "text/latex": [
       "$\\displaystyle \\left(\\sin{\\left(y \\right)} + \\cos{\\left(x \\right)}\\right)^{2} + e^{x + y} - \\cos^{2}{\\left(x \\right)}$"
      ],
      "text/plain": [
       "(sin(y) + cos(x))**2 + exp(x + y) - cos(x)**2"
      ]
     },
     "execution_count": 33,
     "metadata": {},
     "output_type": "execute_result"
    }
   ],
   "source": [
    "trig_and_exp = sp.exp(x+y) + trig\n",
    "trig_and_exp"
   ]
  },
  {
   "cell_type": "code",
   "execution_count": 34,
   "id": "a238e0a0-f559-4765-85f4-7ed9321ee7bc",
   "metadata": {},
   "outputs": [
    {
     "data": {
      "text/plain": [
       "sympy.core.add.Add"
      ]
     },
     "execution_count": 34,
     "metadata": {},
     "output_type": "execute_result"
    }
   ],
   "source": [
    "type(trig_and_exp)"
   ]
  },
  {
   "cell_type": "code",
   "execution_count": 35,
   "id": "9411f306-5756-4df1-bac1-34734a7a1f66",
   "metadata": {},
   "outputs": [
    {
     "data": {
      "text/latex": [
       "$\\displaystyle e^{x} e^{y} + \\sin^{2}{\\left(y \\right)} + 2 \\sin{\\left(y \\right)} \\cos{\\left(x \\right)}$"
      ],
      "text/plain": [
       "exp(x)*exp(y) + sin(y)**2 + 2*sin(y)*cos(x)"
      ]
     },
     "execution_count": 35,
     "metadata": {},
     "output_type": "execute_result"
    }
   ],
   "source": [
    "trig_and_exp.expand()"
   ]
  },
  {
   "cell_type": "code",
   "execution_count": 36,
   "id": "898a4b31-036a-4a0c-9fc6-98b3b115f4f8",
   "metadata": {},
   "outputs": [
    {
     "data": {
      "text/latex": [
       "$\\displaystyle e^{x + y} + \\sin^{2}{\\left(y \\right)} + 2 \\sin{\\left(y \\right)} \\cos{\\left(x \\right)}$"
      ],
      "text/plain": [
       "exp(x + y) + sin(y)**2 + 2*sin(y)*cos(x)"
      ]
     },
     "execution_count": 36,
     "metadata": {},
     "output_type": "execute_result"
    }
   ],
   "source": [
    "trig_and_exp.expand(power_exp=False)"
   ]
  },
  {
   "cell_type": "code",
   "execution_count": 52,
   "id": "728bc86a-2cd4-4f04-b0ee-cedb6461c6d8",
   "metadata": {
    "collapsed": true,
    "jupyter": {
     "outputs_hidden": true
    },
    "tags": []
   },
   "outputs": [
    {
     "data": {
      "text/plain": [
       "'\\nexpand(deep=True, \\n       modulus=None, \\n       power_base=True, \\n       power_exp=True, \\n       mul=True, \\n       log=True, \\n       multinomial=True, \\n       basic=True, \\n       **hints)\\n'"
      ]
     },
     "execution_count": 52,
     "metadata": {},
     "output_type": "execute_result"
    }
   ],
   "source": [
    "\"\"\"\n",
    "expand(deep=True, \n",
    "       modulus=None, \n",
    "       power_base=True, \n",
    "       power_exp=True, \n",
    "       mul=True, \n",
    "       log=True, \n",
    "       multinomial=True, \n",
    "       basic=True, \n",
    "       **hints)\n",
    "\"\"\""
   ]
  },
  {
   "cell_type": "markdown",
   "id": "53cef061-a5f8-4354-b2b3-ee175e31f19c",
   "metadata": {},
   "source": [
    "## Cancel and Apart"
   ]
  },
  {
   "cell_type": "markdown",
   "id": "ee626155-e230-4e3a-8aa0-4da6092d0ad0",
   "metadata": {},
   "source": [
    "The method ```cancel()``` and ```apart()``` are both for simplifying **rational functions** - fractions with polynomials in the numerator and denominator"
   ]
  },
  {
   "cell_type": "markdown",
   "id": "5d5db9e1-64bd-4dcd-939c-760649dd3ee6",
   "metadata": {},
   "source": [
    "### The Cancel Method"
   ]
  },
  {
   "cell_type": "markdown",
   "id": "200a64b2-4016-44e1-b459-8fbf28e63fe8",
   "metadata": {},
   "source": [
    "The cancel method will take any rational function on the form \n",
    "<br><br> $\\frac{f(x)}{g(x)}$ <br><br>\n",
    "and factor it, so that the polynomials **f(x)** and **g(x)** have no common factors."
   ]
  },
  {
   "cell_type": "code",
   "execution_count": 42,
   "id": "bee0f418-3871-4f46-bb39-e3db2e565ce4",
   "metadata": {},
   "outputs": [
    {
     "data": {
      "text/latex": [
       "$\\displaystyle \\frac{x^{3} + 10 x^{2} + 31 x + 30}{x^{2} + 12 x + 35}$"
      ],
      "text/plain": [
       "(x**3 + 10*x**2 + 31*x + 30)/(x**2 + 12*x + 35)"
      ]
     },
     "execution_count": 42,
     "metadata": {},
     "output_type": "execute_result"
    }
   ],
   "source": [
    "f = x**3 + 10 * x**2 + 31*x + 30\n",
    "g = x**2 + 12 * x + 35\n",
    "fraction = f / g\n",
    "fraction"
   ]
  },
  {
   "cell_type": "markdown",
   "id": "255cd44c-784d-4046-a683-857149d21ccb",
   "metadata": {},
   "source": [
    "#### Factors the fraction into the canonical form"
   ]
  },
  {
   "cell_type": "code",
   "execution_count": 44,
   "id": "17d24289-3ce0-4fba-aa82-b03a9c3420ab",
   "metadata": {},
   "outputs": [
    {
     "data": {
      "text/latex": [
       "$\\displaystyle \\frac{x^{2} + 5 x + 6}{x + 7}$"
      ],
      "text/plain": [
       "(x**2 + 5*x + 6)/(x + 7)"
      ]
     },
     "execution_count": 44,
     "metadata": {},
     "output_type": "execute_result"
    }
   ],
   "source": [
    "fraction.cancel()"
   ]
  },
  {
   "cell_type": "code",
   "execution_count": 45,
   "id": "a0fa8bbb-d3b0-4489-bb88-ab70e6269fab",
   "metadata": {},
   "outputs": [
    {
     "data": {
      "text/latex": [
       "$\\displaystyle \\frac{x^{2} + 5 x + 6}{x + 7}$"
      ],
      "text/plain": [
       "(x**2 + 5*x + 6)/(x + 7)"
      ]
     },
     "execution_count": 45,
     "metadata": {},
     "output_type": "execute_result"
    }
   ],
   "source": [
    "sp.cancel(fraction)"
   ]
  },
  {
   "cell_type": "markdown",
   "id": "917595b2-c13b-4feb-a9ba-a2cf9daf8350",
   "metadata": {},
   "source": [
    "## Apart Method"
   ]
  },
  {
   "cell_type": "markdown",
   "id": "5a2068df-ab6a-42ec-aca3-e35075e16cb8",
   "metadata": {},
   "source": [
    "The ```apart()``` method will perform the **partial fraction decomposition** on a rational function. This is useful when integrating a function."
   ]
  },
  {
   "cell_type": "code",
   "execution_count": 55,
   "id": "991a462c-7995-4690-8616-7196a57120ba",
   "metadata": {},
   "outputs": [
    {
     "data": {
      "text/latex": [
       "$\\displaystyle \\frac{x^{3} + 10 x^{2} + 31 x + 30}{x^{2} + 12 x + 35}$"
      ],
      "text/plain": [
       "(x**3 + 10*x**2 + 31*x + 30)/(x**2 + 12*x + 35)"
      ]
     },
     "execution_count": 55,
     "metadata": {},
     "output_type": "execute_result"
    }
   ],
   "source": [
    "f = x**3 + 10 * x**2 + 31*x + 30\n",
    "g = x**2 + 12 * x + 35\n",
    "fraction = f / g\n",
    "fraction"
   ]
  },
  {
   "cell_type": "markdown",
   "id": "1e86aa13-61b8-4e4e-9ef9-33e3fa8d9e48",
   "metadata": {},
   "source": [
    "#### it will decompose the function into a Quotient function and rational remainder function (Like doing a long division to the function)"
   ]
  },
  {
   "cell_type": "code",
   "execution_count": 58,
   "id": "6a2cdf77-015d-4669-8c89-b99bc2b465f8",
   "metadata": {},
   "outputs": [
    {
     "data": {
      "text/latex": [
       "$\\displaystyle x - 2 + \\frac{20}{x + 7}$"
      ],
      "text/plain": [
       "x - 2 + 20/(x + 7)"
      ]
     },
     "execution_count": 58,
     "metadata": {},
     "output_type": "execute_result"
    }
   ],
   "source": [
    "fraction.apart()"
   ]
  },
  {
   "cell_type": "markdown",
   "id": "a696dba3-31d2-4bdd-95ae-4d7d166b9994",
   "metadata": {},
   "source": [
    "## The General Simplify"
   ]
  },
  {
   "cell_type": "markdown",
   "id": "31ea0c4c-38a3-4568-977f-3bc561ed6917",
   "metadata": {},
   "source": [
    "The ```simplify()``` method is the general purpose simplification method in SymPy. It is the most versatile, but also the slowest and most unspecific."
   ]
  },
  {
   "cell_type": "code",
   "execution_count": 71,
   "id": "7c2afd64-7abd-438e-805b-4b7469db1b5b",
   "metadata": {},
   "outputs": [
    {
     "data": {
      "text/latex": [
       "$\\displaystyle \\left(\\sin{\\left(x \\right)} + \\cos{\\left(x \\right)}\\right)^{2} - e^{x} + e^{x + y} - \\cos{\\left(x \\right)}$"
      ],
      "text/plain": [
       "(sin(x) + cos(x))**2 - exp(x) + exp(x + y) - cos(x)"
      ]
     },
     "execution_count": 71,
     "metadata": {},
     "output_type": "execute_result"
    }
   ],
   "source": [
    "expr = sp.exp(x+y) + (sp.cos(x) + sp.sin(x))**2 - sp.cos(x) - sp.exp(x)\n",
    "expr"
   ]
  },
  {
   "cell_type": "code",
   "execution_count": 72,
   "id": "6ae0a276-9b16-4d1c-ab1f-341680004738",
   "metadata": {},
   "outputs": [
    {
     "data": {
      "text/latex": [
       "$\\displaystyle - e^{x} + e^{x + y} + \\sin{\\left(2 x \\right)} - \\cos{\\left(x \\right)} + 1$"
      ],
      "text/plain": [
       "-exp(x) + exp(x + y) + sin(2*x) - cos(x) + 1"
      ]
     },
     "execution_count": 72,
     "metadata": {},
     "output_type": "execute_result"
    }
   ],
   "source": [
    "expr.simplify()"
   ]
  },
  {
   "cell_type": "markdown",
   "id": "14b21b87-228b-4ee1-abf2-c3cf6a33c828",
   "metadata": {},
   "source": [
    "If you just want a quick simplification, then try ```simplify()```. If you need more fine tuning, then use a more specialized method."
   ]
  },
  {
   "cell_type": "code",
   "execution_count": null,
   "id": "d578f8ae-5fc0-40cb-96b1-764d16e9518b",
   "metadata": {},
   "outputs": [],
   "source": []
  }
 ],
 "metadata": {
  "kernelspec": {
   "display_name": "Math",
   "language": "python",
   "name": "math"
  },
  "language_info": {
   "codemirror_mode": {
    "name": "ipython",
    "version": 3
   },
   "file_extension": ".py",
   "mimetype": "text/x-python",
   "name": "python",
   "nbconvert_exporter": "python",
   "pygments_lexer": "ipython3",
   "version": "3.8.12"
  }
 },
 "nbformat": 4,
 "nbformat_minor": 5
}
