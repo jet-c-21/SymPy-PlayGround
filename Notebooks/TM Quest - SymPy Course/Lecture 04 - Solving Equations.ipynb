{
 "cells": [
  {
   "cell_type": "markdown",
   "id": "938ceb4f-cc76-4926-95ef-da2885e4a3ec",
   "metadata": {},
   "source": [
    "# Solving Equations"
   ]
  },
  {
   "cell_type": "code",
   "execution_count": 1,
   "id": "47a3f7f9-3b82-4f8b-a9a1-9f0b27b571ab",
   "metadata": {},
   "outputs": [],
   "source": [
    "import sympy as sp"
   ]
  },
  {
   "cell_type": "markdown",
   "id": "7efae2cf-335e-40d1-93e7-d06d42a22c07",
   "metadata": {},
   "source": [
    "## Defining Equations"
   ]
  },
  {
   "cell_type": "code",
   "execution_count": 5,
   "id": "0b665701-c6a5-499c-a7fc-cca35e1b9a0a",
   "metadata": {},
   "outputs": [],
   "source": [
    "x, y, z = sp.symbols('x y z')"
   ]
  },
  {
   "cell_type": "markdown",
   "id": "2893b1db-b9af-4865-97dd-00deedeb86d6",
   "metadata": {},
   "source": [
    "### Define x<sup>2</sup> = 5"
   ]
  },
  {
   "cell_type": "code",
   "execution_count": 6,
   "id": "3a139130-b4f5-42a3-8a86-7352f81f934e",
   "metadata": {},
   "outputs": [
    {
     "data": {
      "text/latex": [
       "$\\displaystyle x^{2} = 5$"
      ],
      "text/plain": [
       "Eq(x**2, 5)"
      ]
     },
     "execution_count": 6,
     "metadata": {},
     "output_type": "execute_result"
    }
   ],
   "source": [
    "eq = sp.Eq(x**2, 5)\n",
    "eq"
   ]
  },
  {
   "cell_type": "code",
   "execution_count": 7,
   "id": "5ba15a23-9a6b-4bf8-b7b3-1fac500bf6fa",
   "metadata": {},
   "outputs": [
    {
     "data": {
      "text/plain": [
       "sympy.core.relational.Equality"
      ]
     },
     "execution_count": 7,
     "metadata": {},
     "output_type": "execute_result"
    }
   ],
   "source": [
    "type(eq)"
   ]
  },
  {
   "cell_type": "markdown",
   "id": "5fdd92b0-a194-4bab-a846-fbc1d013d0e3",
   "metadata": {},
   "source": [
    "## Solving Equations"
   ]
  },
  {
   "cell_type": "markdown",
   "id": "ee8181b2-566c-49e4-beff-3101185cba77",
   "metadata": {},
   "source": [
    "### First Example"
   ]
  },
  {
   "cell_type": "code",
   "execution_count": 10,
   "id": "9f0db5e1-2a09-4f59-bfd9-a25a2a134237",
   "metadata": {},
   "outputs": [
    {
     "data": {
      "text/latex": [
       "$\\displaystyle \\left\\{- \\sqrt{5}, \\sqrt{5}\\right\\}$"
      ],
      "text/plain": [
       "{-sqrt(5), sqrt(5)}"
      ]
     },
     "execution_count": 10,
     "metadata": {},
     "output_type": "execute_result"
    }
   ],
   "source": [
    "sp.solveset(eq)"
   ]
  },
  {
   "cell_type": "code",
   "execution_count": 12,
   "id": "29cfa061-9431-4ce1-b84b-7a695ab296d3",
   "metadata": {},
   "outputs": [
    {
     "data": {
      "text/latex": [
       "$\\displaystyle \\left\\{- \\sqrt{5}, \\sqrt{5}\\right\\}$"
      ],
      "text/plain": [
       "{-sqrt(5), sqrt(5)}"
      ]
     },
     "execution_count": 12,
     "metadata": {},
     "output_type": "execute_result"
    }
   ],
   "source": [
    "sp.solveset(eq, x)"
   ]
  },
  {
   "cell_type": "code",
   "execution_count": 11,
   "id": "7fcb5f12-3346-45d4-8eab-539d8dc4c090",
   "metadata": {},
   "outputs": [
    {
     "data": {
      "text/plain": [
       "sympy.sets.sets.FiniteSet"
      ]
     },
     "execution_count": 11,
     "metadata": {},
     "output_type": "execute_result"
    }
   ],
   "source": [
    "type(sp.solveset(eq))"
   ]
  },
  {
   "cell_type": "markdown",
   "id": "e6c6f94e-092b-4156-a1ac-66a85ca7dd51",
   "metadata": {},
   "source": [
    "#### Extracting the first solution"
   ]
  },
  {
   "cell_type": "code",
   "execution_count": 15,
   "id": "d5a80aec-d320-4678-b28e-00c5512cc1c9",
   "metadata": {},
   "outputs": [
    {
     "data": {
      "text/latex": [
       "$\\displaystyle \\sqrt{5}$"
      ],
      "text/plain": [
       "sqrt(5)"
      ]
     },
     "execution_count": 15,
     "metadata": {},
     "output_type": "execute_result"
    }
   ],
   "source": [
    "list(sp.solveset(eq, x))[0]"
   ]
  },
  {
   "cell_type": "markdown",
   "id": "c4734f43-12d6-46dd-ad03-3b49037ec441",
   "metadata": {},
   "source": [
    "#### We can rewrite the equation as well"
   ]
  },
  {
   "cell_type": "code",
   "execution_count": 24,
   "id": "5f26f064-31e6-43e9-9562-5b49eeba84f5",
   "metadata": {},
   "outputs": [
    {
     "data": {
      "text/latex": [
       "$\\displaystyle x^{2} - 5 = 0$"
      ],
      "text/plain": [
       "Eq(x**2 - 5, 0)"
      ]
     },
     "execution_count": 24,
     "metadata": {},
     "output_type": "execute_result"
    }
   ],
   "source": [
    "eq_rw = sp.Eq(x**2-5, 0)\n",
    "eq_rw"
   ]
  },
  {
   "cell_type": "code",
   "execution_count": 25,
   "id": "72ed5cae-9cc2-42ad-9408-8a22715b1e5f",
   "metadata": {},
   "outputs": [
    {
     "data": {
      "text/latex": [
       "$\\displaystyle \\left\\{- \\sqrt{5}, \\sqrt{5}\\right\\}$"
      ],
      "text/plain": [
       "{-sqrt(5), sqrt(5)}"
      ]
     },
     "execution_count": 25,
     "metadata": {},
     "output_type": "execute_result"
    }
   ],
   "source": [
    "sp.solveset(eq_rw, x)"
   ]
  },
  {
   "cell_type": "markdown",
   "id": "4c779258-2287-49f7-ae49-c40463fe7dee",
   "metadata": {},
   "source": [
    "## Second Example"
   ]
  },
  {
   "cell_type": "code",
   "execution_count": 26,
   "id": "7b96e9d3-abac-4d70-baa7-bd6d4278eb85",
   "metadata": {},
   "outputs": [
    {
     "data": {
      "text/latex": [
       "$\\displaystyle - \\sin{\\left(x \\right)} + \\cos{\\left(x \\right)} = 0$"
      ],
      "text/plain": [
       "Eq(-sin(x) + cos(x), 0)"
      ]
     },
     "execution_count": 26,
     "metadata": {},
     "output_type": "execute_result"
    }
   ],
   "source": [
    "eq2 = sp.Eq(sp.cos(x) - sp.sin(x), 0)\n",
    "eq2"
   ]
  },
  {
   "cell_type": "code",
   "execution_count": 29,
   "id": "37fb8ad3-65ee-4508-a7a5-460813aca2e0",
   "metadata": {},
   "outputs": [
    {
     "data": {
      "text/latex": [
       "$\\displaystyle \\left\\{2 n \\pi + \\frac{5 \\pi}{4}\\; \\middle|\\; n \\in \\mathbb{Z}\\right\\} \\cup \\left\\{2 n \\pi + \\frac{\\pi}{4}\\; \\middle|\\; n \\in \\mathbb{Z}\\right\\}$"
      ],
      "text/plain": [
       "Union(ImageSet(Lambda(_n, 2*_n*pi + 5*pi/4), Integers), ImageSet(Lambda(_n, 2*_n*pi + pi/4), Integers))"
      ]
     },
     "execution_count": 29,
     "metadata": {},
     "output_type": "execute_result"
    }
   ],
   "source": [
    "sp.solveset(eq2)"
   ]
  },
  {
   "cell_type": "code",
   "execution_count": 30,
   "id": "2f282e56-af7f-493b-b88d-a19f824549a7",
   "metadata": {},
   "outputs": [
    {
     "data": {
      "text/plain": [
       "sympy.sets.sets.Union"
      ]
     },
     "execution_count": 30,
     "metadata": {},
     "output_type": "execute_result"
    }
   ],
   "source": [
    "type(sp.solveset(eq2))"
   ]
  },
  {
   "cell_type": "markdown",
   "id": "f0a056fb-4c5b-437e-91fa-896b6959609d",
   "metadata": {},
   "source": [
    "## Third Example"
   ]
  },
  {
   "cell_type": "markdown",
   "id": "96dc29f9-eae3-42b9-9a2f-bd7c95a7b400",
   "metadata": {},
   "source": [
    "some equations are only possible to solve numerically, but SymPy can't solve them."
   ]
  },
  {
   "cell_type": "code",
   "execution_count": 38,
   "id": "1688acda-fbd0-4ed5-bdc5-f373d6489a06",
   "metadata": {},
   "outputs": [
    {
     "data": {
      "text/latex": [
       "$\\displaystyle \\cos{\\left(x \\right)} = x$"
      ],
      "text/plain": [
       "Eq(cos(x), x)"
      ]
     },
     "execution_count": 38,
     "metadata": {},
     "output_type": "execute_result"
    }
   ],
   "source": [
    "eq3 = sp.Eq(sp.cos(x), x)\n",
    "eq3"
   ]
  },
  {
   "cell_type": "code",
   "execution_count": 39,
   "id": "f8b1ad86-1dbb-486f-94f7-9d8408ee9189",
   "metadata": {},
   "outputs": [
    {
     "data": {
      "text/latex": [
       "$\\displaystyle \\left\\{x\\; \\middle|\\; x \\in \\mathbb{C} \\wedge - x + \\cos{\\left(x \\right)} = 0 \\right\\}$"
      ],
      "text/plain": [
       "ConditionSet(x, Eq(-x + cos(x), 0), Complexes)"
      ]
     },
     "execution_count": 39,
     "metadata": {},
     "output_type": "execute_result"
    }
   ],
   "source": [
    "sp.solveset(eq3)"
   ]
  },
  {
   "cell_type": "code",
   "execution_count": 40,
   "id": "7f68b2d9-b78c-4f55-8aa2-6380b1ad2f2f",
   "metadata": {},
   "outputs": [
    {
     "data": {
      "text/plain": [
       "sympy.sets.conditionset.ConditionSet"
      ]
     },
     "execution_count": 40,
     "metadata": {},
     "output_type": "execute_result"
    }
   ],
   "source": [
    "type(sp.solveset(eq3))"
   ]
  },
  {
   "cell_type": "markdown",
   "id": "25c4f536-0fe7-4e2d-9d1a-973c2d7c8ed9",
   "metadata": {},
   "source": [
    "## Solving Systems of Linear Equations"
   ]
  },
  {
   "cell_type": "code",
   "execution_count": 45,
   "id": "7dacf9ac-a2ca-4d8a-9b0e-21252f0dd092",
   "metadata": {},
   "outputs": [
    {
     "data": {
      "text/latex": [
       "$\\displaystyle x = 3 y + z$"
      ],
      "text/plain": [
       "Eq(x, 3*y + z)"
      ]
     },
     "execution_count": 45,
     "metadata": {},
     "output_type": "execute_result"
    }
   ],
   "source": [
    "lin_eq1 = sp.Eq(x, 3*y + z)\n",
    "lin_eq1"
   ]
  },
  {
   "cell_type": "code",
   "execution_count": 46,
   "id": "5ab18087-673e-40fa-a594-6e1b538aa999",
   "metadata": {},
   "outputs": [
    {
     "data": {
      "text/latex": [
       "$\\displaystyle 5 x - 3 z = y$"
      ],
      "text/plain": [
       "Eq(5*x - 3*z, y)"
      ]
     },
     "execution_count": 46,
     "metadata": {},
     "output_type": "execute_result"
    }
   ],
   "source": [
    "lin_eq2 = sp.Eq(5*x-3*z, y)\n",
    "lin_eq2"
   ]
  },
  {
   "cell_type": "code",
   "execution_count": 51,
   "id": "0af3298e-1e8f-4485-b51c-a2b99fdd68b9",
   "metadata": {},
   "outputs": [
    {
     "data": {
      "text/latex": [
       "$\\displaystyle \\left\\{\\left( \\frac{4 z}{7}, \\  - \\frac{z}{7}, \\  z\\right)\\right\\}$"
      ],
      "text/plain": [
       "{(4*z/7, -z/7, z)}"
      ]
     },
     "execution_count": 51,
     "metadata": {},
     "output_type": "execute_result"
    }
   ],
   "source": [
    "ans1 = sp.linsolve([lin_eq1, lin_eq2], x, y, z)\n",
    "ans1"
   ]
  },
  {
   "cell_type": "code",
   "execution_count": 52,
   "id": "3942007a-4c7f-441b-a7e3-479137f7e110",
   "metadata": {},
   "outputs": [
    {
     "data": {
      "text/plain": [
       "sympy.sets.sets.FiniteSet"
      ]
     },
     "execution_count": 52,
     "metadata": {},
     "output_type": "execute_result"
    }
   ],
   "source": [
    "type(ans1)"
   ]
  },
  {
   "cell_type": "markdown",
   "id": "414f4fbb-1482-4d13-8c18-8028949c3d27",
   "metadata": {},
   "source": [
    "### Linear Equation Test"
   ]
  },
  {
   "cell_type": "code",
   "execution_count": 56,
   "id": "a0b53d7b-86b5-4a63-816e-aea38eeff6d1",
   "metadata": {},
   "outputs": [
    {
     "data": {
      "text/latex": [
       "$\\displaystyle 2 x + y = 5$"
      ],
      "text/plain": [
       "Eq(2*x + y, 5)"
      ]
     },
     "execution_count": 56,
     "metadata": {},
     "output_type": "execute_result"
    }
   ],
   "source": [
    "lin_eq1 = sp.Eq(2*x + y, 5)\n",
    "lin_eq1"
   ]
  },
  {
   "cell_type": "code",
   "execution_count": 57,
   "id": "5d24e34e-3348-4909-88bd-7f6b2ba83fc4",
   "metadata": {},
   "outputs": [
    {
     "data": {
      "text/latex": [
       "$\\displaystyle x - y = 7$"
      ],
      "text/plain": [
       "Eq(x - y, 7)"
      ]
     },
     "execution_count": 57,
     "metadata": {},
     "output_type": "execute_result"
    }
   ],
   "source": [
    "lin_eq2 = sp.Eq(x - y, 7)\n",
    "lin_eq2"
   ]
  },
  {
   "cell_type": "code",
   "execution_count": 60,
   "id": "a01083f5-f368-4b19-99c2-38125acaf0ba",
   "metadata": {},
   "outputs": [
    {
     "data": {
      "text/latex": [
       "$\\displaystyle \\left\\{\\left( 4, \\  -3\\right)\\right\\}$"
      ],
      "text/plain": [
       "{(4, -3)}"
      ]
     },
     "execution_count": 60,
     "metadata": {},
     "output_type": "execute_result"
    }
   ],
   "source": [
    "ans2 = sp.linsolve([lin_eq1, lin_eq2], (x, y))\n",
    "ans2"
   ]
  },
  {
   "cell_type": "code",
   "execution_count": null,
   "id": "eb5f8afd-5145-4a13-8bee-d8fa537e5f59",
   "metadata": {},
   "outputs": [],
   "source": []
  }
 ],
 "metadata": {
  "kernelspec": {
   "display_name": "Math",
   "language": "python",
   "name": "math"
  },
  "language_info": {
   "codemirror_mode": {
    "name": "ipython",
    "version": 3
   },
   "file_extension": ".py",
   "mimetype": "text/x-python",
   "name": "python",
   "nbconvert_exporter": "python",
   "pygments_lexer": "ipython3",
   "version": "3.8.12"
  }
 },
 "nbformat": 4,
 "nbformat_minor": 5
}
