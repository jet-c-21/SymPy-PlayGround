{
 "cells": [
  {
   "cell_type": "markdown",
   "id": "66b79ed1-839b-4f84-8fde-a2208102f1a1",
   "metadata": {},
   "source": [
    "# Evaluating Expressions"
   ]
  },
  {
   "cell_type": "code",
   "execution_count": 1,
   "id": "8902cda6-13f6-40f2-98a9-9ef9c6987d59",
   "metadata": {},
   "outputs": [],
   "source": [
    "import sympy as sp"
   ]
  },
  {
   "cell_type": "markdown",
   "id": "397bd85e-260d-477c-ad07-3b1fa6bbea3d",
   "metadata": {},
   "source": [
    "## Real, Positive or Integer Symbols?"
   ]
  },
  {
   "cell_type": "markdown",
   "id": "f6a9c7bb-6231-4663-8f5c-01304d5f46b1",
   "metadata": {},
   "source": [
    "All symbols in SymPy are by default complex. However, some simplifications only work when the symbols are real, positive, integer etc. An example of this is **log(exp(x)) = x** which is only true for real numbers. Hence if you have more knowledge of your symbols you should specify it to SymPy."
   ]
  },
  {
   "cell_type": "code",
   "execution_count": 3,
   "id": "c8fbd5a1-e37f-4ad2-af60-23bb8cb0da78",
   "metadata": {},
   "outputs": [],
   "source": [
    "z = sp.Symbol('z')"
   ]
  },
  {
   "cell_type": "code",
   "execution_count": 4,
   "id": "36a3e3f4-3d42-46bd-a2b2-05adfe32d224",
   "metadata": {},
   "outputs": [
    {
     "data": {
      "text/latex": [
       "$\\displaystyle \\log{\\left(e^{z} \\right)}$"
      ],
      "text/plain": [
       "log(exp(z))"
      ]
     },
     "execution_count": 4,
     "metadata": {},
     "output_type": "execute_result"
    }
   ],
   "source": [
    "sp.log(sp.exp(z))"
   ]
  },
  {
   "cell_type": "markdown",
   "id": "ec2736e7-c4a6-4e1d-9408-aa5aed55703f",
   "metadata": {},
   "source": [
    "#### Make three real symbols"
   ]
  },
  {
   "cell_type": "code",
   "execution_count": 5,
   "id": "532129be-18b6-4965-96a2-66b8f3a133bc",
   "metadata": {},
   "outputs": [],
   "source": [
    "x0, x1, x2 = sp.symbols('x0:3', real=True)"
   ]
  },
  {
   "cell_type": "code",
   "execution_count": 6,
   "id": "a82e21c7-cd8a-48ea-b5da-2db3e7288f07",
   "metadata": {},
   "outputs": [
    {
     "data": {
      "text/plain": [
       "(sympy.core.symbol.Symbol, sympy.core.symbol.Symbol)"
      ]
     },
     "execution_count": 6,
     "metadata": {},
     "output_type": "execute_result"
    }
   ],
   "source": [
    "type(z), type(x0)"
   ]
  },
  {
   "cell_type": "code",
   "execution_count": 7,
   "id": "1fce3c8a-9889-447c-a057-2811c3ede672",
   "metadata": {},
   "outputs": [
    {
     "data": {
      "text/latex": [
       "$\\displaystyle x_{0}$"
      ],
      "text/plain": [
       "x0"
      ]
     },
     "execution_count": 7,
     "metadata": {},
     "output_type": "execute_result"
    }
   ],
   "source": [
    "sp.log(sp.exp(x0))"
   ]
  },
  {
   "cell_type": "markdown",
   "id": "1771db3a-7ae3-471e-be9e-7ebccffaad4e",
   "metadata": {},
   "source": [
    "### Is the symbol Positive or Negative?"
   ]
  },
  {
   "cell_type": "code",
   "execution_count": 9,
   "id": "d67bba7a-20ed-4f40-922b-41cdd430e97f",
   "metadata": {},
   "outputs": [
    {
     "data": {
      "text/latex": [
       "$\\displaystyle \\left|{x_{0}}\\right|$"
      ],
      "text/plain": [
       "Abs(x0)"
      ]
     },
     "execution_count": 9,
     "metadata": {},
     "output_type": "execute_result"
    }
   ],
   "source": [
    "sp.sqrt(x0 ** 2)"
   ]
  },
  {
   "cell_type": "markdown",
   "id": "e9e4147c-af09-4abe-991a-deb03aac6263",
   "metadata": {},
   "source": [
    "#### Make a postive symbol"
   ]
  },
  {
   "cell_type": "code",
   "execution_count": 28,
   "id": "b2d0a259-4aae-4fba-8628-e88505f265dc",
   "metadata": {},
   "outputs": [],
   "source": [
    "x = sp.Symbol('x', positive=True)"
   ]
  },
  {
   "cell_type": "code",
   "execution_count": 29,
   "id": "08bb0e93-e1d8-4194-8076-f45fafddcb52",
   "metadata": {},
   "outputs": [
    {
     "data": {
      "text/plain": [
       "sympy.core.symbol.Symbol"
      ]
     },
     "execution_count": 29,
     "metadata": {},
     "output_type": "execute_result"
    }
   ],
   "source": [
    "type(x)"
   ]
  },
  {
   "cell_type": "markdown",
   "id": "4781746d-8a16-48f5-b232-624422145a71",
   "metadata": {},
   "source": [
    "#### Since x is postive the absolute value does nothing"
   ]
  },
  {
   "cell_type": "code",
   "execution_count": 30,
   "id": "37ab93c3-ca5b-4cfa-9cc9-825a57ebcbb1",
   "metadata": {},
   "outputs": [
    {
     "data": {
      "text/latex": [
       "$\\displaystyle x$"
      ],
      "text/plain": [
       "x"
      ]
     },
     "execution_count": 30,
     "metadata": {},
     "output_type": "execute_result"
    }
   ],
   "source": [
    "sp.sqrt(x ** 2)"
   ]
  },
  {
   "cell_type": "markdown",
   "id": "5959aa9d-00a6-4704-8dfe-f39a3f2a0055",
   "metadata": {},
   "source": [
    "#### Make an integer symbol"
   ]
  },
  {
   "cell_type": "code",
   "execution_count": 43,
   "id": "95dbab62-8696-43a4-a347-89eee6c8a275",
   "metadata": {},
   "outputs": [],
   "source": [
    "n = sp.Symbol('n')"
   ]
  },
  {
   "cell_type": "code",
   "execution_count": 44,
   "id": "3c875945-7157-4736-b7f0-ed7e31b4c22f",
   "metadata": {},
   "outputs": [
    {
     "data": {
      "text/latex": [
       "$\\displaystyle \\left(-1\\right)^{2 n}$"
      ],
      "text/plain": [
       "(-1)**(2*n)"
      ]
     },
     "execution_count": 44,
     "metadata": {},
     "output_type": "execute_result"
    }
   ],
   "source": [
    "(-1) ** (2*n)"
   ]
  },
  {
   "cell_type": "markdown",
   "id": "57d9d0e8-9d51-495e-81a3-5808d0b9c129",
   "metadata": {},
   "source": [
    "#### But if n is an integer"
   ]
  },
  {
   "cell_type": "code",
   "execution_count": 46,
   "id": "d95033fc-211a-4b9c-9549-b934914388e0",
   "metadata": {},
   "outputs": [],
   "source": [
    "n = sp.Symbol('n', integer=True)"
   ]
  },
  {
   "cell_type": "code",
   "execution_count": 47,
   "id": "eb0757ee-435a-4ad5-b32e-9e389aaa20c1",
   "metadata": {},
   "outputs": [
    {
     "data": {
      "text/latex": [
       "$\\displaystyle 1$"
      ],
      "text/plain": [
       "1"
      ]
     },
     "execution_count": 47,
     "metadata": {},
     "output_type": "execute_result"
    }
   ],
   "source": [
    "(-1) ** (2*n)"
   ]
  },
  {
   "cell_type": "markdown",
   "id": "2ebf6d42-4684-42c0-b9de-62f13f868561",
   "metadata": {},
   "source": [
    "## Point Evaluation of Expressions"
   ]
  },
  {
   "cell_type": "markdown",
   "id": "ce975780-1bdd-4108-9944-1af1c3931d77",
   "metadata": {},
   "source": [
    "In SymPy, we can evaluate expressions with the ```.subs()``` method, it will do substitution operation."
   ]
  },
  {
   "cell_type": "code",
   "execution_count": 53,
   "id": "190190a5-62aa-45ee-8c11-eb07aa42fdbe",
   "metadata": {},
   "outputs": [
    {
     "data": {
      "text/latex": [
       "$\\displaystyle x_{0}^{2} + 5$"
      ],
      "text/plain": [
       "x0**2 + 5"
      ]
     },
     "execution_count": 53,
     "metadata": {},
     "output_type": "execute_result"
    }
   ],
   "source": [
    "expr = x0 ** 2 + 5\n",
    "expr"
   ]
  },
  {
   "cell_type": "markdown",
   "id": "fad4c271-81a3-4b53-b0a9-c6895fbeb943",
   "metadata": {},
   "source": [
    "### Insert 2 into expression"
   ]
  },
  {
   "cell_type": "code",
   "execution_count": 54,
   "id": "3ff139af-e01b-4c07-a2b6-bc306140cbac",
   "metadata": {},
   "outputs": [
    {
     "data": {
      "text/latex": [
       "$\\displaystyle 9$"
      ],
      "text/plain": [
       "9"
      ]
     },
     "execution_count": 54,
     "metadata": {},
     "output_type": "execute_result"
    }
   ],
   "source": [
    "expr.subs(x0, 2)"
   ]
  },
  {
   "cell_type": "markdown",
   "id": "04580364-1924-48c0-ae31-d906b5f705a4",
   "metadata": {},
   "source": [
    "### Insert pi into expression"
   ]
  },
  {
   "cell_type": "code",
   "execution_count": 55,
   "id": "87436ef7-776e-4620-9d03-b6bfd2c2f5b0",
   "metadata": {},
   "outputs": [
    {
     "data": {
      "text/latex": [
       "$\\displaystyle 5 + \\pi^{2}$"
      ],
      "text/plain": [
       "5 + pi**2"
      ]
     },
     "execution_count": 55,
     "metadata": {},
     "output_type": "execute_result"
    }
   ],
   "source": [
    "expr.subs(x0, sp.pi)"
   ]
  },
  {
   "cell_type": "markdown",
   "id": "1d3ac0e8-80fc-4556-ae35-f6f22ff3fa7d",
   "metadata": {},
   "source": [
    "#### ```.subs()``` method will return a new symbol result, but will not change the original expression"
   ]
  },
  {
   "cell_type": "code",
   "execution_count": 57,
   "id": "92c161c3-de19-4c6e-a4db-6958cfe14503",
   "metadata": {},
   "outputs": [
    {
     "data": {
      "text/latex": [
       "$\\displaystyle x_{0}^{2} + 5$"
      ],
      "text/plain": [
       "x0**2 + 5"
      ]
     },
     "execution_count": 57,
     "metadata": {},
     "output_type": "execute_result"
    }
   ],
   "source": [
    "expr"
   ]
  },
  {
   "cell_type": "markdown",
   "id": "7b70afef-ad36-4eef-b37c-6c364dfd0a54",
   "metadata": {},
   "source": [
    "### Insert another expression into an expression"
   ]
  },
  {
   "cell_type": "code",
   "execution_count": 61,
   "id": "3e44d704-67e2-495b-9d9b-fab74c295f95",
   "metadata": {},
   "outputs": [
    {
     "data": {
      "text/latex": [
       "$\\displaystyle x_{1}^{6} + 5$"
      ],
      "text/plain": [
       "x1**6 + 5"
      ]
     },
     "execution_count": 61,
     "metadata": {},
     "output_type": "execute_result"
    }
   ],
   "source": [
    "expr.subs(x0, x1**3)"
   ]
  },
  {
   "cell_type": "markdown",
   "id": "fcfda947-0c2e-4aee-a4c1-a1237f17693b",
   "metadata": {},
   "source": [
    "## Going Numeric"
   ]
  },
  {
   "cell_type": "markdown",
   "id": "0669a40f-03c5-4d2f-90b9-5c63bdaa8025",
   "metadata": {},
   "source": [
    "We can transform SymPy constants into decimals with the ```sp.N()``` function."
   ]
  },
  {
   "cell_type": "code",
   "execution_count": 64,
   "id": "d7432c04-d136-425d-96d4-a76dea613b33",
   "metadata": {},
   "outputs": [
    {
     "data": {
      "text/latex": [
       "$\\displaystyle 5 + \\pi^{2}$"
      ],
      "text/plain": [
       "5 + pi**2"
      ]
     },
     "execution_count": 64,
     "metadata": {},
     "output_type": "execute_result"
    }
   ],
   "source": [
    "num = expr.subs(x0, sp.pi)\n",
    "num"
   ]
  },
  {
   "cell_type": "markdown",
   "id": "2dc19ab4-8986-44fe-b95f-5331265958a7",
   "metadata": {},
   "source": [
    "#### Get the numeric representation of numbers. 15 decimals is the standard"
   ]
  },
  {
   "cell_type": "code",
   "execution_count": 67,
   "id": "50ac1dbd-68df-4c57-b0db-39c5cbc82faf",
   "metadata": {},
   "outputs": [
    {
     "data": {
      "text/latex": [
       "$\\displaystyle 14.8696044010894$"
      ],
      "text/plain": [
       "14.8696044010894"
      ]
     },
     "execution_count": 67,
     "metadata": {},
     "output_type": "execute_result"
    }
   ],
   "source": [
    "sp.N(num)"
   ]
  },
  {
   "cell_type": "markdown",
   "id": "8a963a61-6a55-424f-997d-8f5412b66aa2",
   "metadata": {},
   "source": [
    "14.<br>\n",
    "86960<br>\n",
    "44010<br>\n",
    "89414<br>"
   ]
  },
  {
   "cell_type": "markdown",
   "id": "214db42a-5930-43b0-86d7-160d53e01ca1",
   "metadata": {},
   "source": [
    "### Can change the number of decimals"
   ]
  },
  {
   "cell_type": "code",
   "execution_count": 70,
   "id": "40f75026-b37c-4fe5-8910-cc2d324fe34a",
   "metadata": {},
   "outputs": [
    {
     "data": {
      "text/latex": [
       "$\\displaystyle 1.0 \\cdot 10^{1}$"
      ],
      "text/plain": [
       "1.e+1"
      ]
     },
     "execution_count": 70,
     "metadata": {},
     "output_type": "execute_result"
    }
   ],
   "source": [
    "sp.N(num, 1)"
   ]
  },
  {
   "cell_type": "code",
   "execution_count": 71,
   "id": "df420944-9d48-4106-b9cd-a77ae6431164",
   "metadata": {},
   "outputs": [
    {
     "data": {
      "text/latex": [
       "$\\displaystyle 15.0$"
      ],
      "text/plain": [
       "15."
      ]
     },
     "execution_count": 71,
     "metadata": {},
     "output_type": "execute_result"
    }
   ],
   "source": [
    "sp.N(num, 2)"
   ]
  },
  {
   "cell_type": "code",
   "execution_count": 72,
   "id": "5ff40fd0-1b1b-4364-ba49-0f977fc5022e",
   "metadata": {},
   "outputs": [
    {
     "data": {
      "text/latex": [
       "$\\displaystyle 14.9$"
      ],
      "text/plain": [
       "14.9"
      ]
     },
     "execution_count": 72,
     "metadata": {},
     "output_type": "execute_result"
    }
   ],
   "source": [
    "sp.N(num, 3)"
   ]
  },
  {
   "cell_type": "code",
   "execution_count": 73,
   "id": "529d9c59-8231-4273-a721-e4061c08c1cd",
   "metadata": {},
   "outputs": [
    {
     "data": {
      "text/latex": [
       "$\\displaystyle 14.87$"
      ],
      "text/plain": [
       "14.87"
      ]
     },
     "execution_count": 73,
     "metadata": {},
     "output_type": "execute_result"
    }
   ],
   "source": [
    "sp.N(num, 4)"
   ]
  },
  {
   "cell_type": "code",
   "execution_count": 74,
   "id": "169199d9-e756-4e51-a4c5-038100cf77f9",
   "metadata": {},
   "outputs": [
    {
     "data": {
      "text/latex": [
       "$\\displaystyle 14.869604401089358619$"
      ],
      "text/plain": [
       "14.869604401089358619"
      ]
     },
     "execution_count": 74,
     "metadata": {},
     "output_type": "execute_result"
    }
   ],
   "source": [
    "sp.N(num, 20)"
   ]
  },
  {
   "cell_type": "code",
   "execution_count": 75,
   "id": "754a099a-687e-441e-bec1-402becf67dad",
   "metadata": {},
   "outputs": [
    {
     "data": {
      "text/latex": [
       "$\\displaystyle 14.8696044010893586188344909999$"
      ],
      "text/plain": [
       "14.8696044010893586188344909999"
      ]
     },
     "execution_count": 75,
     "metadata": {},
     "output_type": "execute_result"
    }
   ],
   "source": [
    "sp.N(num, 30)"
   ]
  },
  {
   "cell_type": "markdown",
   "id": "d201c589-b2e8-4a58-85a1-3af9d9834531",
   "metadata": {},
   "source": [
    "### Can also make constants in expression numeric"
   ]
  },
  {
   "cell_type": "code",
   "execution_count": 78,
   "id": "cf06883b-7290-4912-ac1b-07fdb044bd0c",
   "metadata": {},
   "outputs": [
    {
     "data": {
      "text/latex": [
       "$\\displaystyle x^{2} + \\pi$"
      ],
      "text/plain": [
       "x**2 + pi"
      ]
     },
     "execution_count": 78,
     "metadata": {},
     "output_type": "execute_result"
    }
   ],
   "source": [
    "expr = sp.pi + x**2\n",
    "expr"
   ]
  },
  {
   "cell_type": "code",
   "execution_count": 79,
   "id": "3f1afe0b-c057-4518-8fcd-ac671c476574",
   "metadata": {},
   "outputs": [
    {
     "data": {
      "text/latex": [
       "$\\displaystyle x^{2} + 3.14159265358979$"
      ],
      "text/plain": [
       "x**2 + 3.14159265358979"
      ]
     },
     "execution_count": 79,
     "metadata": {},
     "output_type": "execute_result"
    }
   ],
   "source": [
    "sp.N(expr)"
   ]
  },
  {
   "cell_type": "code",
   "execution_count": null,
   "id": "d6e85fb6-d29a-482d-9ec9-bf106b1fa630",
   "metadata": {},
   "outputs": [],
   "source": []
  }
 ],
 "metadata": {
  "kernelspec": {
   "display_name": "Math",
   "language": "python",
   "name": "math"
  },
  "language_info": {
   "codemirror_mode": {
    "name": "ipython",
    "version": 3
   },
   "file_extension": ".py",
   "mimetype": "text/x-python",
   "name": "python",
   "nbconvert_exporter": "python",
   "pygments_lexer": "ipython3",
   "version": "3.8.12"
  }
 },
 "nbformat": 4,
 "nbformat_minor": 5
}
