{
 "cells": [
  {
   "cell_type": "markdown",
   "id": "91e2c13d-3929-433d-92b9-af26ed011972",
   "metadata": {},
   "source": [
    "# Data Types and Common Functions"
   ]
  },
  {
   "cell_type": "code",
   "execution_count": 1,
   "id": "55edd0f1-9fe7-4492-8b09-13ed8fe1998c",
   "metadata": {},
   "outputs": [],
   "source": [
    "import sympy as sp"
   ]
  },
  {
   "cell_type": "markdown",
   "id": "b9a5c5fa-f665-45d4-9770-6e24b9806e83",
   "metadata": {},
   "source": [
    "## Special Symbol"
   ]
  },
  {
   "cell_type": "code",
   "execution_count": 73,
   "id": "11dfed4a-6e5b-4dad-a14e-6e3590cb523f",
   "metadata": {},
   "outputs": [
    {
     "data": {
      "text/latex": [
       "$\\displaystyle \\theta$"
      ],
      "text/plain": [
       "theta"
      ]
     },
     "execution_count": 73,
     "metadata": {},
     "output_type": "execute_result"
    }
   ],
   "source": [
    "theta = sp.Symbol(\"theta\")\n",
    "theta"
   ]
  },
  {
   "cell_type": "code",
   "execution_count": 74,
   "id": "a58f606b-e21f-407e-8044-bd1805751968",
   "metadata": {},
   "outputs": [
    {
     "data": {
      "text/latex": [
       "$\\displaystyle \\phi$"
      ],
      "text/plain": [
       "phi"
      ]
     },
     "execution_count": 74,
     "metadata": {},
     "output_type": "execute_result"
    }
   ],
   "source": [
    "phi = sp.Symbol(\"phi\")\n",
    "phi"
   ]
  },
  {
   "cell_type": "markdown",
   "id": "e566e7b5-0729-4abc-967e-ffbd3a578817",
   "metadata": {},
   "source": [
    "## Why Data Types in SymPy Matter"
   ]
  },
  {
   "cell_type": "code",
   "execution_count": 2,
   "id": "528b3003-ca02-40d8-8eb7-dddfb70e7cf2",
   "metadata": {},
   "outputs": [],
   "source": [
    "x = sp.Symbol('x')"
   ]
  },
  {
   "cell_type": "code",
   "execution_count": 3,
   "id": "8a65d9ef-b10e-4b97-8b94-ea8d107da243",
   "metadata": {},
   "outputs": [],
   "source": [
    "expr = x**(1/3)"
   ]
  },
  {
   "cell_type": "code",
   "execution_count": 4,
   "id": "3fb6378c-6223-4fcd-9157-a4d0dc4c39f4",
   "metadata": {},
   "outputs": [
    {
     "data": {
      "text/latex": [
       "$\\displaystyle x^{0.333333333333333}$"
      ],
      "text/plain": [
       "x**0.333333333333333"
      ]
     },
     "execution_count": 4,
     "metadata": {},
     "output_type": "execute_result"
    }
   ],
   "source": [
    "expr"
   ]
  },
  {
   "cell_type": "code",
   "execution_count": 5,
   "id": "8eb52a22-37e1-4ea7-b57d-4be4f031bf51",
   "metadata": {},
   "outputs": [
    {
     "data": {
      "text/latex": [
       "$\\displaystyle x^{0.0666666666666667}$"
      ],
      "text/plain": [
       "x**0.0666666666666667"
      ]
     },
     "execution_count": 5,
     "metadata": {},
     "output_type": "execute_result"
    }
   ],
   "source": [
    "expr ** (1/5)"
   ]
  },
  {
   "cell_type": "markdown",
   "id": "2ed17520-c916-4115-a4f4-3d154f9a8935",
   "metadata": {},
   "source": [
    "The power value are evaluated to ```float```, so to avoid this, we need ```sp.Integer``` and ```sp.Rational```."
   ]
  },
  {
   "cell_type": "markdown",
   "id": "10e22cc9-3d4f-402d-89cf-380b10509563",
   "metadata": {},
   "source": [
    "## SymPy's Integer Type"
   ]
  },
  {
   "cell_type": "code",
   "execution_count": 11,
   "id": "a69f5444-f0b3-4a37-a765-caba9b85c679",
   "metadata": {},
   "outputs": [],
   "source": [
    "expr = x ** (sp.Integer(1) / sp.Integer(3))"
   ]
  },
  {
   "cell_type": "code",
   "execution_count": 12,
   "id": "da7eabe9-b001-43b7-833c-7e1017a13a3b",
   "metadata": {},
   "outputs": [
    {
     "data": {
      "text/latex": [
       "$\\displaystyle \\sqrt[3]{x}$"
      ],
      "text/plain": [
       "x**(1/3)"
      ]
     },
     "execution_count": 12,
     "metadata": {},
     "output_type": "execute_result"
    }
   ],
   "source": [
    "expr"
   ]
  },
  {
   "cell_type": "code",
   "execution_count": 14,
   "id": "7e77d624-44af-42b5-8cf6-cc53d8440c64",
   "metadata": {},
   "outputs": [
    {
     "data": {
      "text/latex": [
       "$\\displaystyle \\sqrt[15]{x}$"
      ],
      "text/plain": [
       "x**(1/15)"
      ]
     },
     "execution_count": 14,
     "metadata": {},
     "output_type": "execute_result"
    }
   ],
   "source": [
    "expr ** (sp.Integer(1) / sp.Integer(5))"
   ]
  },
  {
   "cell_type": "markdown",
   "id": "c6ac7994-3a32-47bc-b948-cccb00c1dbac",
   "metadata": {},
   "source": [
    "#### With sympy object operation, it will occur implicit conversion"
   ]
  },
  {
   "cell_type": "code",
   "execution_count": 16,
   "id": "6f28dd01-656c-48eb-960e-6ea657a13fff",
   "metadata": {},
   "outputs": [
    {
     "data": {
      "text/latex": [
       "$\\displaystyle \\sqrt[15]{x}$"
      ],
      "text/plain": [
       "x**(1/15)"
      ]
     },
     "execution_count": 16,
     "metadata": {},
     "output_type": "execute_result"
    }
   ],
   "source": [
    "expr ** (1 / sp.Integer(5))"
   ]
  },
  {
   "cell_type": "code",
   "execution_count": 17,
   "id": "930ebf85-25f9-4a37-aa1a-cdec87ac599b",
   "metadata": {},
   "outputs": [
    {
     "data": {
      "text/latex": [
       "$\\displaystyle \\sqrt[15]{x}$"
      ],
      "text/plain": [
       "x**(1/15)"
      ]
     },
     "execution_count": 17,
     "metadata": {},
     "output_type": "execute_result"
    }
   ],
   "source": [
    "expr ** (sp.Integer(1) / 5)"
   ]
  },
  {
   "cell_type": "code",
   "execution_count": 24,
   "id": "15f15c7b-9e24-4bbb-bbf3-74c8dc598477",
   "metadata": {},
   "outputs": [
    {
     "data": {
      "text/plain": [
       "sympy.core.numbers.Zero"
      ]
     },
     "execution_count": 24,
     "metadata": {},
     "output_type": "execute_result"
    }
   ],
   "source": [
    "type(sp.Integer(0))"
   ]
  },
  {
   "cell_type": "code",
   "execution_count": 25,
   "id": "32f89204-e00e-48a3-83b2-d0f928e52f58",
   "metadata": {},
   "outputs": [
    {
     "data": {
      "text/plain": [
       "sympy.core.numbers.One"
      ]
     },
     "execution_count": 25,
     "metadata": {},
     "output_type": "execute_result"
    }
   ],
   "source": [
    "type(sp.Integer(1))"
   ]
  },
  {
   "cell_type": "code",
   "execution_count": 28,
   "id": "74d0f899-869e-4fee-a8df-502f40748401",
   "metadata": {},
   "outputs": [
    {
     "data": {
      "text/plain": [
       "sympy.core.numbers.NegativeOne"
      ]
     },
     "execution_count": 28,
     "metadata": {},
     "output_type": "execute_result"
    }
   ],
   "source": [
    "type(sp.Integer(-1))"
   ]
  },
  {
   "cell_type": "code",
   "execution_count": 21,
   "id": "d7491d3a-854e-406d-a67b-9903bc9dc3ed",
   "metadata": {},
   "outputs": [
    {
     "data": {
      "text/plain": [
       "sympy.core.numbers.Integer"
      ]
     },
     "execution_count": 21,
     "metadata": {},
     "output_type": "execute_result"
    }
   ],
   "source": [
    "type(sp.Integer(777))"
   ]
  },
  {
   "cell_type": "code",
   "execution_count": 18,
   "id": "6b1cb081-f613-4d92-9f8b-c2462361e499",
   "metadata": {},
   "outputs": [
    {
     "data": {
      "text/plain": [
       "sympy.core.numbers.Rational"
      ]
     },
     "execution_count": 18,
     "metadata": {},
     "output_type": "execute_result"
    }
   ],
   "source": [
    "type(sp.Integer(1) / 5)"
   ]
  },
  {
   "cell_type": "markdown",
   "id": "82ec7828-e043-4dc6-b1a5-19c36121ac8d",
   "metadata": {},
   "source": [
    "## SymPy's Rational Type"
   ]
  },
  {
   "cell_type": "markdown",
   "id": "91b8074e-ba2c-4ba6-a049-6326af58313c",
   "metadata": {},
   "source": [
    "For specifying rational numbers we can also directly use ```sp.Rational``` constructor"
   ]
  },
  {
   "cell_type": "code",
   "execution_count": 32,
   "id": "c7ab2eee-43cc-4055-8347-852f9591bb64",
   "metadata": {},
   "outputs": [
    {
     "data": {
      "text/latex": [
       "$\\displaystyle \\frac{1}{3}$"
      ],
      "text/plain": [
       "1/3"
      ]
     },
     "execution_count": 32,
     "metadata": {},
     "output_type": "execute_result"
    }
   ],
   "source": [
    "# SymPy's rational object\n",
    "rational = sp.Rational(1,3)\n",
    "rational"
   ]
  },
  {
   "cell_type": "code",
   "execution_count": 33,
   "id": "188fdaf4-0dd1-4377-bfb3-bb8da19ff47b",
   "metadata": {},
   "outputs": [
    {
     "data": {
      "text/latex": [
       "$\\displaystyle \\sqrt[15]{x}$"
      ],
      "text/plain": [
       "x**(1/15)"
      ]
     },
     "execution_count": 33,
     "metadata": {},
     "output_type": "execute_result"
    }
   ],
   "source": [
    "expr = (x ** sp.Rational(1,3)) ** sp.Rational(1,5)\n",
    "expr"
   ]
  },
  {
   "cell_type": "markdown",
   "id": "bea0991a-c442-4e7a-aa3e-64a239ae2d5b",
   "metadata": {},
   "source": [
    "## Important Constants"
   ]
  },
  {
   "cell_type": "markdown",
   "id": "0802aa4c-3ae8-4098-b650-c4c8a42477ef",
   "metadata": {},
   "source": [
    "#### pi"
   ]
  },
  {
   "cell_type": "code",
   "execution_count": 37,
   "id": "3978f474-d687-4a49-a8e2-e559964ed99f",
   "metadata": {},
   "outputs": [
    {
     "data": {
      "text/latex": [
       "$\\displaystyle 3 \\pi$"
      ],
      "text/plain": [
       "3*pi"
      ]
     },
     "execution_count": 37,
     "metadata": {},
     "output_type": "execute_result"
    }
   ],
   "source": [
    "3 * sp.pi"
   ]
  },
  {
   "cell_type": "markdown",
   "id": "395316a5-2abb-4af2-9393-68d152db4ae4",
   "metadata": {},
   "source": [
    "#### e"
   ]
  },
  {
   "cell_type": "code",
   "execution_count": 40,
   "id": "5cc9a359-05b5-4efc-a853-48c0bae6e7e0",
   "metadata": {},
   "outputs": [
    {
     "data": {
      "text/latex": [
       "$\\displaystyle e$"
      ],
      "text/plain": [
       "E"
      ]
     },
     "execution_count": 40,
     "metadata": {},
     "output_type": "execute_result"
    }
   ],
   "source": [
    "sp.E"
   ]
  },
  {
   "cell_type": "code",
   "execution_count": 41,
   "id": "12c996da-5f42-475f-9f0a-98fb1c2b67b7",
   "metadata": {},
   "outputs": [
    {
     "data": {
      "text/latex": [
       "$\\displaystyle e + \\pi$"
      ],
      "text/plain": [
       "E + pi"
      ]
     },
     "execution_count": 41,
     "metadata": {},
     "output_type": "execute_result"
    }
   ],
   "source": [
    "sp.E + sp.pi"
   ]
  },
  {
   "cell_type": "markdown",
   "id": "c699028b-7997-4bbd-9ec0-504be99670b4",
   "metadata": {},
   "source": [
    "#### Infinity"
   ]
  },
  {
   "cell_type": "code",
   "execution_count": 44,
   "id": "e596e643-bf25-4c5b-af36-7344a28f17a4",
   "metadata": {},
   "outputs": [
    {
     "data": {
      "text/latex": [
       "$\\displaystyle \\infty$"
      ],
      "text/plain": [
       "oo"
      ]
     },
     "execution_count": 44,
     "metadata": {},
     "output_type": "execute_result"
    }
   ],
   "source": [
    "sp.oo"
   ]
  },
  {
   "cell_type": "code",
   "execution_count": 45,
   "id": "698c5243-43f8-4817-ae89-5fb3aba386e7",
   "metadata": {},
   "outputs": [
    {
     "data": {
      "text/latex": [
       "$\\displaystyle \\text{NaN}$"
      ],
      "text/plain": [
       "nan"
      ]
     },
     "execution_count": 45,
     "metadata": {},
     "output_type": "execute_result"
    }
   ],
   "source": [
    "sp.oo - sp.oo"
   ]
  },
  {
   "cell_type": "markdown",
   "id": "172344a1-cf88-4ee7-9981-9dc3a2bd1f33",
   "metadata": {},
   "source": [
    "#### The imaginary unit"
   ]
  },
  {
   "cell_type": "code",
   "execution_count": 47,
   "id": "99cf611a-ed7a-4724-b0d0-82583521a29f",
   "metadata": {},
   "outputs": [
    {
     "data": {
      "text/latex": [
       "$\\displaystyle i$"
      ],
      "text/plain": [
       "I"
      ]
     },
     "execution_count": 47,
     "metadata": {},
     "output_type": "execute_result"
    }
   ],
   "source": [
    "sp.I"
   ]
  },
  {
   "cell_type": "code",
   "execution_count": 48,
   "id": "7f991d14-2883-47eb-8e7d-ac517c24b279",
   "metadata": {},
   "outputs": [
    {
     "data": {
      "text/latex": [
       "$\\displaystyle -1$"
      ],
      "text/plain": [
       "-1"
      ]
     },
     "execution_count": 48,
     "metadata": {},
     "output_type": "execute_result"
    }
   ],
   "source": [
    "# Complex arithmetic is implemented\n",
    "sp.I ** 2"
   ]
  },
  {
   "cell_type": "markdown",
   "id": "1e1dd825-5c08-40ad-a10f-381219e587c4",
   "metadata": {},
   "source": [
    "## Common Functions"
   ]
  },
  {
   "cell_type": "markdown",
   "id": "96ebcd40-7d87-400c-bb46-5f790007563b",
   "metadata": {},
   "source": [
    "SymPy has loads of cool functions implemented. Let me go a few of the most common ones"
   ]
  },
  {
   "cell_type": "markdown",
   "id": "66efcf77-0d44-4c66-93e4-e7472e18339b",
   "metadata": {},
   "source": [
    "### Exponential Function"
   ]
  },
  {
   "cell_type": "code",
   "execution_count": 50,
   "id": "1d862cb0-d20f-4c48-a236-a9761044db10",
   "metadata": {},
   "outputs": [
    {
     "data": {
      "text/latex": [
       "$\\displaystyle e^{x}$"
      ],
      "text/plain": [
       "exp(x)"
      ]
     },
     "execution_count": 50,
     "metadata": {},
     "output_type": "execute_result"
    }
   ],
   "source": [
    "sp.exp(x)"
   ]
  },
  {
   "cell_type": "markdown",
   "id": "e23fd0b8-3042-4150-86c7-e12a6b2d6101",
   "metadata": {},
   "source": [
    "### Eulers Identity"
   ]
  },
  {
   "cell_type": "code",
   "execution_count": 53,
   "id": "965a0619-bbb9-4338-9f31-fb95adf664c9",
   "metadata": {},
   "outputs": [
    {
     "data": {
      "text/latex": [
       "$\\displaystyle -1$"
      ],
      "text/plain": [
       "-1"
      ]
     },
     "execution_count": 53,
     "metadata": {},
     "output_type": "execute_result"
    }
   ],
   "source": [
    "sp.exp(sp.pi * sp.I)"
   ]
  },
  {
   "cell_type": "markdown",
   "id": "4948f234-5441-4ee6-9197-dd2e0828f515",
   "metadata": {},
   "source": [
    "### Logarithm Function"
   ]
  },
  {
   "cell_type": "code",
   "execution_count": 63,
   "id": "8314940d-2904-4205-b852-a621ab9364d2",
   "metadata": {},
   "outputs": [
    {
     "data": {
      "text/latex": [
       "$\\displaystyle \\log{\\left(2 \\right)}$"
      ],
      "text/plain": [
       "log(2)"
      ]
     },
     "execution_count": 63,
     "metadata": {},
     "output_type": "execute_result"
    }
   ],
   "source": [
    "sp.log(2)"
   ]
  },
  {
   "cell_type": "markdown",
   "id": "6790fe9a-31fb-4e7f-b519-0e0525d37fe2",
   "metadata": {},
   "source": [
    "#### It's default is a natural Logarithm, which the base is e"
   ]
  },
  {
   "cell_type": "code",
   "execution_count": 65,
   "id": "79b4c343-eb0a-4273-a299-ad4dcc86fd8b",
   "metadata": {},
   "outputs": [
    {
     "data": {
      "text/latex": [
       "$\\displaystyle x$"
      ],
      "text/plain": [
       "x"
      ]
     },
     "execution_count": 65,
     "metadata": {},
     "output_type": "execute_result"
    }
   ],
   "source": [
    "sp.exp(sp.log(x))"
   ]
  },
  {
   "cell_type": "code",
   "execution_count": 66,
   "id": "1f4655b7-61a7-4857-a1fd-b69372f1834c",
   "metadata": {},
   "outputs": [
    {
     "data": {
      "text/latex": [
       "$\\displaystyle 3$"
      ],
      "text/plain": [
       "3"
      ]
     },
     "execution_count": 66,
     "metadata": {},
     "output_type": "execute_result"
    }
   ],
   "source": [
    "sp.log(8, 2)"
   ]
  },
  {
   "cell_type": "code",
   "execution_count": 67,
   "id": "e36983c7-acdf-4473-a71e-81ed2287f2f7",
   "metadata": {},
   "outputs": [
    {
     "data": {
      "text/latex": [
       "$\\displaystyle \\frac{\\log{\\left(7 \\right)}}{\\log{\\left(3 \\right)}}$"
      ],
      "text/plain": [
       "log(7)/log(3)"
      ]
     },
     "execution_count": 67,
     "metadata": {},
     "output_type": "execute_result"
    }
   ],
   "source": [
    "sp.log(7, 3)"
   ]
  },
  {
   "cell_type": "markdown",
   "id": "8d9ffc4d-8fd2-4e22-8196-c9cc4273b717",
   "metadata": {},
   "source": [
    "### Trigonometric Functions"
   ]
  },
  {
   "cell_type": "code",
   "execution_count": 75,
   "id": "14400948-1230-43a1-86e7-275e2ee2962d",
   "metadata": {},
   "outputs": [
    {
     "data": {
      "text/latex": [
       "$\\displaystyle \\sin{\\left(x \\right)} + \\cos{\\left(x \\right)} + \\tan{\\left(x \\right)}$"
      ],
      "text/plain": [
       "sin(x) + cos(x) + tan(x)"
      ]
     },
     "execution_count": 75,
     "metadata": {},
     "output_type": "execute_result"
    }
   ],
   "source": [
    "sp.sin(x) + sp.cos(x) + sp.tan(x)"
   ]
  },
  {
   "cell_type": "code",
   "execution_count": 76,
   "id": "48e8c74a-0a0d-44fc-beed-431524c2f7d9",
   "metadata": {},
   "outputs": [
    {
     "data": {
      "text/latex": [
       "$\\displaystyle x^{2} + e^{\\cos{\\left(x \\right)}} + \\sin{\\left(\\pi x \\right)}$"
      ],
      "text/plain": [
       "x**2 + exp(cos(x)) + sin(pi*x)"
      ]
     },
     "execution_count": 76,
     "metadata": {},
     "output_type": "execute_result"
    }
   ],
   "source": [
    "expr = x**2 + sp.sin(sp.pi*x) + sp.exp(sp.cos(x))\n",
    "expr"
   ]
  },
  {
   "cell_type": "code",
   "execution_count": null,
   "id": "52811da5-8257-48a2-9efa-314031f3c696",
   "metadata": {},
   "outputs": [],
   "source": []
  }
 ],
 "metadata": {
  "kernelspec": {
   "display_name": "Math",
   "language": "python",
   "name": "math"
  },
  "language_info": {
   "codemirror_mode": {
    "name": "ipython",
    "version": 3
   },
   "file_extension": ".py",
   "mimetype": "text/x-python",
   "name": "python",
   "nbconvert_exporter": "python",
   "pygments_lexer": "ipython3",
   "version": "3.8.12"
  }
 },
 "nbformat": 4,
 "nbformat_minor": 5
}
