{
 "cells": [
  {
   "cell_type": "markdown",
   "id": "a7e93b85-d6d0-40bd-9b8c-f6a702be0c1e",
   "metadata": {},
   "source": [
    "# Defining Symbols"
   ]
  },
  {
   "cell_type": "code",
   "execution_count": 3,
   "id": "0c3d1124-1ddf-4bcd-92dd-b2cd4187d2a6",
   "metadata": {},
   "outputs": [],
   "source": [
    "import sympy as sp"
   ]
  },
  {
   "cell_type": "markdown",
   "id": "905679e6-faa9-4fc0-b833-482babc6a212",
   "metadata": {},
   "source": [
    "### Make a symbol"
   ]
  },
  {
   "cell_type": "code",
   "execution_count": 5,
   "id": "f66397fc-ac81-4bb0-8709-e504a297ef2e",
   "metadata": {},
   "outputs": [
    {
     "data": {
      "text/latex": [
       "$\\displaystyle x$"
      ],
      "text/plain": [
       "x"
      ]
     },
     "execution_count": 5,
     "metadata": {},
     "output_type": "execute_result"
    }
   ],
   "source": [
    "x = sp.Symbol('x')\n",
    "x"
   ]
  },
  {
   "cell_type": "markdown",
   "id": "3af533a7-21ae-413a-a755-45fabf0fbdf4",
   "metadata": {},
   "source": [
    "### Make a simple expression"
   ]
  },
  {
   "cell_type": "code",
   "execution_count": 6,
   "id": "d9cbfc83-1e44-482f-aea5-07c87b5083eb",
   "metadata": {},
   "outputs": [
    {
     "data": {
      "text/latex": [
       "$\\displaystyle 2 x + 5$"
      ],
      "text/plain": [
       "2*x + 5"
      ]
     },
     "execution_count": 6,
     "metadata": {},
     "output_type": "execute_result"
    }
   ],
   "source": [
    "2*x + 5"
   ]
  },
  {
   "cell_type": "markdown",
   "id": "4a01b7eb-c441-4c88-853e-66d58de90eb3",
   "metadata": {},
   "source": [
    "### The variable name and symbol name do not need to coincide"
   ]
  },
  {
   "cell_type": "code",
   "execution_count": 10,
   "id": "1c127a33-7e32-4a13-a82b-ad6111ea7c8b",
   "metadata": {},
   "outputs": [
    {
     "data": {
      "text/latex": [
       "$\\displaystyle z$"
      ],
      "text/plain": [
       "z"
      ]
     },
     "execution_count": 10,
     "metadata": {},
     "output_type": "execute_result"
    }
   ],
   "source": [
    "# z is the symbol name; y is the var name\n",
    "y = sp.Symbol('z')\n",
    "y"
   ]
  },
  {
   "cell_type": "markdown",
   "id": "4c092434-ce09-4d23-8450-a656743fdac3",
   "metadata": {},
   "source": [
    "## Simplification"
   ]
  },
  {
   "cell_type": "markdown",
   "id": "982c5b0d-b5e4-4522-9529-d54dfb7e8dcc",
   "metadata": {},
   "source": [
    "### Sometimes SymPy expressions are auto simplified"
   ]
  },
  {
   "cell_type": "code",
   "execution_count": 16,
   "id": "fe0f0492-0bb2-49c4-97b9-113417f56bdf",
   "metadata": {},
   "outputs": [
    {
     "data": {
      "text/latex": [
       "$\\displaystyle 3 x - 5$"
      ],
      "text/plain": [
       "3*x - 5"
      ]
     },
     "execution_count": 16,
     "metadata": {},
     "output_type": "execute_result"
    }
   ],
   "source": [
    "2*x + x - 5"
   ]
  },
  {
   "cell_type": "code",
   "execution_count": 31,
   "id": "a23bcf33-4cbd-4967-8525-cd5917431ec7",
   "metadata": {},
   "outputs": [
    {
     "data": {
      "text/latex": [
       "$\\displaystyle 3 x + 4$"
      ],
      "text/plain": [
       "3*x + 4"
      ]
     },
     "execution_count": 31,
     "metadata": {},
     "output_type": "execute_result"
    }
   ],
   "source": [
    "(2*x) + x + 4"
   ]
  },
  {
   "cell_type": "markdown",
   "id": "74cf7313-39d3-495c-9c7d-40f063629b63",
   "metadata": {},
   "source": [
    "### but some symbols might not be simplified automatically"
   ]
  },
  {
   "cell_type": "code",
   "execution_count": 18,
   "id": "3e01d03b-45c9-4c44-994d-e8932c4cf920",
   "metadata": {},
   "outputs": [
    {
     "data": {
      "text/latex": [
       "$\\displaystyle \\sin^{2}{\\left(x \\right)} + \\cos^{2}{\\left(x \\right)}$"
      ],
      "text/plain": [
       "sin(x)**2 + cos(x)**2"
      ]
     },
     "execution_count": 18,
     "metadata": {},
     "output_type": "execute_result"
    }
   ],
   "source": [
    "sp.sin(x)**2 + sp.cos(x)**2"
   ]
  },
  {
   "cell_type": "markdown",
   "id": "1464f1cc-03f5-47ee-a13c-891643049828",
   "metadata": {},
   "source": [
    "### Division will auto simplified"
   ]
  },
  {
   "cell_type": "code",
   "execution_count": 25,
   "id": "9ac95877-99d2-4223-bc9f-c3672a41b10f",
   "metadata": {},
   "outputs": [
    {
     "data": {
      "text/latex": [
       "$\\displaystyle \\frac{x}{3}$"
      ],
      "text/plain": [
       "x/3"
      ]
     },
     "execution_count": 25,
     "metadata": {},
     "output_type": "execute_result"
    }
   ],
   "source": [
    "2*x / 6"
   ]
  },
  {
   "cell_type": "markdown",
   "id": "e8e4fa36-9e7c-4794-9a7e-15626dca01bc",
   "metadata": {},
   "source": [
    "### Cancellation in division"
   ]
  },
  {
   "cell_type": "code",
   "execution_count": 27,
   "id": "4d885a20-4e77-462d-900a-e21a98b4ec8d",
   "metadata": {},
   "outputs": [
    {
     "data": {
      "text/latex": [
       "$\\displaystyle 1$"
      ],
      "text/plain": [
       "1"
      ]
     },
     "execution_count": 27,
     "metadata": {},
     "output_type": "execute_result"
    }
   ],
   "source": [
    "x/x"
   ]
  },
  {
   "cell_type": "markdown",
   "id": "e9ebf53c-c9c4-48b6-89ef-428a97e404b7",
   "metadata": {},
   "source": [
    "#### *Addition, subtraction, multiplication and division are (usually) simplified in SymPy*"
   ]
  },
  {
   "cell_type": "markdown",
   "id": "0a7b8503-44ec-4c23-9e16-a77dfc72398f",
   "metadata": {},
   "source": [
    "### When is the multiplication not carried out?"
   ]
  },
  {
   "cell_type": "code",
   "execution_count": 39,
   "id": "dec2d928-cfcc-4c57-a6fd-3096bbd0d22a",
   "metadata": {},
   "outputs": [
    {
     "data": {
      "text/latex": [
       "$\\displaystyle x \\left(x + 2\\right)$"
      ],
      "text/plain": [
       "x*(x + 2)"
      ]
     },
     "execution_count": 39,
     "metadata": {},
     "output_type": "execute_result"
    }
   ],
   "source": [
    "x * (x + 2)"
   ]
  },
  {
   "cell_type": "code",
   "execution_count": 43,
   "id": "acb971ba-efca-461a-98ee-b3f6bab3e167",
   "metadata": {},
   "outputs": [
    {
     "data": {
      "text/latex": [
       "$\\displaystyle x^{2}$"
      ],
      "text/plain": [
       "x**2"
      ]
     },
     "execution_count": 43,
     "metadata": {},
     "output_type": "execute_result"
    }
   ],
   "source": [
    "x*(x)"
   ]
  },
  {
   "cell_type": "markdown",
   "id": "2667395f-9f39-4d25-8f56-93d6c9e29db7",
   "metadata": {},
   "source": [
    "## Expand Expression"
   ]
  },
  {
   "cell_type": "markdown",
   "id": "01ae4574-21e3-4f59-bbb2-4ff4aef4a0c3",
   "metadata": {},
   "source": [
    "To expand an expression, we will use ```expand``` method."
   ]
  },
  {
   "cell_type": "markdown",
   "id": "19b86b48-447a-4336-9f7b-4efac5617978",
   "metadata": {},
   "source": [
    "### Example 1"
   ]
  },
  {
   "cell_type": "code",
   "execution_count": 48,
   "id": "22aba6e3-0e7f-4858-91a4-cc79360b9217",
   "metadata": {},
   "outputs": [
    {
     "data": {
      "text/latex": [
       "$\\displaystyle x \\left(x + 2\\right)$"
      ],
      "text/plain": [
       "x*(x + 2)"
      ]
     },
     "execution_count": 48,
     "metadata": {},
     "output_type": "execute_result"
    }
   ],
   "source": [
    "expr = x * (x+2)\n",
    "expr"
   ]
  },
  {
   "cell_type": "code",
   "execution_count": 50,
   "id": "c90405d0-613c-4926-b20d-1584a01c0006",
   "metadata": {},
   "outputs": [
    {
     "data": {
      "text/latex": [
       "$\\displaystyle x^{2} + 2 x$"
      ],
      "text/plain": [
       "x**2 + 2*x"
      ]
     },
     "execution_count": 50,
     "metadata": {},
     "output_type": "execute_result"
    }
   ],
   "source": [
    "# expand just reture a \"new\" expanded symbol instead of changing the original one\n",
    "expr.expand()"
   ]
  },
  {
   "cell_type": "code",
   "execution_count": 52,
   "id": "9e528390-d63e-487c-bba7-0b265aa323e5",
   "metadata": {},
   "outputs": [
    {
     "data": {
      "text/latex": [
       "$\\displaystyle x \\left(x + 2\\right)$"
      ],
      "text/plain": [
       "x*(x + 2)"
      ]
     },
     "execution_count": 52,
     "metadata": {},
     "output_type": "execute_result"
    }
   ],
   "source": [
    "expr"
   ]
  },
  {
   "cell_type": "markdown",
   "id": "e9ce5453-7934-434a-a2e0-b70bae81e136",
   "metadata": {},
   "source": [
    "#### ```expand``` can also be used as a function"
   ]
  },
  {
   "cell_type": "code",
   "execution_count": 54,
   "id": "6891683b-39e7-4006-bd33-729d4f7dc06e",
   "metadata": {},
   "outputs": [
    {
     "data": {
      "text/latex": [
       "$\\displaystyle x^{2} + 2 x$"
      ],
      "text/plain": [
       "x**2 + 2*x"
      ]
     },
     "execution_count": 54,
     "metadata": {},
     "output_type": "execute_result"
    }
   ],
   "source": [
    "sp.expand(expr)"
   ]
  },
  {
   "cell_type": "code",
   "execution_count": 55,
   "id": "f99b7a5e-8fe9-4da5-9a34-81ea8e123d3d",
   "metadata": {},
   "outputs": [
    {
     "data": {
      "text/latex": [
       "$\\displaystyle x \\left(x + 2\\right)$"
      ],
      "text/plain": [
       "x*(x + 2)"
      ]
     },
     "execution_count": 55,
     "metadata": {},
     "output_type": "execute_result"
    }
   ],
   "source": [
    "expr"
   ]
  },
  {
   "cell_type": "markdown",
   "id": "b7254998-bcbe-42c0-afff-3f3a0b86f3a3",
   "metadata": {},
   "source": [
    "### Example 2"
   ]
  },
  {
   "cell_type": "markdown",
   "id": "de78e61e-63cb-4ab8-9c09-6dc50bb693b1",
   "metadata": {},
   "source": [
    "#### Define muliple symbols at once, with ```symbols```"
   ]
  },
  {
   "cell_type": "code",
   "execution_count": 62,
   "id": "e5d14093-fa43-4d91-a186-14edb2b84c25",
   "metadata": {},
   "outputs": [],
   "source": [
    "s, t = sp.symbols('s t')"
   ]
  },
  {
   "cell_type": "code",
   "execution_count": 64,
   "id": "8ce9d8e1-4653-428f-8f02-7f0b0ab756e9",
   "metadata": {},
   "outputs": [
    {
     "data": {
      "text/latex": [
       "$\\displaystyle s$"
      ],
      "text/plain": [
       "s"
      ]
     },
     "execution_count": 64,
     "metadata": {},
     "output_type": "execute_result"
    }
   ],
   "source": [
    "s"
   ]
  },
  {
   "cell_type": "code",
   "execution_count": 65,
   "id": "583031d7-76e9-415c-9290-6973d55cd652",
   "metadata": {},
   "outputs": [
    {
     "data": {
      "text/latex": [
       "$\\displaystyle t$"
      ],
      "text/plain": [
       "t"
      ]
     },
     "execution_count": 65,
     "metadata": {},
     "output_type": "execute_result"
    }
   ],
   "source": [
    "t"
   ]
  },
  {
   "cell_type": "code",
   "execution_count": 67,
   "id": "236ea570-2db0-4e3c-8c18-4cc254cf3112",
   "metadata": {},
   "outputs": [
    {
     "data": {
      "text/latex": [
       "$\\displaystyle t \\left(s + 2\\right) \\left(t - 3\\right)$"
      ],
      "text/plain": [
       "t*(s + 2)*(t - 3)"
      ]
     },
     "execution_count": 67,
     "metadata": {},
     "output_type": "execute_result"
    }
   ],
   "source": [
    "poly = t*(s+2)*(t-3)\n",
    "poly"
   ]
  },
  {
   "cell_type": "markdown",
   "id": "d424ba10-69fc-4c5c-a04a-221a733d5a19",
   "metadata": {},
   "source": [
    "#### Expanding the curve"
   ]
  },
  {
   "cell_type": "code",
   "execution_count": 70,
   "id": "2781d043-6f67-4154-be26-9f71649b566d",
   "metadata": {},
   "outputs": [
    {
     "data": {
      "text/latex": [
       "$\\displaystyle s t^{2} - 3 s t + 2 t^{2} - 6 t$"
      ],
      "text/plain": [
       "s*t**2 - 3*s*t + 2*t**2 - 6*t"
      ]
     },
     "execution_count": 70,
     "metadata": {},
     "output_type": "execute_result"
    }
   ],
   "source": [
    "poly.expand()"
   ]
  },
  {
   "cell_type": "markdown",
   "id": "7b26bf78-b2db-4338-8e76-060cadd1dc79",
   "metadata": {},
   "source": [
    "## Factor Expressions"
   ]
  },
  {
   "cell_type": "markdown",
   "id": "3f082ba8-4950-4abe-9114-0d19f2084f13",
   "metadata": {},
   "source": [
    "To factor an expression, we will use the ```factor``` method"
   ]
  },
  {
   "cell_type": "markdown",
   "id": "15c2698f-3052-41dc-9237-c90117285429",
   "metadata": {},
   "source": [
    "### Example 1"
   ]
  },
  {
   "cell_type": "code",
   "execution_count": 76,
   "id": "22ef97c3-f9e4-4a41-ad1e-b6d71343d839",
   "metadata": {},
   "outputs": [
    {
     "data": {
      "text/latex": [
       "$\\displaystyle x^{2} + 2 x - 15$"
      ],
      "text/plain": [
       "x**2 + 2*x - 15"
      ]
     },
     "execution_count": 76,
     "metadata": {},
     "output_type": "execute_result"
    }
   ],
   "source": [
    "expr = x**2 + 2*x - 15\n",
    "expr"
   ]
  },
  {
   "cell_type": "code",
   "execution_count": 77,
   "id": "6cdc863c-2135-4a7d-af0d-046e6e40d510",
   "metadata": {},
   "outputs": [
    {
     "data": {
      "text/latex": [
       "$\\displaystyle \\left(x - 3\\right) \\left(x + 5\\right)$"
      ],
      "text/plain": [
       "(x - 3)*(x + 5)"
      ]
     },
     "execution_count": 77,
     "metadata": {},
     "output_type": "execute_result"
    }
   ],
   "source": [
    "expr.factor()"
   ]
  },
  {
   "cell_type": "markdown",
   "id": "26521dda-71a4-484c-99d3-2e1a923c4e3c",
   "metadata": {},
   "source": [
    "### Example 2"
   ]
  },
  {
   "cell_type": "markdown",
   "id": "385417bb-499e-4de7-81ca-e637b611cdee",
   "metadata": {},
   "source": [
    "#### Can make many symbols as follows"
   ]
  },
  {
   "cell_type": "code",
   "execution_count": 88,
   "id": "524b35d6-fcf4-4010-87cc-b770a1abee2b",
   "metadata": {},
   "outputs": [],
   "source": [
    "x_v = sp.symbols('x0:3')"
   ]
  },
  {
   "cell_type": "code",
   "execution_count": 89,
   "id": "57ea5b91-d69d-4eb5-8693-26d8bf433f31",
   "metadata": {},
   "outputs": [
    {
     "data": {
      "text/plain": [
       "((x0, x1, x2), tuple)"
      ]
     },
     "execution_count": 89,
     "metadata": {},
     "output_type": "execute_result"
    }
   ],
   "source": [
    "# this is a tuple of symbols\n",
    "x_v, type(x_v)"
   ]
  },
  {
   "cell_type": "code",
   "execution_count": 91,
   "id": "f15fe642-b439-40ec-b50b-b46329ecaaee",
   "metadata": {},
   "outputs": [
    {
     "data": {
      "text/latex": [
       "$\\displaystyle x_{0}^{2} x_{1} x_{2} + x_{0} x_{1} x_{2}$"
      ],
      "text/plain": [
       "x0**2*x1*x2 + x0*x1*x2"
      ]
     },
     "execution_count": 91,
     "metadata": {},
     "output_type": "execute_result"
    }
   ],
   "source": [
    "ex = x_v[0]**2 * x_v[1] * x_v[2] + x_v[0] * x_v[1] * x_v[2]\n",
    "ex"
   ]
  },
  {
   "cell_type": "markdown",
   "id": "8e12cf99-a3bd-4487-b8d8-7e2cd901ed73",
   "metadata": {},
   "source": [
    "#### Factoring the expression"
   ]
  },
  {
   "cell_type": "code",
   "execution_count": 93,
   "id": "65e2d067-feb7-4ad2-9157-c7167c985a76",
   "metadata": {},
   "outputs": [
    {
     "data": {
      "text/latex": [
       "$\\displaystyle x_{0} x_{1} x_{2} \\left(x_{0} + 1\\right)$"
      ],
      "text/plain": [
       "x0*x1*x2*(x0 + 1)"
      ]
     },
     "execution_count": 93,
     "metadata": {},
     "output_type": "execute_result"
    }
   ],
   "source": [
    "ex.factor()"
   ]
  },
  {
   "cell_type": "code",
   "execution_count": 94,
   "id": "f1a1521d-8955-42d1-9d9a-9eda20f30909",
   "metadata": {},
   "outputs": [
    {
     "data": {
      "text/latex": [
       "$\\displaystyle x_{0} x_{1} x_{2} \\left(x_{0} + 1\\right)$"
      ],
      "text/plain": [
       "x0*x1*x2*(x0 + 1)"
      ]
     },
     "execution_count": 94,
     "metadata": {},
     "output_type": "execute_result"
    }
   ],
   "source": [
    "sp.factor(ex)"
   ]
  },
  {
   "cell_type": "code",
   "execution_count": null,
   "id": "a04dc155-a9d8-4950-bf1e-045ac8a554fd",
   "metadata": {},
   "outputs": [],
   "source": []
  }
 ],
 "metadata": {
  "kernelspec": {
   "display_name": "Math",
   "language": "python",
   "name": "math"
  },
  "language_info": {
   "codemirror_mode": {
    "name": "ipython",
    "version": 3
   },
   "file_extension": ".py",
   "mimetype": "text/x-python",
   "name": "python",
   "nbconvert_exporter": "python",
   "pygments_lexer": "ipython3",
   "version": "3.8.12"
  }
 },
 "nbformat": 4,
 "nbformat_minor": 5
}
