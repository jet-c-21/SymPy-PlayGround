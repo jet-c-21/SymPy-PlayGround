{
 "cells": [
  {
   "cell_type": "markdown",
   "id": "95e615c1-1a82-43a3-9a75-c1d9695043a9",
   "metadata": {},
   "source": [
    "# Calculus in SymPy"
   ]
  },
  {
   "cell_type": "markdown",
   "id": "653b904c-dcb9-4fdb-83a6-ed89148e8645",
   "metadata": {},
   "source": [
    "## Examples for the [official tutorial documentation](https://docs.sympy.org/latest/tutorial/calculus.html)"
   ]
  },
  {
   "cell_type": "code",
   "execution_count": 2,
   "id": "a00bdc6c-031a-41ee-aa70-1754d21b1128",
   "metadata": {},
   "outputs": [],
   "source": [
    "import sympy as sp"
   ]
  },
  {
   "cell_type": "code",
   "execution_count": 3,
   "id": "b7608ab3-e113-4a4c-98a4-a494af8daf0f",
   "metadata": {},
   "outputs": [],
   "source": [
    "# sp.init_printing(use_unicode=True)"
   ]
  },
  {
   "cell_type": "code",
   "execution_count": 4,
   "id": "f3610067-5dba-4c9a-9b3c-d0d5a8763aff",
   "metadata": {},
   "outputs": [],
   "source": [
    "x,y,z = sp.symbols('x y z')"
   ]
  },
  {
   "cell_type": "markdown",
   "id": "6ba9d765-f170-48c9-80ff-c6711bed20a5",
   "metadata": {},
   "source": [
    "### ```diff()``` method"
   ]
  },
  {
   "cell_type": "code",
   "execution_count": 5,
   "id": "6745192d-b473-46e1-a261-77929976ccee",
   "metadata": {},
   "outputs": [
    {
     "data": {
      "text/latex": [
       "$\\displaystyle - \\sin{\\left(x \\right)}$"
      ],
      "text/plain": [
       "-sin(x)"
      ]
     },
     "execution_count": 5,
     "metadata": {},
     "output_type": "execute_result"
    }
   ],
   "source": [
    "sp.diff(sp.cos(x), x)"
   ]
  },
  {
   "cell_type": "code",
   "execution_count": 6,
   "id": "435cfd57-c3a4-44c5-a5b7-17e78d87fdac",
   "metadata": {},
   "outputs": [
    {
     "data": {
      "text/latex": [
       "$\\displaystyle e^{x^{2}}$"
      ],
      "text/plain": [
       "exp(x**2)"
      ]
     },
     "execution_count": 6,
     "metadata": {},
     "output_type": "execute_result"
    }
   ],
   "source": [
    "expr = sp.exp(x**2)\n",
    "expr"
   ]
  },
  {
   "cell_type": "code",
   "execution_count": 7,
   "id": "5ebe0d4d-ee08-43e0-acbc-db077adfebfd",
   "metadata": {},
   "outputs": [
    {
     "data": {
      "text/latex": [
       "$\\displaystyle 2 x e^{x^{2}}$"
      ],
      "text/plain": [
       "2*x*exp(x**2)"
      ]
     },
     "execution_count": 7,
     "metadata": {},
     "output_type": "execute_result"
    }
   ],
   "source": [
    "sp.diff(expr, x)"
   ]
  },
  {
   "cell_type": "code",
   "execution_count": 8,
   "id": "8626fb06-3191-447b-a6af-526050e68012",
   "metadata": {},
   "outputs": [
    {
     "data": {
      "text/latex": [
       "$\\displaystyle x^{4}$"
      ],
      "text/plain": [
       "x**4"
      ]
     },
     "execution_count": 8,
     "metadata": {},
     "output_type": "execute_result"
    }
   ],
   "source": [
    "expr = x**4\n",
    "expr"
   ]
  },
  {
   "cell_type": "code",
   "execution_count": 9,
   "id": "21fc7ad9-2e0d-4a79-a9ef-316ffcfdecf5",
   "metadata": {},
   "outputs": [
    {
     "data": {
      "text/latex": [
       "$\\displaystyle 24 x$"
      ],
      "text/plain": [
       "24*x"
      ]
     },
     "execution_count": 9,
     "metadata": {},
     "output_type": "execute_result"
    }
   ],
   "source": [
    "sp.diff(expr, x,x,x)"
   ]
  },
  {
   "cell_type": "code",
   "execution_count": 10,
   "id": "492b60ba-bb0e-42c9-ad4e-a3ea7a2675bd",
   "metadata": {},
   "outputs": [
    {
     "data": {
      "text/latex": [
       "$\\displaystyle 24 x$"
      ],
      "text/plain": [
       "24*x"
      ]
     },
     "execution_count": 10,
     "metadata": {},
     "output_type": "execute_result"
    }
   ],
   "source": [
    "sp.diff(expr, x, 3)"
   ]
  },
  {
   "cell_type": "code",
   "execution_count": 11,
   "id": "5f8ddd06-a9bb-4e46-8d9c-533fddcdefab",
   "metadata": {},
   "outputs": [
    {
     "data": {
      "text/latex": [
       "$\\displaystyle e^{x y z}$"
      ],
      "text/plain": [
       "exp(x*y*z)"
      ]
     },
     "execution_count": 11,
     "metadata": {},
     "output_type": "execute_result"
    }
   ],
   "source": [
    "expr = sp.exp(x*y*z)\n",
    "expr"
   ]
  },
  {
   "cell_type": "code",
   "execution_count": 12,
   "id": "c5d57d70-6619-4c67-9b55-ab0ea11be26e",
   "metadata": {},
   "outputs": [
    {
     "data": {
      "text/latex": [
       "$\\displaystyle x^{3} y^{2} \\left(x^{3} y^{3} z^{3} + 14 x^{2} y^{2} z^{2} + 52 x y z + 48\\right) e^{x y z}$"
      ],
      "text/plain": [
       "x**3*y**2*(x**3*y**3*z**3 + 14*x**2*y**2*z**2 + 52*x*y*z + 48)*exp(x*y*z)"
      ]
     },
     "execution_count": 12,
     "metadata": {},
     "output_type": "execute_result"
    }
   ],
   "source": [
    "sp.diff(expr, x, y,y, z,z,z,z)"
   ]
  },
  {
   "cell_type": "code",
   "execution_count": 13,
   "id": "f2f012bb-3e14-4e8c-b726-90244e4e9b0a",
   "metadata": {},
   "outputs": [
    {
     "data": {
      "text/latex": [
       "$\\displaystyle x^{3} y^{2} \\left(x^{3} y^{3} z^{3} + 14 x^{2} y^{2} z^{2} + 52 x y z + 48\\right) e^{x y z}$"
      ],
      "text/plain": [
       "x**3*y**2*(x**3*y**3*z**3 + 14*x**2*y**2*z**2 + 52*x*y*z + 48)*exp(x*y*z)"
      ]
     },
     "execution_count": 13,
     "metadata": {},
     "output_type": "execute_result"
    }
   ],
   "source": [
    "sp.diff(expr, x, y, 2, z, 4)"
   ]
  },
  {
   "cell_type": "code",
   "execution_count": 14,
   "id": "73bafb2a-a341-4ff2-ba45-23e3eba85381",
   "metadata": {},
   "outputs": [
    {
     "data": {
      "text/latex": [
       "$\\displaystyle x^{3} y^{2} \\left(x^{3} y^{3} z^{3} + 14 x^{2} y^{2} z^{2} + 52 x y z + 48\\right) e^{x y z}$"
      ],
      "text/plain": [
       "x**3*y**2*(x**3*y**3*z**3 + 14*x**2*y**2*z**2 + 52*x*y*z + 48)*exp(x*y*z)"
      ]
     },
     "execution_count": 14,
     "metadata": {},
     "output_type": "execute_result"
    }
   ],
   "source": [
    "sp.diff(expr, x, y,y, z, 4)"
   ]
  },
  {
   "cell_type": "code",
   "execution_count": 15,
   "id": "db0a4339-9ff8-4b3a-8f47-931f70c1cf31",
   "metadata": {},
   "outputs": [
    {
     "data": {
      "text/latex": [
       "$\\displaystyle x^{3} y^{2} \\left(x^{3} y^{3} z^{3} + 14 x^{2} y^{2} z^{2} + 52 x y z + 48\\right) e^{x y z}$"
      ],
      "text/plain": [
       "x**3*y**2*(x**3*y**3*z**3 + 14*x**2*y**2*z**2 + 52*x*y*z + 48)*exp(x*y*z)"
      ]
     },
     "execution_count": 15,
     "metadata": {},
     "output_type": "execute_result"
    }
   ],
   "source": [
    "expr.diff(x, y, 2, z, 4)"
   ]
  },
  {
   "cell_type": "markdown",
   "id": "84a4ac92-ed60-44c0-826b-0401d9c4004a",
   "metadata": {},
   "source": [
    "#### With Order"
   ]
  },
  {
   "cell_type": "code",
   "execution_count": 16,
   "id": "e4f1bde0-205b-4a74-8ce3-4a20a901c93a",
   "metadata": {},
   "outputs": [],
   "source": [
    "m, n, a, b = sp.symbols('m n a b')"
   ]
  },
  {
   "cell_type": "code",
   "execution_count": 17,
   "id": "4c280076-092a-480c-ae15-ace2793e4f8c",
   "metadata": {},
   "outputs": [
    {
     "data": {
      "text/latex": [
       "$\\displaystyle \\left(a x + b\\right)^{m}$"
      ],
      "text/plain": [
       "(a*x + b)**m"
      ]
     },
     "execution_count": 17,
     "metadata": {},
     "output_type": "execute_result"
    }
   ],
   "source": [
    "expr = (a*x + b)**m\n",
    "expr"
   ]
  },
  {
   "cell_type": "code",
   "execution_count": 18,
   "id": "5acdf1f7-c53f-4c0c-9cc0-15ce3451e832",
   "metadata": {},
   "outputs": [
    {
     "data": {
      "text/latex": [
       "$\\displaystyle \\frac{a m \\left(a x + b\\right)^{m}}{a x + b}$"
      ],
      "text/plain": [
       "a*m*(a*x + b)**m/(a*x + b)"
      ]
     },
     "execution_count": 18,
     "metadata": {},
     "output_type": "execute_result"
    }
   ],
   "source": [
    "expr.diff(x)"
   ]
  },
  {
   "cell_type": "code",
   "execution_count": 19,
   "id": "9c8ee59c-c558-4e39-953c-eb0a255e312d",
   "metadata": {},
   "outputs": [
    {
     "data": {
      "text/latex": [
       "$\\displaystyle \\frac{\\partial}{\\partial x} \\left(a x + b\\right)^{m}$"
      ],
      "text/plain": [
       "Derivative((a*x + b)**m, x)"
      ]
     },
     "execution_count": 19,
     "metadata": {},
     "output_type": "execute_result"
    }
   ],
   "source": [
    "sp.Derivative(expr, x)"
   ]
  },
  {
   "cell_type": "code",
   "execution_count": 20,
   "id": "727ec45c-5129-4666-afeb-a6b78c695e02",
   "metadata": {},
   "outputs": [
    {
     "data": {
      "text/latex": [
       "$\\displaystyle \\frac{a m \\left(a x + b\\right)^{m}}{a x + b}$"
      ],
      "text/plain": [
       "a*m*(a*x + b)**m/(a*x + b)"
      ]
     },
     "execution_count": 20,
     "metadata": {},
     "output_type": "execute_result"
    }
   ],
   "source": [
    "sp.Derivative(expr, x).doit()"
   ]
  },
  {
   "cell_type": "code",
   "execution_count": 21,
   "id": "b11bb2df-5688-452e-a427-aab1e5768a32",
   "metadata": {},
   "outputs": [
    {
     "data": {
      "text/latex": [
       "$\\displaystyle \\frac{\\partial^{n}}{\\partial x^{n}} \\left(a x + b\\right)^{m}$"
      ],
      "text/plain": [
       "Derivative((a*x + b)**m, (x, n))"
      ]
     },
     "execution_count": 21,
     "metadata": {},
     "output_type": "execute_result"
    }
   ],
   "source": [
    "sp.Derivative(expr, (x, n))"
   ]
  },
  {
   "cell_type": "code",
   "execution_count": 22,
   "id": "22023790-4fb6-4c82-8cb8-97c62a87a0a1",
   "metadata": {},
   "outputs": [
    {
     "data": {
      "text/latex": [
       "$\\displaystyle \\frac{\\partial^{n}}{\\partial x^{n}} \\left(a x + b\\right)^{m}$"
      ],
      "text/plain": [
       "Derivative((a*x + b)**m, (x, n))"
      ]
     },
     "execution_count": 22,
     "metadata": {},
     "output_type": "execute_result"
    }
   ],
   "source": [
    "sp.Derivative(expr, (x, n)).doit()"
   ]
  },
  {
   "cell_type": "code",
   "execution_count": 23,
   "id": "34757f0f-848c-47a6-9863-9cc46fbede7c",
   "metadata": {},
   "outputs": [
    {
     "data": {
      "text/latex": [
       "$\\displaystyle 0$"
      ],
      "text/plain": [
       "0"
      ]
     },
     "execution_count": 23,
     "metadata": {},
     "output_type": "execute_result"
    }
   ],
   "source": [
    "expr.diff(x, n)"
   ]
  },
  {
   "cell_type": "code",
   "execution_count": 24,
   "id": "36b3903d-d70f-496a-804d-01f81bf3b1fc",
   "metadata": {},
   "outputs": [
    {
     "data": {
      "text/latex": [
       "$\\displaystyle \\frac{\\partial^{n}}{\\partial x^{n}} \\left(a x + b\\right)^{m}$"
      ],
      "text/plain": [
       "Derivative((a*x + b)**m, (x, n))"
      ]
     },
     "execution_count": 24,
     "metadata": {},
     "output_type": "execute_result"
    }
   ],
   "source": [
    "expr.diff((x, n))"
   ]
  },
  {
   "cell_type": "markdown",
   "id": "d48cd536-565d-453e-ae2a-36036dae8b9e",
   "metadata": {},
   "source": [
    "### ```Derivitive()``` method"
   ]
  },
  {
   "cell_type": "code",
   "execution_count": 25,
   "id": "ce181980-f5ed-4232-9e68-3be4daa94a24",
   "metadata": {},
   "outputs": [
    {
     "data": {
      "text/latex": [
       "$\\displaystyle \\frac{\\partial^{7}}{\\partial z^{4}\\partial y^{2}\\partial x} \\left(a x + b\\right)^{m}$"
      ],
      "text/plain": [
       "Derivative((a*x + b)**m, x, (y, 2), (z, 4))"
      ]
     },
     "execution_count": 25,
     "metadata": {},
     "output_type": "execute_result"
    }
   ],
   "source": [
    "deriv = sp.Derivative(expr, x, y, 2, z, 4)\n",
    "deriv"
   ]
  },
  {
   "cell_type": "code",
   "execution_count": 26,
   "id": "3a05f11d-1984-4504-8e13-752060f1125c",
   "metadata": {},
   "outputs": [
    {
     "data": {
      "text/latex": [
       "$\\displaystyle 0$"
      ],
      "text/plain": [
       "0"
      ]
     },
     "execution_count": 26,
     "metadata": {},
     "output_type": "execute_result"
    }
   ],
   "source": [
    "deriv.doit()"
   ]
  },
  {
   "cell_type": "markdown",
   "id": "38f3c4e5-a93e-4e62-b157-35e81ff2eba1",
   "metadata": {},
   "source": [
    "## Integrals"
   ]
  },
  {
   "cell_type": "markdown",
   "id": "2060fdec-526b-4ac9-922d-ea68b136faec",
   "metadata": {},
   "source": [
    "### indefinite"
   ]
  },
  {
   "cell_type": "code",
   "execution_count": 27,
   "id": "b7d0d1a4-c8cb-432a-ad7a-ccdbd6a4294c",
   "metadata": {},
   "outputs": [
    {
     "data": {
      "text/latex": [
       "$\\displaystyle \\sin{\\left(x \\right)}$"
      ],
      "text/plain": [
       "sin(x)"
      ]
     },
     "execution_count": 27,
     "metadata": {},
     "output_type": "execute_result"
    }
   ],
   "source": [
    "sp.integrate(sp.cos(x), x)"
   ]
  },
  {
   "cell_type": "markdown",
   "id": "95c5a165-d68d-4987-869f-955d95114b6b",
   "metadata": {},
   "source": [
    "### definite"
   ]
  },
  {
   "cell_type": "code",
   "execution_count": 28,
   "id": "1ef4956c-09bf-48b2-ab98-5e6b2162330e",
   "metadata": {},
   "outputs": [
    {
     "data": {
      "text/latex": [
       "$\\displaystyle 1$"
      ],
      "text/plain": [
       "1"
      ]
     },
     "execution_count": 28,
     "metadata": {},
     "output_type": "execute_result"
    }
   ],
   "source": [
    "# sp.integrate( expr, (integration_variable, lower_limit, upper_limit) )\n",
    "sp.integrate(sp.exp(-x), (x, 0, sp.oo))"
   ]
  },
  {
   "cell_type": "code",
   "execution_count": 29,
   "id": "31adcc91-2b1b-47be-a849-45a21a304e55",
   "metadata": {},
   "outputs": [
    {
     "data": {
      "text/latex": [
       "$\\displaystyle e^{- x^{2} - y^{2}}$"
      ],
      "text/plain": [
       "exp(-x**2 - y**2)"
      ]
     },
     "execution_count": 29,
     "metadata": {},
     "output_type": "execute_result"
    }
   ],
   "source": [
    "expr = sp.exp(-x**2 - y**2)\n",
    "expr"
   ]
  },
  {
   "cell_type": "code",
   "execution_count": 30,
   "id": "2b22655f-7b03-450a-9906-1e99b9ea679b",
   "metadata": {},
   "outputs": [
    {
     "data": {
      "text/latex": [
       "$\\displaystyle \\frac{\\sqrt{\\pi} e^{- y^{2}} \\operatorname{erf}{\\left(x \\right)}}{2}$"
      ],
      "text/plain": [
       "sqrt(pi)*exp(-y**2)*erf(x)/2"
      ]
     },
     "execution_count": 30,
     "metadata": {},
     "output_type": "execute_result"
    }
   ],
   "source": [
    "sp.integrate(expr, x)"
   ]
  },
  {
   "cell_type": "code",
   "execution_count": 31,
   "id": "7f615151-5cbd-4556-a967-35e68f4e7059",
   "metadata": {},
   "outputs": [
    {
     "data": {
      "text/latex": [
       "$\\displaystyle \\frac{\\sqrt{\\pi} e^{- y^{2}} \\operatorname{erf}{\\left(x \\right)}}{2}$"
      ],
      "text/plain": [
       "sqrt(pi)*exp(-y**2)*erf(x)/2"
      ]
     },
     "execution_count": 31,
     "metadata": {},
     "output_type": "execute_result"
    }
   ],
   "source": [
    "expr2 = sp.sqrt(sp.pi) * sp.E**(-y**2)*sp.erf(x) / 2\n",
    "expr2"
   ]
  },
  {
   "cell_type": "code",
   "execution_count": 32,
   "id": "5ead0a20-d96c-4836-942f-5271c406177a",
   "metadata": {},
   "outputs": [
    {
     "data": {
      "text/latex": [
       "$\\displaystyle \\frac{\\pi \\operatorname{erf}{\\left(x \\right)} \\operatorname{erf}{\\left(y \\right)}}{4}$"
      ],
      "text/plain": [
       "pi*erf(x)*erf(y)/4"
      ]
     },
     "execution_count": 32,
     "metadata": {},
     "output_type": "execute_result"
    }
   ],
   "source": [
    "sp.integrate(expr2, y)"
   ]
  },
  {
   "cell_type": "code",
   "execution_count": 33,
   "id": "8c630495-ca15-475b-9b87-c832f05b1a62",
   "metadata": {},
   "outputs": [
    {
     "data": {
      "text/latex": [
       "$\\displaystyle \\frac{\\pi \\operatorname{erf}{\\left(x \\right)} \\operatorname{erf}{\\left(y \\right)}}{4}$"
      ],
      "text/plain": [
       "pi*erf(x)*erf(y)/4"
      ]
     },
     "execution_count": 33,
     "metadata": {},
     "output_type": "execute_result"
    }
   ],
   "source": [
    "sp.integrate(expr, x, y)"
   ]
  },
  {
   "cell_type": "code",
   "execution_count": 34,
   "id": "d92f30a3-1888-41a8-887c-791c7952a190",
   "metadata": {},
   "outputs": [
    {
     "data": {
      "text/latex": [
       "$\\displaystyle \\pi$"
      ],
      "text/plain": [
       "pi"
      ]
     },
     "execution_count": 34,
     "metadata": {},
     "output_type": "execute_result"
    }
   ],
   "source": [
    "sp.integrate(expr, (x, -sp.oo, sp.oo), (y, -sp.oo, sp.oo))"
   ]
  },
  {
   "cell_type": "markdown",
   "id": "0c8d560f-0a3a-4087-81f9-1ccb970c84b2",
   "metadata": {},
   "source": [
    "#### If ```integrate()``` is unable to compute an integral, it returns an unevaluated ```Integral``` object."
   ]
  },
  {
   "cell_type": "code",
   "execution_count": 35,
   "id": "418a671e-d17d-4a4d-aa65-b9b80174f600",
   "metadata": {},
   "outputs": [
    {
     "data": {
      "text/latex": [
       "$\\displaystyle \\int x^{x}\\, dx$"
      ],
      "text/plain": [
       "Integral(x**x, x)"
      ]
     },
     "execution_count": 35,
     "metadata": {},
     "output_type": "execute_result"
    }
   ],
   "source": [
    "expr = sp.integrate(x**x, x)\n",
    "expr"
   ]
  },
  {
   "cell_type": "code",
   "execution_count": 36,
   "id": "2fe5a075-40f2-425a-8294-7c3206988312",
   "metadata": {},
   "outputs": [
    {
     "data": {
      "text/latex": [
       "$\\displaystyle \\int \\log{\\left(x \\right)}^{2}\\, dx$"
      ],
      "text/plain": [
       "Integral(log(x)**2, x)"
      ]
     },
     "execution_count": 36,
     "metadata": {},
     "output_type": "execute_result"
    }
   ],
   "source": [
    "expr = sp.Integral(sp.log(x)**2, x)\n",
    "expr"
   ]
  },
  {
   "cell_type": "code",
   "execution_count": 37,
   "id": "a0d86614-a9ba-407c-b712-1317e6159d83",
   "metadata": {},
   "outputs": [
    {
     "data": {
      "text/latex": [
       "$\\displaystyle x \\log{\\left(x \\right)}^{2} - 2 x \\log{\\left(x \\right)} + 2 x$"
      ],
      "text/plain": [
       "x*log(x)**2 - 2*x*log(x) + 2*x"
      ]
     },
     "execution_count": 37,
     "metadata": {},
     "output_type": "execute_result"
    }
   ],
   "source": [
    "expr.doit()"
   ]
  },
  {
   "cell_type": "code",
   "execution_count": 38,
   "id": "068e76f4-b204-4b77-af2c-7b6dd1cf29a6",
   "metadata": {},
   "outputs": [
    {
     "data": {
      "text/latex": [
       "$\\displaystyle \\int \\frac{\\left(x^{4} + x^{2} e^{x} - x^{2} - 2 x e^{x} - 2 x - e^{x}\\right) e^{x}}{\\left(x - 1\\right)^{2} \\left(x + 1\\right)^{2} \\left(e^{x} + 1\\right)}\\, dx$"
      ],
      "text/plain": [
       "Integral((x**4 + x**2*exp(x) - x**2 - 2*x*exp(x) - 2*x - exp(x))*exp(x)/((x - 1)**2*(x + 1)**2*(exp(x) + 1)), x)"
      ]
     },
     "execution_count": 38,
     "metadata": {},
     "output_type": "execute_result"
    }
   ],
   "source": [
    "integ = sp.Integral(\n",
    "            (x**4 + x**2 * sp.exp(x) - x**2 - 2 * x * sp.exp(x) - 2 * x - sp.exp(x)) * sp.exp(x) / ((x - 1)**2 * (x + 1)**2 * (sp.exp(x)+1)),\n",
    "            x\n",
    "        )\n",
    "integ"
   ]
  },
  {
   "cell_type": "code",
   "execution_count": 39,
   "id": "b764bd63-3b82-4e2d-9061-821c443910f9",
   "metadata": {},
   "outputs": [
    {
     "data": {
      "text/latex": [
       "$\\displaystyle \\log{\\left(e^{x} + 1 \\right)} + \\frac{e^{x}}{x^{2} - 1}$"
      ],
      "text/plain": [
       "log(exp(x) + 1) + exp(x)/(x**2 - 1)"
      ]
     },
     "execution_count": 39,
     "metadata": {},
     "output_type": "execute_result"
    }
   ],
   "source": [
    "integ.doit()"
   ]
  },
  {
   "cell_type": "code",
   "execution_count": 40,
   "id": "22e2ffdc-dd51-4612-a560-d0c0f0945412",
   "metadata": {},
   "outputs": [
    {
     "data": {
      "text/latex": [
       "$\\displaystyle \\int \\sin{\\left(x^{2} \\right)}\\, dx$"
      ],
      "text/plain": [
       "Integral(sin(x**2), x)"
      ]
     },
     "execution_count": 40,
     "metadata": {},
     "output_type": "execute_result"
    }
   ],
   "source": [
    "integ = sp.Integral(sp.sin(x**2), x)\n",
    "integ"
   ]
  },
  {
   "cell_type": "code",
   "execution_count": 41,
   "id": "fbbf5b63-a92c-4557-9c66-1c206a639ca5",
   "metadata": {},
   "outputs": [
    {
     "data": {
      "text/latex": [
       "$\\displaystyle \\frac{3 \\sqrt{2} \\sqrt{\\pi} S\\left(\\frac{\\sqrt{2} x}{\\sqrt{\\pi}}\\right) \\Gamma\\left(\\frac{3}{4}\\right)}{8 \\Gamma\\left(\\frac{7}{4}\\right)}$"
      ],
      "text/plain": [
       "3*sqrt(2)*sqrt(pi)*fresnels(sqrt(2)*x/sqrt(pi))*gamma(3/4)/(8*gamma(7/4))"
      ]
     },
     "execution_count": 41,
     "metadata": {},
     "output_type": "execute_result"
    }
   ],
   "source": [
    "integ.doit()"
   ]
  },
  {
   "cell_type": "code",
   "execution_count": 42,
   "id": "7a62faa5-b84b-4b2f-8d1a-c7a8686c8263",
   "metadata": {},
   "outputs": [
    {
     "data": {
      "text/latex": [
       "$\\displaystyle \\int\\limits_{0}^{\\infty} x^{y} e^{- x}\\, dx$"
      ],
      "text/plain": [
       "Integral(x**y*exp(-x), (x, 0, oo))"
      ]
     },
     "execution_count": 42,
     "metadata": {},
     "output_type": "execute_result"
    }
   ],
   "source": [
    "integ = sp.Integral(x**y*sp.exp(-x), (x, 0, sp.oo))\n",
    "integ"
   ]
  },
  {
   "cell_type": "code",
   "execution_count": 43,
   "id": "7460e977-c69b-4057-9877-591f20267af1",
   "metadata": {},
   "outputs": [
    {
     "data": {
      "text/latex": [
       "$\\displaystyle \\begin{cases} \\Gamma\\left(y + 1\\right) & \\text{for}\\: \\operatorname{re}{\\left(y\\right)} > -1 \\\\\\int\\limits_{0}^{\\infty} x^{y} e^{- x}\\, dx & \\text{otherwise} \\end{cases}$"
      ],
      "text/plain": [
       "Piecewise((gamma(y + 1), re(y) > -1), (Integral(x**y*exp(-x), (x, 0, oo)), True))"
      ]
     },
     "execution_count": 43,
     "metadata": {},
     "output_type": "execute_result"
    }
   ],
   "source": [
    "integ.doit()"
   ]
  },
  {
   "cell_type": "markdown",
   "id": "0855d2ce-4da0-4a8c-80de-888868e2d54b",
   "metadata": {},
   "source": [
    "This last example returned a Piecewise expression because the integral does not converge unless  R(y)>1."
   ]
  },
  {
   "cell_type": "markdown",
   "id": "6bfd6029-4150-4e6c-b536-aea118871cb8",
   "metadata": {},
   "source": [
    "## Limits"
   ]
  },
  {
   "cell_type": "code",
   "execution_count": 44,
   "id": "0959b211-8661-48d1-9f52-357483f6f463",
   "metadata": {},
   "outputs": [
    {
     "data": {
      "text/latex": [
       "$\\displaystyle \\frac{\\sin{\\left(x \\right)}}{x}$"
      ],
      "text/plain": [
       "sin(x)/x"
      ]
     },
     "execution_count": 44,
     "metadata": {},
     "output_type": "execute_result"
    }
   ],
   "source": [
    "expr = sp.sin(x)/x\n",
    "expr"
   ]
  },
  {
   "cell_type": "code",
   "execution_count": 45,
   "id": "d2704c65-e32c-4072-b35a-a6c287897636",
   "metadata": {},
   "outputs": [
    {
     "data": {
      "text/latex": [
       "$\\displaystyle 1$"
      ],
      "text/plain": [
       "1"
      ]
     },
     "execution_count": 45,
     "metadata": {},
     "output_type": "execute_result"
    }
   ],
   "source": [
    "sp.limit(expr, x, 0)"
   ]
  },
  {
   "cell_type": "code",
   "execution_count": 46,
   "id": "94d22f43-0f97-4e15-82b7-87ca3a088182",
   "metadata": {},
   "outputs": [
    {
     "data": {
      "text/latex": [
       "$\\displaystyle x^{2} e^{- x}$"
      ],
      "text/plain": [
       "x**2*exp(-x)"
      ]
     },
     "execution_count": 46,
     "metadata": {},
     "output_type": "execute_result"
    }
   ],
   "source": [
    "expr = x**2 / sp.exp(x)\n",
    "expr"
   ]
  },
  {
   "cell_type": "code",
   "execution_count": 47,
   "id": "ab2c67ae-2dde-45d3-af20-ad6589be822c",
   "metadata": {},
   "outputs": [
    {
     "data": {
      "text/latex": [
       "$\\displaystyle \\text{NaN}$"
      ],
      "text/plain": [
       "nan"
      ]
     },
     "execution_count": 47,
     "metadata": {},
     "output_type": "execute_result"
    }
   ],
   "source": [
    "expr.subs(x, sp.oo)"
   ]
  },
  {
   "cell_type": "code",
   "execution_count": 48,
   "id": "4550b4ce-a71a-472d-b99b-04c3e63d59ba",
   "metadata": {},
   "outputs": [
    {
     "data": {
      "text/latex": [
       "$\\displaystyle 0$"
      ],
      "text/plain": [
       "0"
      ]
     },
     "execution_count": 48,
     "metadata": {},
     "output_type": "execute_result"
    }
   ],
   "source": [
    "sp.limit(expr, x, sp.oo)"
   ]
  },
  {
   "cell_type": "code",
   "execution_count": 49,
   "id": "8423238f-25fa-4654-a6fa-a6b3669bd7bf",
   "metadata": {},
   "outputs": [
    {
     "data": {
      "text/latex": [
       "$\\displaystyle \\frac{\\cos{\\left(x \\right)} - 1}{x}$"
      ],
      "text/plain": [
       "(cos(x) - 1)/x"
      ]
     },
     "execution_count": 49,
     "metadata": {},
     "output_type": "execute_result"
    }
   ],
   "source": [
    "expr = (sp.cos(x) - 1) / x\n",
    "expr"
   ]
  },
  {
   "cell_type": "code",
   "execution_count": 50,
   "id": "d7704038-747f-4831-881e-1c1fb6a75d61",
   "metadata": {},
   "outputs": [
    {
     "data": {
      "text/latex": [
       "$\\displaystyle \\lim_{x \\to 0^+}\\left(\\frac{\\cos{\\left(x \\right)} - 1}{x}\\right)$"
      ],
      "text/plain": [
       "Limit((cos(x) - 1)/x, x, 0)"
      ]
     },
     "execution_count": 50,
     "metadata": {},
     "output_type": "execute_result"
    }
   ],
   "source": [
    "lim_expr = sp.Limit(expr, x, 0)\n",
    "lim_expr"
   ]
  },
  {
   "cell_type": "code",
   "execution_count": 51,
   "id": "063e14ef-dba8-468e-a15a-84d6ad3fc200",
   "metadata": {},
   "outputs": [
    {
     "data": {
      "text/latex": [
       "$\\displaystyle 0$"
      ],
      "text/plain": [
       "0"
      ]
     },
     "execution_count": 51,
     "metadata": {},
     "output_type": "execute_result"
    }
   ],
   "source": [
    "lim_expr.doit()"
   ]
  },
  {
   "cell_type": "code",
   "execution_count": 52,
   "id": "04c6c788-4477-46d4-9dab-1e37a51f48c5",
   "metadata": {},
   "outputs": [
    {
     "data": {
      "text/latex": [
       "$\\displaystyle \\frac{1}{x}$"
      ],
      "text/plain": [
       "1/x"
      ]
     },
     "execution_count": 52,
     "metadata": {},
     "output_type": "execute_result"
    }
   ],
   "source": [
    "expr = 1/x\n",
    "expr"
   ]
  },
  {
   "cell_type": "code",
   "execution_count": 53,
   "id": "3a752c3f-5b3a-47fa-82e1-14f5bfa717f7",
   "metadata": {},
   "outputs": [
    {
     "data": {
      "text/latex": [
       "$\\displaystyle \\infty$"
      ],
      "text/plain": [
       "oo"
      ]
     },
     "execution_count": 53,
     "metadata": {},
     "output_type": "execute_result"
    }
   ],
   "source": [
    "sp.limit(expr, x, 0, '+')"
   ]
  },
  {
   "cell_type": "code",
   "execution_count": 54,
   "id": "bbc43fe8-fb0f-4dad-9633-1c297c5e8a74",
   "metadata": {},
   "outputs": [
    {
     "data": {
      "text/latex": [
       "$\\displaystyle -\\infty$"
      ],
      "text/plain": [
       "-oo"
      ]
     },
     "execution_count": 54,
     "metadata": {},
     "output_type": "execute_result"
    }
   ],
   "source": [
    "sp.limit(expr, x, 0, '-')"
   ]
  },
  {
   "cell_type": "markdown",
   "id": "964a68a0-7e1e-4151-b5c8-b951f25e1f79",
   "metadata": {},
   "source": [
    "### Series Exapnsion"
   ]
  },
  {
   "cell_type": "code",
   "execution_count": 55,
   "id": "853aafa0-1c4d-426e-9637-1b2bee507503",
   "metadata": {},
   "outputs": [
    {
     "data": {
      "text/latex": [
       "$\\displaystyle e^{\\sin{\\left(x \\right)}}$"
      ],
      "text/plain": [
       "exp(sin(x))"
      ]
     },
     "execution_count": 55,
     "metadata": {},
     "output_type": "execute_result"
    }
   ],
   "source": [
    "expr = sp.exp(sp.sin(x))\n",
    "expr"
   ]
  },
  {
   "cell_type": "code",
   "execution_count": 56,
   "id": "835a8006-59d8-4359-a6cb-5deb67ced215",
   "metadata": {},
   "outputs": [
    {
     "data": {
      "text/latex": [
       "$\\displaystyle 1 + x + \\frac{x^{2}}{2} + O\\left(x^{4}\\right)$"
      ],
      "text/plain": [
       "1 + x + x**2/2 + O(x**4)"
      ]
     },
     "execution_count": 56,
     "metadata": {},
     "output_type": "execute_result"
    }
   ],
   "source": [
    "expr.series(x, 0, 4)"
   ]
  },
  {
   "cell_type": "code",
   "execution_count": 57,
   "id": "3dddfa90-debf-4493-94a1-d88716883175",
   "metadata": {},
   "outputs": [
    {
     "data": {
      "text/latex": [
       "$\\displaystyle 1 + x + \\frac{x^{2}}{2} + \\frac{x^{3}}{6} + O\\left(x^{4}\\right)$"
      ],
      "text/plain": [
       "1 + x + x**2/2 + x**3/6 + O(x**4)"
      ]
     },
     "execution_count": 57,
     "metadata": {},
     "output_type": "execute_result"
    }
   ],
   "source": [
    "sp.exp(x).series(x, 0, 4)"
   ]
  },
  {
   "cell_type": "code",
   "execution_count": 58,
   "id": "41800b21-1f22-4d55-88e7-e190d9c55107",
   "metadata": {},
   "outputs": [
    {
     "data": {
      "text/latex": [
       "$\\displaystyle x - \\frac{x^{3}}{6} + \\frac{x^{5}}{120} - \\frac{x^{7}}{5040} + O\\left(x^{9}\\right)$"
      ],
      "text/plain": [
       "x - x**3/6 + x**5/120 - x**7/5040 + O(x**9)"
      ]
     },
     "execution_count": 58,
     "metadata": {},
     "output_type": "execute_result"
    }
   ],
   "source": [
    "sp.sin(x).series(x, 0, 9)"
   ]
  },
  {
   "cell_type": "code",
   "execution_count": 59,
   "id": "0f8ed2fe-e25f-4ee9-8add-53997549c646",
   "metadata": {},
   "outputs": [
    {
     "data": {
      "text/latex": [
       "$\\displaystyle x + x^{3} + O\\left(x^{4}\\right)$"
      ],
      "text/plain": [
       "x + x**3 + O(x**4)"
      ]
     },
     "execution_count": 59,
     "metadata": {},
     "output_type": "execute_result"
    }
   ],
   "source": [
    "x + x**3 + x**6 + sp.O(x**4)"
   ]
  },
  {
   "cell_type": "code",
   "execution_count": 60,
   "id": "b086822e-bc7f-4a60-9e87-90b703c8d939",
   "metadata": {},
   "outputs": [
    {
     "data": {
      "text/latex": [
       "$\\displaystyle O\\left(x\\right)$"
      ],
      "text/plain": [
       "O(x)"
      ]
     },
     "execution_count": 60,
     "metadata": {},
     "output_type": "execute_result"
    }
   ],
   "source": [
    "x*sp.O(1)"
   ]
  },
  {
   "cell_type": "code",
   "execution_count": 61,
   "id": "b5cd3c2e-e869-475d-9df2-6040162973cd",
   "metadata": {},
   "outputs": [
    {
     "data": {
      "text/latex": [
       "$\\displaystyle O\\left(x^{4}\\right)$"
      ],
      "text/plain": [
       "O(x**4)"
      ]
     },
     "execution_count": 61,
     "metadata": {},
     "output_type": "execute_result"
    }
   ],
   "source": [
    "x*sp.O(x**3)"
   ]
  },
  {
   "cell_type": "code",
   "execution_count": 62,
   "id": "f065d351-9ffa-4173-b95a-2ad54c55ae19",
   "metadata": {},
   "outputs": [
    {
     "data": {
      "text/latex": [
       "$\\displaystyle \\frac{x^{2}}{2} + x + 1$"
      ],
      "text/plain": [
       "x**2/2 + x + 1"
      ]
     },
     "execution_count": 62,
     "metadata": {},
     "output_type": "execute_result"
    }
   ],
   "source": [
    "expr.series(x, 0, 4).removeO()"
   ]
  },
  {
   "cell_type": "code",
   "execution_count": 63,
   "id": "55bbfa3d-5d34-486c-a86a-fb6c302234aa",
   "metadata": {},
   "outputs": [],
   "source": [
    "expr = sp.exp(x - 6)"
   ]
  },
  {
   "cell_type": "code",
   "execution_count": 64,
   "id": "f676250d-222e-44c4-997f-9816c8400fe2",
   "metadata": {},
   "outputs": [
    {
     "data": {
      "text/latex": [
       "$\\displaystyle -5 + \\frac{\\left(x - 6\\right)^{2}}{2} + \\frac{\\left(x - 6\\right)^{3}}{6} + \\frac{\\left(x - 6\\right)^{4}}{24} + \\frac{\\left(x - 6\\right)^{5}}{120} + x + O\\left(\\left(x - 6\\right)^{6}; x\\rightarrow 6\\right)$"
      ],
      "text/plain": [
       "-5 + (x - 6)**2/2 + (x - 6)**3/6 + (x - 6)**4/24 + (x - 6)**5/120 + x + O((x - 6)**6, (x, 6))"
      ]
     },
     "execution_count": 64,
     "metadata": {},
     "output_type": "execute_result"
    }
   ],
   "source": [
    "expr.series(x, x0=6)"
   ]
  },
  {
   "cell_type": "markdown",
   "id": "e00c1ab6-e162-49ac-90b0-2378fa79ea7d",
   "metadata": {},
   "source": [
    "## Finite differences"
   ]
  },
  {
   "cell_type": "code",
   "execution_count": 65,
   "id": "4179331a-dd33-4dbb-b50f-b620d5a91a13",
   "metadata": {},
   "outputs": [],
   "source": [
    "f, g = sp.symbols('f g', cls=sp.Function)"
   ]
  },
  {
   "cell_type": "code",
   "execution_count": 66,
   "id": "6590d780-905f-4fa1-b8eb-84ca53f4b763",
   "metadata": {},
   "outputs": [
    {
     "data": {
      "text/latex": [
       "$\\displaystyle - f{\\left(x - \\frac{1}{2} \\right)} g{\\left(x - \\frac{1}{2} \\right)} + f{\\left(x + \\frac{1}{2} \\right)} g{\\left(x + \\frac{1}{2} \\right)}$"
      ],
      "text/plain": [
       "-f(x - 1/2)*g(x - 1/2) + f(x + 1/2)*g(x + 1/2)"
      ]
     },
     "execution_count": 66,
     "metadata": {},
     "output_type": "execute_result"
    }
   ],
   "source": [
    "sp.differentiate_finite(f(x)*g(x))"
   ]
  },
  {
   "cell_type": "code",
   "execution_count": 67,
   "id": "4f0576f7-4ab3-4b0d-aa35-ba45ad63b619",
   "metadata": {},
   "outputs": [],
   "source": [
    "f = sp.Function('f')"
   ]
  },
  {
   "cell_type": "code",
   "execution_count": 68,
   "id": "30d9f555-adf2-4dc7-ba3c-324a897c72b4",
   "metadata": {},
   "outputs": [
    {
     "data": {
      "text/plain": [
       "f"
      ]
     },
     "execution_count": 68,
     "metadata": {},
     "output_type": "execute_result"
    }
   ],
   "source": [
    "f"
   ]
  },
  {
   "cell_type": "code",
   "execution_count": 69,
   "id": "02206813-4a71-49ba-8703-af60b4119fca",
   "metadata": {},
   "outputs": [
    {
     "data": {
      "text/latex": [
       "$\\displaystyle x$"
      ],
      "text/plain": [
       "x"
      ]
     },
     "execution_count": 69,
     "metadata": {},
     "output_type": "execute_result"
    }
   ],
   "source": [
    "x"
   ]
  },
  {
   "cell_type": "code",
   "execution_count": 70,
   "id": "8fc03901-9f39-4721-bda7-aadf6f41e02c",
   "metadata": {},
   "outputs": [
    {
     "data": {
      "text/latex": [
       "$\\displaystyle \\frac{d}{d x} f{\\left(x \\right)}$"
      ],
      "text/plain": [
       "Derivative(f(x), x)"
      ]
     },
     "execution_count": 70,
     "metadata": {},
     "output_type": "execute_result"
    }
   ],
   "source": [
    "dfdx = f(x).diff(x)\n",
    "dfdx"
   ]
  },
  {
   "cell_type": "code",
   "execution_count": 71,
   "id": "5aa49a82-0044-4795-9c88-23240737694b",
   "metadata": {},
   "outputs": [
    {
     "data": {
      "text/latex": [
       "$\\displaystyle - f{\\left(x - \\frac{1}{2} \\right)} + f{\\left(x + \\frac{1}{2} \\right)}$"
      ],
      "text/plain": [
       "-f(x - 1/2) + f(x + 1/2)"
      ]
     },
     "execution_count": 71,
     "metadata": {},
     "output_type": "execute_result"
    }
   ],
   "source": [
    "dfdx.as_finite_difference()"
   ]
  },
  {
   "cell_type": "code",
   "execution_count": 72,
   "id": "aea1ad6b-d48c-4c26-b3d9-0f61e75b0011",
   "metadata": {},
   "outputs": [
    {
     "data": {
      "text/latex": [
       "$\\displaystyle \\frac{d^{2}}{d x^{2}} f{\\left(x \\right)}$"
      ],
      "text/plain": [
       "Derivative(f(x), (x, 2))"
      ]
     },
     "execution_count": 72,
     "metadata": {},
     "output_type": "execute_result"
    }
   ],
   "source": [
    "f = sp.Function('f')\n",
    "d2fdx2 = f(x).diff(x, 2)\n",
    "d2fdx2"
   ]
  },
  {
   "cell_type": "code",
   "execution_count": 73,
   "id": "b15410b2-79c8-4f40-ac3f-05f48f37ae2f",
   "metadata": {},
   "outputs": [],
   "source": [
    "h = sp.Symbol('h')"
   ]
  },
  {
   "cell_type": "code",
   "execution_count": 74,
   "id": "a73c32f9-6c49-4564-9cb3-04f9437858b2",
   "metadata": {},
   "outputs": [
    {
     "data": {
      "text/latex": [
       "$\\displaystyle \\frac{f{\\left(- 3 h \\right)}}{5 h^{2}} - \\frac{f{\\left(- h \\right)}}{3 h^{2}} + \\frac{2 f{\\left(2 h \\right)}}{15 h^{2}}$"
      ],
      "text/plain": [
       "f(-3*h)/(5*h**2) - f(-h)/(3*h**2) + 2*f(2*h)/(15*h**2)"
      ]
     },
     "execution_count": 74,
     "metadata": {},
     "output_type": "execute_result"
    }
   ],
   "source": [
    "d2fdx2.as_finite_difference([-3*h, -h, 2*h])"
   ]
  },
  {
   "cell_type": "code",
   "execution_count": 75,
   "id": "d6d4c052-194d-47d8-9df4-d6b7ebfb1f33",
   "metadata": {},
   "outputs": [
    {
     "data": {
      "text/plain": [
       "[1/5, -1/3, 2/15]"
      ]
     },
     "execution_count": 75,
     "metadata": {},
     "output_type": "execute_result"
    }
   ],
   "source": [
    "sp.finite_diff_weights(2, [-3, -1, 2], 0)[-1][-1]"
   ]
  },
  {
   "cell_type": "code",
   "execution_count": 76,
   "id": "778f035b-9803-4538-b730-854e294217dc",
   "metadata": {},
   "outputs": [
    {
     "data": {
      "text/latex": [
       "$\\displaystyle - \\frac{3 a}{20} - \\frac{b}{4} + \\frac{2 c}{5}$"
      ],
      "text/plain": [
       "-3*a/20 - b/4 + 2*c/5"
      ]
     },
     "execution_count": 76,
     "metadata": {},
     "output_type": "execute_result"
    }
   ],
   "source": [
    "x_list = [-3, 1, 2]\n",
    "y_list = sp.symbols('a b c')\n",
    "sp.apply_finite_diff(1, x_list, y_list, 0)"
   ]
  },
  {
   "cell_type": "code",
   "execution_count": null,
   "id": "9d40a635-a616-402a-bd9b-111b349b82d1",
   "metadata": {},
   "outputs": [],
   "source": []
  }
 ],
 "metadata": {
  "kernelspec": {
   "display_name": "Math",
   "language": "python",
   "name": "math"
  },
  "language_info": {
   "codemirror_mode": {
    "name": "ipython",
    "version": 3
   },
   "file_extension": ".py",
   "mimetype": "text/x-python",
   "name": "python",
   "nbconvert_exporter": "python",
   "pygments_lexer": "ipython3",
   "version": "3.8.12"
  }
 },
 "nbformat": 4,
 "nbformat_minor": 5
}
