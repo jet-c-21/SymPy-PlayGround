{
 "cells": [
  {
   "cell_type": "markdown",
   "id": "47e82bb4-5c18-4040-84ca-52968cf901f0",
   "metadata": {},
   "source": [
    "# Integrals"
   ]
  },
  {
   "cell_type": "code",
   "execution_count": 2,
   "id": "9bfa4ea0-069e-48b0-927c-bb4bb5f6fbc9",
   "metadata": {},
   "outputs": [],
   "source": [
    "import sympy as sp"
   ]
  },
  {
   "cell_type": "code",
   "execution_count": 3,
   "id": "f8ee5ffa-f53d-468e-9705-148fddd6f4ac",
   "metadata": {},
   "outputs": [],
   "source": [
    "x, y, z = sp.symbols('x, y, z', real=True)\n",
    "C = sp.symbols('C')"
   ]
  },
  {
   "cell_type": "markdown",
   "id": "4397ec6a-34f1-405b-a1d9-e48d7cc00b58",
   "metadata": {},
   "source": [
    "## Indefinte Integrals"
   ]
  },
  {
   "cell_type": "markdown",
   "id": "4a7bf86d-17ae-46f9-916d-77260d659d71",
   "metadata": {},
   "source": [
    "### Example 1"
   ]
  },
  {
   "cell_type": "code",
   "execution_count": 4,
   "id": "9f7ff127-ac11-41a2-8b66-3ee190216077",
   "metadata": {},
   "outputs": [
    {
     "data": {
      "text/latex": [
       "$\\displaystyle \\sin{\\left(3 x \\right)} \\cos{\\left(2 x \\right)}$"
      ],
      "text/plain": [
       "sin(3*x)*cos(2*x)"
      ]
     },
     "execution_count": 4,
     "metadata": {},
     "output_type": "execute_result"
    }
   ],
   "source": [
    "f = sp.cos(2 * x) * sp.sin(3 * x)\n",
    "f"
   ]
  },
  {
   "cell_type": "code",
   "execution_count": 5,
   "id": "1f45fef4-5b79-425e-8d9e-4c6751236587",
   "metadata": {},
   "outputs": [
    {
     "data": {
      "text/latex": [
       "$\\displaystyle - \\frac{2 \\sin{\\left(2 x \\right)} \\sin{\\left(3 x \\right)}}{5} - \\frac{3 \\cos{\\left(2 x \\right)} \\cos{\\left(3 x \\right)}}{5}$"
      ],
      "text/plain": [
       "-2*sin(2*x)*sin(3*x)/5 - 3*cos(2*x)*cos(3*x)/5"
      ]
     },
     "execution_count": 5,
     "metadata": {},
     "output_type": "execute_result"
    }
   ],
   "source": [
    "sp.integrate(f)"
   ]
  },
  {
   "cell_type": "code",
   "execution_count": 6,
   "id": "fa348230-97a3-4455-a246-9d9141a944e6",
   "metadata": {},
   "outputs": [
    {
     "data": {
      "text/latex": [
       "$\\displaystyle \\sin{\\left(3 x \\right)} \\cos{\\left(2 x \\right)}$"
      ],
      "text/plain": [
       "sin(3*x)*cos(2*x)"
      ]
     },
     "execution_count": 6,
     "metadata": {},
     "output_type": "execute_result"
    }
   ],
   "source": [
    "sp.integrate(f).diff()"
   ]
  },
  {
   "cell_type": "markdown",
   "id": "3c1dec16-a1d5-4db3-bb8c-b62cc5026db6",
   "metadata": {},
   "source": [
    "By default, in indefinite integrals, it will not show the **+C** terms, so we can do this:"
   ]
  },
  {
   "cell_type": "code",
   "execution_count": 7,
   "id": "54046daa-3a5a-4c07-80aa-f345bb52d99f",
   "metadata": {},
   "outputs": [
    {
     "data": {
      "text/latex": [
       "$\\displaystyle C - \\frac{2 \\sin{\\left(2 x \\right)} \\sin{\\left(3 x \\right)}}{5} - \\frac{3 \\cos{\\left(2 x \\right)} \\cos{\\left(3 x \\right)}}{5}$"
      ],
      "text/plain": [
       "C - 2*sin(2*x)*sin(3*x)/5 - 3*cos(2*x)*cos(3*x)/5"
      ]
     },
     "execution_count": 7,
     "metadata": {},
     "output_type": "execute_result"
    }
   ],
   "source": [
    "sp.integrate(f) + C"
   ]
  },
  {
   "cell_type": "markdown",
   "id": "eb0fe23a-9ea5-4240-80a0-9bac08d3b4f6",
   "metadata": {},
   "source": [
    "### Can emphasize the variable x"
   ]
  },
  {
   "cell_type": "code",
   "execution_count": 10,
   "id": "833de6b9-1c70-497f-9586-af19f4648208",
   "metadata": {},
   "outputs": [
    {
     "data": {
      "text/latex": [
       "$\\displaystyle - \\frac{2 \\sin{\\left(2 x \\right)} \\sin{\\left(3 x \\right)}}{5} - \\frac{3 \\cos{\\left(2 x \\right)} \\cos{\\left(3 x \\right)}}{5}$"
      ],
      "text/plain": [
       "-2*sin(2*x)*sin(3*x)/5 - 3*cos(2*x)*cos(3*x)/5"
      ]
     },
     "execution_count": 10,
     "metadata": {},
     "output_type": "execute_result"
    }
   ],
   "source": [
    "sp.integrate(f, x)"
   ]
  },
  {
   "cell_type": "markdown",
   "id": "e588903f-2883-487e-bcd7-cd1a09178c3a",
   "metadata": {},
   "source": [
    "## Example 2"
   ]
  },
  {
   "cell_type": "code",
   "execution_count": 12,
   "id": "97b2d8b5-2a26-4ca8-8a17-0499916cc512",
   "metadata": {},
   "outputs": [
    {
     "data": {
      "text/latex": [
       "$\\displaystyle x^{y}$"
      ],
      "text/plain": [
       "x**y"
      ]
     },
     "execution_count": 12,
     "metadata": {},
     "output_type": "execute_result"
    }
   ],
   "source": [
    "g = x ** y\n",
    "g"
   ]
  },
  {
   "cell_type": "markdown",
   "id": "a9c41cd5-06ca-4481-a690-6a3421fdace0",
   "metadata": {},
   "source": [
    "#### If we dont specify the variable, we will meet an error."
   ]
  },
  {
   "cell_type": "code",
   "execution_count": 13,
   "id": "e12770e7-bf44-4980-9b8a-bbcd2944add1",
   "metadata": {
    "collapsed": true,
    "jupyter": {
     "outputs_hidden": true
    },
    "tags": []
   },
   "outputs": [
    {
     "ename": "ValueError",
     "evalue": "specify dummy variables for x**y",
     "output_type": "error",
     "traceback": [
      "\u001b[1;31m---------------------------------------------------------------------------\u001b[0m",
      "\u001b[1;31mValueError\u001b[0m                                Traceback (most recent call last)",
      "Input \u001b[1;32mIn [13]\u001b[0m, in \u001b[0;36m<cell line: 1>\u001b[1;34m()\u001b[0m\n\u001b[1;32m----> 1\u001b[0m h \u001b[38;5;241m=\u001b[39m \u001b[43msp\u001b[49m\u001b[38;5;241;43m.\u001b[39;49m\u001b[43mintegrate\u001b[49m\u001b[43m(\u001b[49m\u001b[43mg\u001b[49m\u001b[43m)\u001b[49m\n",
      "File \u001b[1;32mD:\\Dev\\anaconda3\\envs\\math\\lib\\site-packages\\sympy\\integrals\\integrals.py:1549\u001b[0m, in \u001b[0;36mintegrate\u001b[1;34m(meijerg, conds, risch, heurisch, manual, *args, **kwargs)\u001b[0m\n\u001b[0;32m   1390\u001b[0m \u001b[38;5;124;03m\"\"\"integrate(f, var, ...)\u001b[39;00m\n\u001b[0;32m   1391\u001b[0m \n\u001b[0;32m   1392\u001b[0m \u001b[38;5;124;03mExplanation\u001b[39;00m\n\u001b[1;32m   (...)\u001b[0m\n\u001b[0;32m   1539\u001b[0m \n\u001b[0;32m   1540\u001b[0m \u001b[38;5;124;03m\"\"\"\u001b[39;00m\n\u001b[0;32m   1541\u001b[0m doit_flags \u001b[38;5;241m=\u001b[39m {\n\u001b[0;32m   1542\u001b[0m     \u001b[38;5;124m'\u001b[39m\u001b[38;5;124mdeep\u001b[39m\u001b[38;5;124m'\u001b[39m: \u001b[38;5;28;01mFalse\u001b[39;00m,\n\u001b[0;32m   1543\u001b[0m     \u001b[38;5;124m'\u001b[39m\u001b[38;5;124mmeijerg\u001b[39m\u001b[38;5;124m'\u001b[39m: meijerg,\n\u001b[1;32m   (...)\u001b[0m\n\u001b[0;32m   1547\u001b[0m     \u001b[38;5;124m'\u001b[39m\u001b[38;5;124mmanual\u001b[39m\u001b[38;5;124m'\u001b[39m: manual\n\u001b[0;32m   1548\u001b[0m     }\n\u001b[1;32m-> 1549\u001b[0m integral \u001b[38;5;241m=\u001b[39m \u001b[43mIntegral\u001b[49m\u001b[43m(\u001b[49m\u001b[38;5;241;43m*\u001b[39;49m\u001b[43margs\u001b[49m\u001b[43m,\u001b[49m\u001b[43m \u001b[49m\u001b[38;5;241;43m*\u001b[39;49m\u001b[38;5;241;43m*\u001b[39;49m\u001b[43mkwargs\u001b[49m\u001b[43m)\u001b[49m\n\u001b[0;32m   1551\u001b[0m \u001b[38;5;28;01mif\u001b[39;00m \u001b[38;5;28misinstance\u001b[39m(integral, Integral):\n\u001b[0;32m   1552\u001b[0m     \u001b[38;5;28;01mreturn\u001b[39;00m integral\u001b[38;5;241m.\u001b[39mdoit(\u001b[38;5;241m*\u001b[39m\u001b[38;5;241m*\u001b[39mdoit_flags)\n",
      "File \u001b[1;32mD:\\Dev\\anaconda3\\envs\\math\\lib\\site-packages\\sympy\\integrals\\integrals.py:91\u001b[0m, in \u001b[0;36mIntegral.__new__\u001b[1;34m(cls, function, *symbols, **assumptions)\u001b[0m\n\u001b[0;32m     84\u001b[0m \u001b[38;5;28;01mif\u001b[39;00m \u001b[38;5;28misinstance\u001b[39m(function, Poly):\n\u001b[0;32m     85\u001b[0m     SymPyDeprecationWarning(\n\u001b[0;32m     86\u001b[0m         feature\u001b[38;5;241m=\u001b[39m\u001b[38;5;124m\"\u001b[39m\u001b[38;5;124mUsing integrate/Integral with Poly\u001b[39m\u001b[38;5;124m\"\u001b[39m,\n\u001b[0;32m     87\u001b[0m         issue\u001b[38;5;241m=\u001b[39m\u001b[38;5;241m18613\u001b[39m,\n\u001b[0;32m     88\u001b[0m         deprecated_since_version\u001b[38;5;241m=\u001b[39m\u001b[38;5;124m\"\u001b[39m\u001b[38;5;124m1.6\u001b[39m\u001b[38;5;124m\"\u001b[39m,\n\u001b[0;32m     89\u001b[0m         useinstead\u001b[38;5;241m=\u001b[39m\u001b[38;5;124m\"\u001b[39m\u001b[38;5;124mthe as_expr or integrate methods of Poly\u001b[39m\u001b[38;5;124m\"\u001b[39m)\u001b[38;5;241m.\u001b[39mwarn()\n\u001b[1;32m---> 91\u001b[0m obj \u001b[38;5;241m=\u001b[39m \u001b[43mAddWithLimits\u001b[49m\u001b[38;5;241;43m.\u001b[39;49m\u001b[38;5;21;43m__new__\u001b[39;49m\u001b[43m(\u001b[49m\u001b[38;5;28;43mcls\u001b[39;49m\u001b[43m,\u001b[49m\u001b[43m \u001b[49m\u001b[43mfunction\u001b[49m\u001b[43m,\u001b[49m\u001b[43m \u001b[49m\u001b[38;5;241;43m*\u001b[39;49m\u001b[43msymbols\u001b[49m\u001b[43m,\u001b[49m\u001b[43m \u001b[49m\u001b[38;5;241;43m*\u001b[39;49m\u001b[38;5;241;43m*\u001b[39;49m\u001b[43massumptions\u001b[49m\u001b[43m)\u001b[49m\n\u001b[0;32m     92\u001b[0m \u001b[38;5;28;01mreturn\u001b[39;00m obj\n",
      "File \u001b[1;32mD:\\Dev\\anaconda3\\envs\\math\\lib\\site-packages\\sympy\\concrete\\expr_with_limits.py:498\u001b[0m, in \u001b[0;36mAddWithLimits.__new__\u001b[1;34m(cls, function, *symbols, **assumptions)\u001b[0m\n\u001b[0;32m    497\u001b[0m \u001b[38;5;28;01mdef\u001b[39;00m \u001b[38;5;21m__new__\u001b[39m(\u001b[38;5;28mcls\u001b[39m, function, \u001b[38;5;241m*\u001b[39msymbols, \u001b[38;5;241m*\u001b[39m\u001b[38;5;241m*\u001b[39massumptions):\n\u001b[1;32m--> 498\u001b[0m     pre \u001b[38;5;241m=\u001b[39m \u001b[43m_common_new\u001b[49m\u001b[43m(\u001b[49m\u001b[38;5;28;43mcls\u001b[39;49m\u001b[43m,\u001b[49m\u001b[43m \u001b[49m\u001b[43mfunction\u001b[49m\u001b[43m,\u001b[49m\u001b[43m \u001b[49m\u001b[38;5;241;43m*\u001b[39;49m\u001b[43msymbols\u001b[49m\u001b[43m,\u001b[49m\u001b[43m \u001b[49m\u001b[38;5;241;43m*\u001b[39;49m\u001b[38;5;241;43m*\u001b[39;49m\u001b[43massumptions\u001b[49m\u001b[43m)\u001b[49m\n\u001b[0;32m    499\u001b[0m     \u001b[38;5;28;01mif\u001b[39;00m \u001b[38;5;28mtype\u001b[39m(pre) \u001b[38;5;129;01mis\u001b[39;00m \u001b[38;5;28mtuple\u001b[39m:\n\u001b[0;32m    500\u001b[0m         function, limits, orientation \u001b[38;5;241m=\u001b[39m pre\n",
      "File \u001b[1;32mD:\\Dev\\anaconda3\\envs\\math\\lib\\site-packages\\sympy\\concrete\\expr_with_limits.py:57\u001b[0m, in \u001b[0;36m_common_new\u001b[1;34m(cls, function, *symbols, **assumptions)\u001b[0m\n\u001b[0;32m     55\u001b[0m     free \u001b[38;5;241m=\u001b[39m function\u001b[38;5;241m.\u001b[39mfree_symbols\n\u001b[0;32m     56\u001b[0m     \u001b[38;5;28;01mif\u001b[39;00m \u001b[38;5;28mlen\u001b[39m(free) \u001b[38;5;241m!=\u001b[39m \u001b[38;5;241m1\u001b[39m:\n\u001b[1;32m---> 57\u001b[0m         \u001b[38;5;28;01mraise\u001b[39;00m \u001b[38;5;167;01mValueError\u001b[39;00m(\n\u001b[0;32m     58\u001b[0m             \u001b[38;5;124m\"\u001b[39m\u001b[38;5;124mspecify dummy variables for \u001b[39m\u001b[38;5;132;01m%s\u001b[39;00m\u001b[38;5;124m\"\u001b[39m \u001b[38;5;241m%\u001b[39m function)\n\u001b[0;32m     59\u001b[0m     limits, orientation \u001b[38;5;241m=\u001b[39m [Tuple(s) \u001b[38;5;28;01mfor\u001b[39;00m s \u001b[38;5;129;01min\u001b[39;00m free], \u001b[38;5;241m1\u001b[39m\n\u001b[0;32m     61\u001b[0m \u001b[38;5;66;03m# denest any nested calls\u001b[39;00m\n",
      "\u001b[1;31mValueError\u001b[0m: specify dummy variables for x**y"
     ]
    }
   ],
   "source": [
    "h = sp.integrate(g)"
   ]
  },
  {
   "cell_type": "code",
   "execution_count": 16,
   "id": "f0978e88-7880-4380-b1cb-ecbf66c78a60",
   "metadata": {},
   "outputs": [
    {
     "data": {
      "text/latex": [
       "$\\displaystyle \\begin{cases} \\frac{x^{y + 1}}{y + 1} & \\text{for}\\: y \\neq -1 \\\\\\log{\\left(x \\right)} & \\text{otherwise} \\end{cases}$"
      ],
      "text/plain": [
       "Piecewise((x**(y + 1)/(y + 1), Ne(y, -1)), (log(x), True))"
      ]
     },
     "execution_count": 16,
     "metadata": {},
     "output_type": "execute_result"
    }
   ],
   "source": [
    "h = sp.integrate(g, x)\n",
    "h"
   ]
  },
  {
   "cell_type": "code",
   "execution_count": 18,
   "id": "86f2d2ea-bc39-4823-a24e-5ce291689906",
   "metadata": {},
   "outputs": [
    {
     "data": {
      "text/plain": [
       "Piecewise"
      ]
     },
     "execution_count": 18,
     "metadata": {},
     "output_type": "execute_result"
    }
   ],
   "source": [
    "type(h) # a piecewise defined function"
   ]
  },
  {
   "cell_type": "markdown",
   "id": "07b43914-fc3a-439a-bd57-da85e49bff8c",
   "metadata": {},
   "source": [
    "#### composite functions"
   ]
  },
  {
   "cell_type": "code",
   "execution_count": 22,
   "id": "373564d7-f976-4ef6-a3d7-292f018e2b74",
   "metadata": {},
   "outputs": [
    {
     "data": {
      "text/latex": [
       "$\\displaystyle \\left(\\begin{cases} \\frac{x^{y + 1}}{y + 1} & \\text{for}\\: y \\neq -1 \\\\\\log{\\left(x \\right)} & \\text{otherwise} \\end{cases}\\right) \\sin{\\left(3 x \\right)} \\cos{\\left(2 x \\right)}$"
      ],
      "text/plain": [
       "Piecewise((x**(y + 1)/(y + 1), Ne(y, -1)), (log(x), True))*sin(3*x)*cos(2*x)"
      ]
     },
     "execution_count": 22,
     "metadata": {},
     "output_type": "execute_result"
    }
   ],
   "source": [
    "h * f"
   ]
  },
  {
   "cell_type": "code",
   "execution_count": 25,
   "id": "691106a2-8c1e-4262-8370-4c122d8f5777",
   "metadata": {},
   "outputs": [
    {
     "data": {
      "text/latex": [
       "$\\displaystyle \\begin{cases} \\frac{x^{y + 1} \\sin{\\left(3 x \\right)} \\cos{\\left(2 x \\right)}}{y + 1} & \\text{for}\\: y \\neq -1 \\\\\\log{\\left(x \\right)} \\sin{\\left(3 x \\right)} \\cos{\\left(2 x \\right)} & \\text{otherwise} \\end{cases}$"
      ],
      "text/plain": [
       "Piecewise((x**(y + 1)*sin(3*x)*cos(2*x)/(y + 1), Ne(y, -1)), (log(x)*sin(3*x)*cos(2*x), True))"
      ]
     },
     "execution_count": 25,
     "metadata": {},
     "output_type": "execute_result"
    }
   ],
   "source": [
    "(h * f).simplify()"
   ]
  },
  {
   "cell_type": "markdown",
   "id": "25d805ee-e953-4b65-a7a5-a0e72a5c2471",
   "metadata": {},
   "source": [
    "## Definite Integrals"
   ]
  },
  {
   "cell_type": "markdown",
   "id": "566abdc8-649f-4378-ad4f-3c4fb7e0804b",
   "metadata": {},
   "source": [
    "## Example 1"
   ]
  },
  {
   "cell_type": "code",
   "execution_count": 28,
   "id": "1590bb0a-5a8c-4406-a9bd-8169aaa83ac3",
   "metadata": {},
   "outputs": [
    {
     "data": {
      "text/latex": [
       "$\\displaystyle \\sin{\\left(3 x \\right)} \\cos{\\left(2 x \\right)}$"
      ],
      "text/plain": [
       "sin(3*x)*cos(2*x)"
      ]
     },
     "execution_count": 28,
     "metadata": {},
     "output_type": "execute_result"
    }
   ],
   "source": [
    "f"
   ]
  },
  {
   "cell_type": "code",
   "execution_count": 29,
   "id": "2aa05577-4fda-4ba9-9cd2-2e3e9310a402",
   "metadata": {},
   "outputs": [
    {
     "data": {
      "text/latex": [
       "$\\displaystyle \\frac{6}{5}$"
      ],
      "text/plain": [
       "6/5"
      ]
     },
     "execution_count": 29,
     "metadata": {},
     "output_type": "execute_result"
    }
   ],
   "source": [
    "sp.integrate(f, (x, 0, sp.pi))"
   ]
  },
  {
   "cell_type": "markdown",
   "id": "1272d03d-a615-49b9-96f6-e27608e6c734",
   "metadata": {},
   "source": [
    "### Example 2"
   ]
  },
  {
   "cell_type": "code",
   "execution_count": 32,
   "id": "bb4b521a-3218-40fc-aa24-700ac05b8011",
   "metadata": {},
   "outputs": [
    {
     "data": {
      "text/latex": [
       "$\\displaystyle e^{- x}$"
      ],
      "text/plain": [
       "exp(-x)"
      ]
     },
     "execution_count": 32,
     "metadata": {},
     "output_type": "execute_result"
    }
   ],
   "source": [
    "u = sp.exp(-x)\n",
    "u"
   ]
  },
  {
   "cell_type": "code",
   "execution_count": 33,
   "id": "57f0d232-c537-4b39-bfec-2a93818aeaf1",
   "metadata": {},
   "outputs": [
    {
     "data": {
      "text/latex": [
       "$\\displaystyle 1$"
      ],
      "text/plain": [
       "1"
      ]
     },
     "execution_count": 33,
     "metadata": {},
     "output_type": "execute_result"
    }
   ],
   "source": [
    "sp.integrate(u, (x, 0, sp.oo))"
   ]
  },
  {
   "cell_type": "markdown",
   "id": "0f45f59a-2b33-48f6-b44d-00d40c8b34d1",
   "metadata": {},
   "source": [
    "## Multivariable Integrals"
   ]
  },
  {
   "cell_type": "code",
   "execution_count": 36,
   "id": "2ec4872b-a6ec-4b1e-90fc-a329fa5d7b0c",
   "metadata": {},
   "outputs": [
    {
     "data": {
      "text/latex": [
       "$\\displaystyle x y z^{2}$"
      ],
      "text/plain": [
       "x*y*z**2"
      ]
     },
     "execution_count": 36,
     "metadata": {},
     "output_type": "execute_result"
    }
   ],
   "source": [
    "w = x * y * z ** 2\n",
    "w"
   ]
  },
  {
   "cell_type": "code",
   "execution_count": 37,
   "id": "3033ffe8-1f38-44c1-ae43-caf371e15db8",
   "metadata": {},
   "outputs": [
    {
     "data": {
      "text/latex": [
       "$\\displaystyle \\frac{x^{2} y^{2} z^{2}}{4}$"
      ],
      "text/plain": [
       "x**2*y**2*z**2/4"
      ]
     },
     "execution_count": 37,
     "metadata": {},
     "output_type": "execute_result"
    }
   ],
   "source": [
    "sp.integrate(w, x, y)"
   ]
  },
  {
   "cell_type": "code",
   "execution_count": 38,
   "id": "4aca751a-c37d-4ee5-8e80-346cc41ce6c4",
   "metadata": {},
   "outputs": [
    {
     "data": {
      "text/latex": [
       "$\\displaystyle 54$"
      ],
      "text/plain": [
       "54"
      ]
     },
     "execution_count": 38,
     "metadata": {},
     "output_type": "execute_result"
    }
   ],
   "source": [
    "sp.integrate(w, (x, 0, 1), (y, 1, 5), (z, 0, 3))"
   ]
  },
  {
   "cell_type": "code",
   "execution_count": null,
   "id": "41f08194-3cc7-419b-ac29-1db65a341557",
   "metadata": {},
   "outputs": [],
   "source": []
  }
 ],
 "metadata": {
  "kernelspec": {
   "display_name": "Math",
   "language": "python",
   "name": "math"
  },
  "language_info": {
   "codemirror_mode": {
    "name": "ipython",
    "version": 3
   },
   "file_extension": ".py",
   "mimetype": "text/x-python",
   "name": "python",
   "nbconvert_exporter": "python",
   "pygments_lexer": "ipython3",
   "version": "3.8.12"
  }
 },
 "nbformat": 4,
 "nbformat_minor": 5
}
