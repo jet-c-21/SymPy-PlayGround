{
 "cells": [
  {
   "cell_type": "markdown",
   "id": "6a198c50-b9d3-4562-831c-684eb16c8a12",
   "metadata": {},
   "source": [
    "# Introduction to SymPy"
   ]
  },
  {
   "cell_type": "code",
   "execution_count": 6,
   "id": "19d98de7-5593-4477-b70f-c0444da3cf84",
   "metadata": {},
   "outputs": [],
   "source": [
    "import sympy as sp\n",
    "import math"
   ]
  },
  {
   "cell_type": "code",
   "execution_count": 7,
   "id": "ef890e60-b36c-447f-a451-156101e9c6c1",
   "metadata": {},
   "outputs": [
    {
     "data": {
      "text/latex": [
       "$\\displaystyle \\sqrt{2}$"
      ],
      "text/plain": [
       "sqrt(2)"
      ]
     },
     "execution_count": 7,
     "metadata": {},
     "output_type": "execute_result"
    }
   ],
   "source": [
    "sp.sqrt(2)"
   ]
  },
  {
   "cell_type": "markdown",
   "id": "e3fe594a-2369-44b0-9b35-b461d5dbe304",
   "metadata": {},
   "source": [
    "#### Symbolic"
   ]
  },
  {
   "cell_type": "code",
   "execution_count": 8,
   "id": "788b346f-07e9-492c-8264-ab1c714b037c",
   "metadata": {},
   "outputs": [
    {
     "data": {
      "text/latex": [
       "$\\displaystyle 2$"
      ],
      "text/plain": [
       "2"
      ]
     },
     "execution_count": 8,
     "metadata": {},
     "output_type": "execute_result"
    }
   ],
   "source": [
    "sp.sqrt(2) ** 2 "
   ]
  },
  {
   "cell_type": "markdown",
   "id": "4c25d149-1c17-448d-a5c4-295a7bfb0d0a",
   "metadata": {},
   "source": [
    "#### Numeric"
   ]
  },
  {
   "cell_type": "code",
   "execution_count": 9,
   "id": "42508ea0-ee13-420b-aeff-ccfe04226840",
   "metadata": {},
   "outputs": [
    {
     "data": {
      "text/plain": [
       "2.0000000000000004"
      ]
     },
     "execution_count": 9,
     "metadata": {},
     "output_type": "execute_result"
    }
   ],
   "source": [
    "math.sqrt(2) ** 2"
   ]
  },
  {
   "cell_type": "code",
   "execution_count": null,
   "id": "67b86d2c-dcfa-4d4c-83e5-266403fafac8",
   "metadata": {},
   "outputs": [],
   "source": []
  }
 ],
 "metadata": {
  "kernelspec": {
   "display_name": "Math",
   "language": "python",
   "name": "math"
  },
  "language_info": {
   "codemirror_mode": {
    "name": "ipython",
    "version": 3
   },
   "file_extension": ".py",
   "mimetype": "text/x-python",
   "name": "python",
   "nbconvert_exporter": "python",
   "pygments_lexer": "ipython3",
   "version": "3.8.12"
  }
 },
 "nbformat": 4,
 "nbformat_minor": 5
}
